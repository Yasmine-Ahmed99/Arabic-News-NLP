{
 "cells": [
  {
   "cell_type": "code",
   "execution_count": 1,
   "id": "e9c9d4b3",
   "metadata": {},
   "outputs": [],
   "source": [
    "# preprocessing.ipynb"
   ]
  },
  {
   "cell_type": "code",
   "execution_count": 20,
   "id": "7df50ead",
   "metadata": {},
   "outputs": [
    {
     "data": {
      "text/html": [
       "<div>\n",
       "<style scoped>\n",
       "    .dataframe tbody tr th:only-of-type {\n",
       "        vertical-align: middle;\n",
       "    }\n",
       "\n",
       "    .dataframe tbody tr th {\n",
       "        vertical-align: top;\n",
       "    }\n",
       "\n",
       "    .dataframe thead th {\n",
       "        text-align: right;\n",
       "    }\n",
       "</style>\n",
       "<table border=\"1\" class=\"dataframe\">\n",
       "  <thead>\n",
       "    <tr style=\"text-align: right;\">\n",
       "      <th></th>\n",
       "      <th>source</th>\n",
       "      <th>title</th>\n",
       "      <th>summary</th>\n",
       "      <th>link</th>\n",
       "      <th>published</th>\n",
       "      <th>collected_at</th>\n",
       "    </tr>\n",
       "  </thead>\n",
       "  <tbody>\n",
       "    <tr>\n",
       "      <th>0</th>\n",
       "      <td>skynewsarabia</td>\n",
       "      <td>تقرير: ترامب يوقع خلال ساعات أمرا بشأن تخفيف ع...</td>\n",
       "      <td>ذكر مراسل لشبكة سي.بي.إس على منصة \"إكس\" أن الر...</td>\n",
       "      <td>https://www.skynewsarabia.com/middle-east/1805...</td>\n",
       "      <td>Mon, 30 Jun 2025 15:04:46 GMT</td>\n",
       "      <td>2025-06-30T15:19:24.323144</td>\n",
       "    </tr>\n",
       "    <tr>\n",
       "      <th>1</th>\n",
       "      <td>skynewsarabia</td>\n",
       "      <td>الإمارات تعزي في ضحايا انهيار منجم ذهب في السودان</td>\n",
       "      <td>عبّرت دولة الإمارات عن تعازيها الصادقة وتضامنه...</td>\n",
       "      <td>https://www.skynewsarabia.com/middle-east/1805...</td>\n",
       "      <td>Mon, 30 Jun 2025 15:01:39 GMT</td>\n",
       "      <td>2025-06-30T15:19:24.323144</td>\n",
       "    </tr>\n",
       "    <tr>\n",
       "      <th>2</th>\n",
       "      <td>skynewsarabia</td>\n",
       "      <td>مصادر: محادثات مباشرة بين سوريا وإسرائيل بشأن ...</td>\n",
       "      <td>تجري إسرائيل وسوريا محادثات مباشرة تركز على \"ت...</td>\n",
       "      <td>https://www.skynewsarabia.com/middle-east/1805...</td>\n",
       "      <td>Mon, 30 Jun 2025 15:00:45 GMT</td>\n",
       "      <td>2025-06-30T15:19:24.323144</td>\n",
       "    </tr>\n",
       "    <tr>\n",
       "      <th>3</th>\n",
       "      <td>skynewsarabia</td>\n",
       "      <td>قصف إسرائيلي مباغت يقتل 24 شخصا في \"استراحة\" ع...</td>\n",
       "      <td>أكدت وسائل إعلام فلسطينية، قيام الجيش الإسرائي...</td>\n",
       "      <td>https://www.skynewsarabia.com/middle-east/1805...</td>\n",
       "      <td>Mon, 30 Jun 2025 14:18:38 GMT</td>\n",
       "      <td>2025-06-30T15:19:24.323144</td>\n",
       "    </tr>\n",
       "    <tr>\n",
       "      <th>4</th>\n",
       "      <td>skynewsarabia</td>\n",
       "      <td>\"حملة ممنهجة\".. بيان من محامي شيرين بعد جدل \"م...</td>\n",
       "      <td>قال محامي الفنانة شيرين عبد الوهاب ياسر قنطوش،...</td>\n",
       "      <td>https://www.skynewsarabia.com/varieties/180597...</td>\n",
       "      <td>Mon, 30 Jun 2025 14:08:43 GMT</td>\n",
       "      <td>2025-06-30T15:19:24.323144</td>\n",
       "    </tr>\n",
       "  </tbody>\n",
       "</table>\n",
       "</div>"
      ],
      "text/plain": [
       "          source                                              title  \\\n",
       "0  skynewsarabia  تقرير: ترامب يوقع خلال ساعات أمرا بشأن تخفيف ع...   \n",
       "1  skynewsarabia  الإمارات تعزي في ضحايا انهيار منجم ذهب في السودان   \n",
       "2  skynewsarabia  مصادر: محادثات مباشرة بين سوريا وإسرائيل بشأن ...   \n",
       "3  skynewsarabia  قصف إسرائيلي مباغت يقتل 24 شخصا في \"استراحة\" ع...   \n",
       "4  skynewsarabia  \"حملة ممنهجة\".. بيان من محامي شيرين بعد جدل \"م...   \n",
       "\n",
       "                                             summary  \\\n",
       "0  ذكر مراسل لشبكة سي.بي.إس على منصة \"إكس\" أن الر...   \n",
       "1  عبّرت دولة الإمارات عن تعازيها الصادقة وتضامنه...   \n",
       "2  تجري إسرائيل وسوريا محادثات مباشرة تركز على \"ت...   \n",
       "3  أكدت وسائل إعلام فلسطينية، قيام الجيش الإسرائي...   \n",
       "4  قال محامي الفنانة شيرين عبد الوهاب ياسر قنطوش،...   \n",
       "\n",
       "                                                link  \\\n",
       "0  https://www.skynewsarabia.com/middle-east/1805...   \n",
       "1  https://www.skynewsarabia.com/middle-east/1805...   \n",
       "2  https://www.skynewsarabia.com/middle-east/1805...   \n",
       "3  https://www.skynewsarabia.com/middle-east/1805...   \n",
       "4  https://www.skynewsarabia.com/varieties/180597...   \n",
       "\n",
       "                       published                collected_at  \n",
       "0  Mon, 30 Jun 2025 15:04:46 GMT  2025-06-30T15:19:24.323144  \n",
       "1  Mon, 30 Jun 2025 15:01:39 GMT  2025-06-30T15:19:24.323144  \n",
       "2  Mon, 30 Jun 2025 15:00:45 GMT  2025-06-30T15:19:24.323144  \n",
       "3  Mon, 30 Jun 2025 14:18:38 GMT  2025-06-30T15:19:24.323144  \n",
       "4  Mon, 30 Jun 2025 14:08:43 GMT  2025-06-30T15:19:24.323144  "
      ]
     },
     "execution_count": 20,
     "metadata": {},
     "output_type": "execute_result"
    }
   ],
   "source": [
    "# read the data \n",
    "import pandas as pd \n",
    "data= pd.read_csv('../data/articales.csv')\n",
    "data.head()"
   ]
  },
  {
   "cell_type": "code",
   "execution_count": 21,
   "id": "e0277dd7",
   "metadata": {},
   "outputs": [
    {
     "data": {
      "text/html": [
       "<div>\n",
       "<style scoped>\n",
       "    .dataframe tbody tr th:only-of-type {\n",
       "        vertical-align: middle;\n",
       "    }\n",
       "\n",
       "    .dataframe tbody tr th {\n",
       "        vertical-align: top;\n",
       "    }\n",
       "\n",
       "    .dataframe thead th {\n",
       "        text-align: right;\n",
       "    }\n",
       "</style>\n",
       "<table border=\"1\" class=\"dataframe\">\n",
       "  <thead>\n",
       "    <tr style=\"text-align: right;\">\n",
       "      <th></th>\n",
       "      <th>title</th>\n",
       "      <th>summary</th>\n",
       "    </tr>\n",
       "  </thead>\n",
       "  <tbody>\n",
       "    <tr>\n",
       "      <th>0</th>\n",
       "      <td>تقرير: ترامب يوقع خلال ساعات أمرا بشأن تخفيف ع...</td>\n",
       "      <td>ذكر مراسل لشبكة سي.بي.إس على منصة \"إكس\" أن الر...</td>\n",
       "    </tr>\n",
       "    <tr>\n",
       "      <th>1</th>\n",
       "      <td>الإمارات تعزي في ضحايا انهيار منجم ذهب في السودان</td>\n",
       "      <td>عبّرت دولة الإمارات عن تعازيها الصادقة وتضامنه...</td>\n",
       "    </tr>\n",
       "    <tr>\n",
       "      <th>2</th>\n",
       "      <td>مصادر: محادثات مباشرة بين سوريا وإسرائيل بشأن ...</td>\n",
       "      <td>تجري إسرائيل وسوريا محادثات مباشرة تركز على \"ت...</td>\n",
       "    </tr>\n",
       "    <tr>\n",
       "      <th>3</th>\n",
       "      <td>قصف إسرائيلي مباغت يقتل 24 شخصا في \"استراحة\" ع...</td>\n",
       "      <td>أكدت وسائل إعلام فلسطينية، قيام الجيش الإسرائي...</td>\n",
       "    </tr>\n",
       "    <tr>\n",
       "      <th>4</th>\n",
       "      <td>\"حملة ممنهجة\".. بيان من محامي شيرين بعد جدل \"م...</td>\n",
       "      <td>قال محامي الفنانة شيرين عبد الوهاب ياسر قنطوش،...</td>\n",
       "    </tr>\n",
       "    <tr>\n",
       "      <th>...</th>\n",
       "      <td>...</td>\n",
       "      <td>...</td>\n",
       "    </tr>\n",
       "    <tr>\n",
       "      <th>217</th>\n",
       "      <td>الخارجية الإيرانية: لم يتم اتخاذ قرار نهائي بش...</td>\n",
       "      <td>أكدت الخارجية الإيرانية أن مطلب إيران هو الاعت...</td>\n",
       "    </tr>\n",
       "    <tr>\n",
       "      <th>218</th>\n",
       "      <td>السيسي يخاطب المصريين في ذكرى الإطاحة بالإخوان...</td>\n",
       "      <td>ألقى الرئيس المصري عبد الفتاح السيسي كلمة بمنا...</td>\n",
       "    </tr>\n",
       "    <tr>\n",
       "      <th>219</th>\n",
       "      <td>الهلال السعودي يستعيد الجوير.. ويوزع تذاكر مجا...</td>\n",
       "      <td>أعلن الهلال السعودي عن تقديم تذاكر مجانية لجما...</td>\n",
       "    </tr>\n",
       "    <tr>\n",
       "      <th>220</th>\n",
       "      <td>حادث مروع جديد على الطريق الصحراوي في مصر</td>\n",
       "      <td>لقيَت طفلة مصرعها وأصيب 17 آخرون بجروح وكسور م...</td>\n",
       "    </tr>\n",
       "    <tr>\n",
       "      <th>221</th>\n",
       "      <td>اتفاق الرسوم الجمركية بين المملكة المتحدة والو...</td>\n",
       "      <td>دخل اتفاق لخفض الرسوم الجمركية بين الولايات ال...</td>\n",
       "    </tr>\n",
       "  </tbody>\n",
       "</table>\n",
       "<p>222 rows × 2 columns</p>\n",
       "</div>"
      ],
      "text/plain": [
       "                                                 title  \\\n",
       "0    تقرير: ترامب يوقع خلال ساعات أمرا بشأن تخفيف ع...   \n",
       "1    الإمارات تعزي في ضحايا انهيار منجم ذهب في السودان   \n",
       "2    مصادر: محادثات مباشرة بين سوريا وإسرائيل بشأن ...   \n",
       "3    قصف إسرائيلي مباغت يقتل 24 شخصا في \"استراحة\" ع...   \n",
       "4    \"حملة ممنهجة\".. بيان من محامي شيرين بعد جدل \"م...   \n",
       "..                                                 ...   \n",
       "217  الخارجية الإيرانية: لم يتم اتخاذ قرار نهائي بش...   \n",
       "218  السيسي يخاطب المصريين في ذكرى الإطاحة بالإخوان...   \n",
       "219  الهلال السعودي يستعيد الجوير.. ويوزع تذاكر مجا...   \n",
       "220          حادث مروع جديد على الطريق الصحراوي في مصر   \n",
       "221  اتفاق الرسوم الجمركية بين المملكة المتحدة والو...   \n",
       "\n",
       "                                               summary  \n",
       "0    ذكر مراسل لشبكة سي.بي.إس على منصة \"إكس\" أن الر...  \n",
       "1    عبّرت دولة الإمارات عن تعازيها الصادقة وتضامنه...  \n",
       "2    تجري إسرائيل وسوريا محادثات مباشرة تركز على \"ت...  \n",
       "3    أكدت وسائل إعلام فلسطينية، قيام الجيش الإسرائي...  \n",
       "4    قال محامي الفنانة شيرين عبد الوهاب ياسر قنطوش،...  \n",
       "..                                                 ...  \n",
       "217  أكدت الخارجية الإيرانية أن مطلب إيران هو الاعت...  \n",
       "218  ألقى الرئيس المصري عبد الفتاح السيسي كلمة بمنا...  \n",
       "219  أعلن الهلال السعودي عن تقديم تذاكر مجانية لجما...  \n",
       "220  لقيَت طفلة مصرعها وأصيب 17 آخرون بجروح وكسور م...  \n",
       "221  دخل اتفاق لخفض الرسوم الجمركية بين الولايات ال...  \n",
       "\n",
       "[222 rows x 2 columns]"
      ]
     },
     "execution_count": 21,
     "metadata": {},
     "output_type": "execute_result"
    }
   ],
   "source": [
    "data[['title', 'summary']]"
   ]
  },
  {
   "cell_type": "code",
   "execution_count": 22,
   "id": "cbe539af",
   "metadata": {},
   "outputs": [
    {
     "data": {
      "text/plain": [
       "'تقرير: ترامب يوقع خلال ساعات أمرا بشأن تخفيف عقوبات سوريا'"
      ]
     },
     "execution_count": 22,
     "metadata": {},
     "output_type": "execute_result"
    }
   ],
   "source": [
    "data['title'][0]"
   ]
  },
  {
   "cell_type": "code",
   "execution_count": 23,
   "id": "d5563e59",
   "metadata": {},
   "outputs": [
    {
     "data": {
      "text/plain": [
       "'ذكر مراسل لشبكة سي.بي.إس على منصة \"إكس\" أن الرئيس الأميركي دونالد ترامب سيوقع في وقت لاحق، الاثنين، أمرا تنفيذيا يتعلق بتخفيف العقوبات على سوريا.'"
      ]
     },
     "execution_count": 23,
     "metadata": {},
     "output_type": "execute_result"
    }
   ],
   "source": [
    "data['summary'][0]"
   ]
  },
  {
   "cell_type": "code",
   "execution_count": 7,
   "id": "def48f70",
   "metadata": {},
   "outputs": [
    {
     "name": "stdout",
     "output_type": "stream",
     "text": [
      "Requirement already satisfied: emoji in c:\\users\\yasmine\\appdata\\local\\programs\\python\\python310\\lib\\site-packages (1.4.2)\n"
     ]
    },
    {
     "name": "stderr",
     "output_type": "stream",
     "text": [
      "\n",
      "[notice] A new release of pip is available: 24.2 -> 25.1.1\n",
      "[notice] To update, run: python.exe -m pip install --upgrade pip\n"
     ]
    }
   ],
   "source": [
    "!pip install emoji"
   ]
  },
  {
   "cell_type": "code",
   "execution_count": 9,
   "id": "597fcb6a",
   "metadata": {},
   "outputs": [],
   "source": [
    "import re\n",
    "import string\n",
    "import emoji\n",
    "import nltk\n",
    "from nltk.corpus import stopwords"
   ]
  },
  {
   "cell_type": "code",
   "execution_count": 10,
   "id": "9bcb82ef",
   "metadata": {},
   "outputs": [],
   "source": [
    "\n",
    "stopword_s =set(stopwords.words('arabic')) "
   ]
  },
  {
   "cell_type": "code",
   "execution_count": 24,
   "id": "b742c99f",
   "metadata": {},
   "outputs": [],
   "source": [
    "def clean_text(text) :\n",
    "    text= text.lower()\n",
    "    text= re.sub(r'http\\S+|www.\\S+', '', text)\n",
    "    text = re.sub(r'[^\\w\\s]', '', text)\n",
    "    text = emoji.replace_emoji(text, replace=\"\")\n",
    "    words = text.split()\n",
    "    words = [word for word in words if word not in stopword_s]\n",
    "    text = \" \".join(words)\n",
    "    text = re.sub(r'\\s+', ' ', text).strip()\n",
    "\n",
    "    return text\n"
   ]
  },
  {
   "cell_type": "code",
   "execution_count": 25,
   "id": "1489274a",
   "metadata": {},
   "outputs": [],
   "source": [
    "data['clean_title'] = data['title'].apply(clean_text)\n",
    "data['clean_summary'] = data['summary'].apply(clean_text)\n",
    "data['combined_text'] = data['title'].fillna('') + ' ' + data['summary'].fillna('')\n",
    "data['clean_combined_text'] = data['combined_text'].apply(clean_text)"
   ]
  },
  {
   "cell_type": "code",
   "execution_count": 26,
   "id": "81cfc36b",
   "metadata": {},
   "outputs": [
    {
     "data": {
      "text/html": [
       "<div>\n",
       "<style scoped>\n",
       "    .dataframe tbody tr th:only-of-type {\n",
       "        vertical-align: middle;\n",
       "    }\n",
       "\n",
       "    .dataframe tbody tr th {\n",
       "        vertical-align: top;\n",
       "    }\n",
       "\n",
       "    .dataframe thead th {\n",
       "        text-align: right;\n",
       "    }\n",
       "</style>\n",
       "<table border=\"1\" class=\"dataframe\">\n",
       "  <thead>\n",
       "    <tr style=\"text-align: right;\">\n",
       "      <th></th>\n",
       "      <th>clean_title</th>\n",
       "      <th>clean_summary</th>\n",
       "      <th>clean_combined_text</th>\n",
       "    </tr>\n",
       "  </thead>\n",
       "  <tbody>\n",
       "    <tr>\n",
       "      <th>0</th>\n",
       "      <td>تقرير ترامب يوقع خلال ساعات أمرا بشأن تخفيف عق...</td>\n",
       "      <td>ذكر مراسل لشبكة سيبيإس منصة إكس الرئيس الأميرك...</td>\n",
       "      <td>تقرير ترامب يوقع خلال ساعات أمرا بشأن تخفيف عق...</td>\n",
       "    </tr>\n",
       "    <tr>\n",
       "      <th>1</th>\n",
       "      <td>الإمارات تعزي ضحايا انهيار منجم السودان</td>\n",
       "      <td>عبرت دولة الإمارات تعازيها الصادقة وتضامنها أس...</td>\n",
       "      <td>الإمارات تعزي ضحايا انهيار منجم السودان عبرت د...</td>\n",
       "    </tr>\n",
       "    <tr>\n",
       "      <th>2</th>\n",
       "      <td>مصادر محادثات مباشرة سوريا وإسرائيل بشأن ترتيب...</td>\n",
       "      <td>تجري إسرائيل وسوريا محادثات مباشرة تركز ترتيبا...</td>\n",
       "      <td>مصادر محادثات مباشرة سوريا وإسرائيل بشأن ترتيب...</td>\n",
       "    </tr>\n",
       "    <tr>\n",
       "      <th>3</th>\n",
       "      <td>قصف إسرائيلي مباغت يقتل 24 شخصا استراحة شاطئ غزة</td>\n",
       "      <td>أكدت وسائل إعلام فلسطينية قيام الجيش الإسرائيل...</td>\n",
       "      <td>قصف إسرائيلي مباغت يقتل 24 شخصا استراحة شاطئ غ...</td>\n",
       "    </tr>\n",
       "    <tr>\n",
       "      <th>4</th>\n",
       "      <td>حملة ممنهجة بيان محامي شيرين جدل موازين</td>\n",
       "      <td>قال محامي الفنانة شيرين عبد الوهاب ياسر قنطوش ...</td>\n",
       "      <td>حملة ممنهجة بيان محامي شيرين جدل موازين قال مح...</td>\n",
       "    </tr>\n",
       "  </tbody>\n",
       "</table>\n",
       "</div>"
      ],
      "text/plain": [
       "                                         clean_title  \\\n",
       "0  تقرير ترامب يوقع خلال ساعات أمرا بشأن تخفيف عق...   \n",
       "1            الإمارات تعزي ضحايا انهيار منجم السودان   \n",
       "2  مصادر محادثات مباشرة سوريا وإسرائيل بشأن ترتيب...   \n",
       "3   قصف إسرائيلي مباغت يقتل 24 شخصا استراحة شاطئ غزة   \n",
       "4            حملة ممنهجة بيان محامي شيرين جدل موازين   \n",
       "\n",
       "                                       clean_summary  \\\n",
       "0  ذكر مراسل لشبكة سيبيإس منصة إكس الرئيس الأميرك...   \n",
       "1  عبرت دولة الإمارات تعازيها الصادقة وتضامنها أس...   \n",
       "2  تجري إسرائيل وسوريا محادثات مباشرة تركز ترتيبا...   \n",
       "3  أكدت وسائل إعلام فلسطينية قيام الجيش الإسرائيل...   \n",
       "4  قال محامي الفنانة شيرين عبد الوهاب ياسر قنطوش ...   \n",
       "\n",
       "                                 clean_combined_text  \n",
       "0  تقرير ترامب يوقع خلال ساعات أمرا بشأن تخفيف عق...  \n",
       "1  الإمارات تعزي ضحايا انهيار منجم السودان عبرت د...  \n",
       "2  مصادر محادثات مباشرة سوريا وإسرائيل بشأن ترتيب...  \n",
       "3  قصف إسرائيلي مباغت يقتل 24 شخصا استراحة شاطئ غ...  \n",
       "4  حملة ممنهجة بيان محامي شيرين جدل موازين قال مح...  "
      ]
     },
     "execution_count": 26,
     "metadata": {},
     "output_type": "execute_result"
    }
   ],
   "source": [
    "data[['clean_title', 'clean_summary' , 'clean_combined_text']].head()"
   ]
  },
  {
   "cell_type": "code",
   "execution_count": 27,
   "id": "467fdd49",
   "metadata": {},
   "outputs": [],
   "source": [
    "data.to_csv('../data/cleaned_data.csv' , index=False , encoding=\"utf-8-sig\")"
   ]
  },
  {
   "cell_type": "code",
   "execution_count": null,
   "id": "941130e8",
   "metadata": {},
   "outputs": [],
   "source": []
  }
 ],
 "metadata": {
  "kernelspec": {
   "display_name": "Python 3",
   "language": "python",
   "name": "python3"
  },
  "language_info": {
   "codemirror_mode": {
    "name": "ipython",
    "version": 3
   },
   "file_extension": ".py",
   "mimetype": "text/x-python",
   "name": "python",
   "nbconvert_exporter": "python",
   "pygments_lexer": "ipython3",
   "version": "3.10.6"
  }
 },
 "nbformat": 4,
 "nbformat_minor": 5
}
