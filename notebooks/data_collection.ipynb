{
 "cells": [
  {
   "cell_type": "code",
   "execution_count": null,
   "id": "41db1884",
   "metadata": {},
   "outputs": [],
   "source": [
    "# data_collection "
   ]
  },
  {
   "cell_type": "code",
   "execution_count": 1,
   "id": "44abf22b",
   "metadata": {},
   "outputs": [],
   "source": [
    "# load data from RSS Feeds"
   ]
  },
  {
   "cell_type": "code",
   "execution_count": 7,
   "id": "8113ad71",
   "metadata": {},
   "outputs": [
    {
     "name": "stdout",
     "output_type": "stream",
     "text": [
      "Collecting feedparser"
     ]
    },
    {
     "name": "stderr",
     "output_type": "stream",
     "text": [
      "\n",
      "[notice] A new release of pip is available: 24.2 -> 25.1.1\n",
      "[notice] To update, run: python.exe -m pip install --upgrade pip\n"
     ]
    },
    {
     "name": "stdout",
     "output_type": "stream",
     "text": [
      "\n",
      "  Downloading feedparser-6.0.11-py3-none-any.whl.metadata (2.4 kB)\n",
      "Collecting sgmllib3k (from feedparser)\n",
      "  Using cached sgmllib3k-1.0.0-py3-none-any.whl\n",
      "Downloading feedparser-6.0.11-py3-none-any.whl (81 kB)\n",
      "Installing collected packages: sgmllib3k, feedparser\n",
      "Successfully installed feedparser-6.0.11 sgmllib3k-1.0.0\n"
     ]
    }
   ],
   "source": [
    "!pip install feedparser"
   ]
  },
  {
   "cell_type": "code",
   "execution_count": 21,
   "id": "62e0c1c5",
   "metadata": {},
   "outputs": [],
   "source": [
    "import pandas as pd \n",
    "import feedparser\n",
    "from datetime import datetime"
   ]
  },
  {
   "cell_type": "code",
   "execution_count": 26,
   "id": "7c505b4d",
   "metadata": {},
   "outputs": [
    {
     "name": "stdout",
     "output_type": "stream",
     "text": [
      "Colecting Data from skynewsarabia\n",
      "Colecting Data from bbc\n",
      "Colecting Data from cnn\n",
      "Colecting Data from rt\n"
     ]
    }
   ],
   "source": [
    "rss_feeds = {\n",
    "    \"skynewsarabia\":\"https://www.skynewsarabia.com/rss\", \n",
    "    \"bbc\":\"https://feeds.bbci.co.uk/arabic/rss.xml\", \n",
    "    \"cnn\":\"https://arabic.cnn.com/rss\", \n",
    "    \"rt\":\"https://arabic.rt.com/rss/\"\n",
    "\n",
    "}\n",
    "articales =[]\n",
    "for source , url in rss_feeds.items() : \n",
    "    feed = feedparser.parse(url)\n",
    "    \n",
    "    for entry in feed.entries: \n",
    "        articales.append({\n",
    "            'source' : source,\n",
    "            'title' : entry.title , \n",
    "            'summary' : entry.summary,\n",
    "            'link' : entry.link, \n",
    "            'published' : entry.published, \n",
    "            'collected_at' : datetime.utcnow().isoformat()\n",
    "        })\n",
    "    print(f\"Colecting Data from {source}\")"
   ]
  },
  {
   "cell_type": "code",
   "execution_count": 27,
   "id": "bf18d381",
   "metadata": {},
   "outputs": [
    {
     "data": {
      "text/html": [
       "<div>\n",
       "<style scoped>\n",
       "    .dataframe tbody tr th:only-of-type {\n",
       "        vertical-align: middle;\n",
       "    }\n",
       "\n",
       "    .dataframe tbody tr th {\n",
       "        vertical-align: top;\n",
       "    }\n",
       "\n",
       "    .dataframe thead th {\n",
       "        text-align: right;\n",
       "    }\n",
       "</style>\n",
       "<table border=\"1\" class=\"dataframe\">\n",
       "  <thead>\n",
       "    <tr style=\"text-align: right;\">\n",
       "      <th></th>\n",
       "      <th>source</th>\n",
       "      <th>title</th>\n",
       "      <th>summary</th>\n",
       "      <th>link</th>\n",
       "      <th>published</th>\n",
       "      <th>collected_at</th>\n",
       "    </tr>\n",
       "  </thead>\n",
       "  <tbody>\n",
       "    <tr>\n",
       "      <th>0</th>\n",
       "      <td>skynewsarabia</td>\n",
       "      <td>تقرير: ترامب يوقع خلال ساعات أمرا بشأن تخفيف ع...</td>\n",
       "      <td>ذكر مراسل لشبكة سي.بي.إس على منصة \"إكس\" أن الر...</td>\n",
       "      <td>https://www.skynewsarabia.com/middle-east/1805...</td>\n",
       "      <td>Mon, 30 Jun 2025 15:04:46 GMT</td>\n",
       "      <td>2025-06-30T15:19:24.323144</td>\n",
       "    </tr>\n",
       "    <tr>\n",
       "      <th>1</th>\n",
       "      <td>skynewsarabia</td>\n",
       "      <td>الإمارات تعزي في ضحايا انهيار منجم ذهب في السودان</td>\n",
       "      <td>عبّرت دولة الإمارات عن تعازيها الصادقة وتضامنه...</td>\n",
       "      <td>https://www.skynewsarabia.com/middle-east/1805...</td>\n",
       "      <td>Mon, 30 Jun 2025 15:01:39 GMT</td>\n",
       "      <td>2025-06-30T15:19:24.323144</td>\n",
       "    </tr>\n",
       "    <tr>\n",
       "      <th>2</th>\n",
       "      <td>skynewsarabia</td>\n",
       "      <td>مصادر: محادثات مباشرة بين سوريا وإسرائيل بشأن ...</td>\n",
       "      <td>تجري إسرائيل وسوريا محادثات مباشرة تركز على \"ت...</td>\n",
       "      <td>https://www.skynewsarabia.com/middle-east/1805...</td>\n",
       "      <td>Mon, 30 Jun 2025 15:00:45 GMT</td>\n",
       "      <td>2025-06-30T15:19:24.323144</td>\n",
       "    </tr>\n",
       "    <tr>\n",
       "      <th>3</th>\n",
       "      <td>skynewsarabia</td>\n",
       "      <td>قصف إسرائيلي مباغت يقتل 24 شخصا في \"استراحة\" ع...</td>\n",
       "      <td>أكدت وسائل إعلام فلسطينية، قيام الجيش الإسرائي...</td>\n",
       "      <td>https://www.skynewsarabia.com/middle-east/1805...</td>\n",
       "      <td>Mon, 30 Jun 2025 14:18:38 GMT</td>\n",
       "      <td>2025-06-30T15:19:24.323144</td>\n",
       "    </tr>\n",
       "    <tr>\n",
       "      <th>4</th>\n",
       "      <td>skynewsarabia</td>\n",
       "      <td>\"حملة ممنهجة\".. بيان من محامي شيرين بعد جدل \"م...</td>\n",
       "      <td>قال محامي الفنانة شيرين عبد الوهاب ياسر قنطوش،...</td>\n",
       "      <td>https://www.skynewsarabia.com/varieties/180597...</td>\n",
       "      <td>Mon, 30 Jun 2025 14:08:43 GMT</td>\n",
       "      <td>2025-06-30T15:19:24.323144</td>\n",
       "    </tr>\n",
       "  </tbody>\n",
       "</table>\n",
       "</div>"
      ],
      "text/plain": [
       "          source                                              title  \\\n",
       "0  skynewsarabia  تقرير: ترامب يوقع خلال ساعات أمرا بشأن تخفيف ع...   \n",
       "1  skynewsarabia  الإمارات تعزي في ضحايا انهيار منجم ذهب في السودان   \n",
       "2  skynewsarabia  مصادر: محادثات مباشرة بين سوريا وإسرائيل بشأن ...   \n",
       "3  skynewsarabia  قصف إسرائيلي مباغت يقتل 24 شخصا في \"استراحة\" ع...   \n",
       "4  skynewsarabia  \"حملة ممنهجة\".. بيان من محامي شيرين بعد جدل \"م...   \n",
       "\n",
       "                                             summary  \\\n",
       "0  ذكر مراسل لشبكة سي.بي.إس على منصة \"إكس\" أن الر...   \n",
       "1  عبّرت دولة الإمارات عن تعازيها الصادقة وتضامنه...   \n",
       "2  تجري إسرائيل وسوريا محادثات مباشرة تركز على \"ت...   \n",
       "3  أكدت وسائل إعلام فلسطينية، قيام الجيش الإسرائي...   \n",
       "4  قال محامي الفنانة شيرين عبد الوهاب ياسر قنطوش،...   \n",
       "\n",
       "                                                link  \\\n",
       "0  https://www.skynewsarabia.com/middle-east/1805...   \n",
       "1  https://www.skynewsarabia.com/middle-east/1805...   \n",
       "2  https://www.skynewsarabia.com/middle-east/1805...   \n",
       "3  https://www.skynewsarabia.com/middle-east/1805...   \n",
       "4  https://www.skynewsarabia.com/varieties/180597...   \n",
       "\n",
       "                       published                collected_at  \n",
       "0  Mon, 30 Jun 2025 15:04:46 GMT  2025-06-30T15:19:24.323144  \n",
       "1  Mon, 30 Jun 2025 15:01:39 GMT  2025-06-30T15:19:24.323144  \n",
       "2  Mon, 30 Jun 2025 15:00:45 GMT  2025-06-30T15:19:24.323144  \n",
       "3  Mon, 30 Jun 2025 14:18:38 GMT  2025-06-30T15:19:24.323144  \n",
       "4  Mon, 30 Jun 2025 14:08:43 GMT  2025-06-30T15:19:24.323144  "
      ]
     },
     "execution_count": 27,
     "metadata": {},
     "output_type": "execute_result"
    }
   ],
   "source": [
    "data = pd.DataFrame(articales)\n",
    "data.head()"
   ]
  },
  {
   "cell_type": "code",
   "execution_count": 30,
   "id": "9e1ae2e2",
   "metadata": {},
   "outputs": [],
   "source": [
    "# save the data \n",
    "data.to_csv('../data/articales.csv' , index=False , encoding= \"utf-8-sig\")"
   ]
  },
  {
   "cell_type": "code",
   "execution_count": 34,
   "id": "6a258c49",
   "metadata": {},
   "outputs": [
    {
     "data": {
      "text/html": [
       "<div>\n",
       "<style scoped>\n",
       "    .dataframe tbody tr th:only-of-type {\n",
       "        vertical-align: middle;\n",
       "    }\n",
       "\n",
       "    .dataframe tbody tr th {\n",
       "        vertical-align: top;\n",
       "    }\n",
       "\n",
       "    .dataframe thead th {\n",
       "        text-align: right;\n",
       "    }\n",
       "</style>\n",
       "<table border=\"1\" class=\"dataframe\">\n",
       "  <thead>\n",
       "    <tr style=\"text-align: right;\">\n",
       "      <th></th>\n",
       "      <th>title</th>\n",
       "      <th>summary</th>\n",
       "    </tr>\n",
       "  </thead>\n",
       "  <tbody>\n",
       "    <tr>\n",
       "      <th>0</th>\n",
       "      <td>تقرير: ترامب يوقع خلال ساعات أمرا بشأن تخفيف ع...</td>\n",
       "      <td>ذكر مراسل لشبكة سي.بي.إس على منصة \"إكس\" أن الر...</td>\n",
       "    </tr>\n",
       "    <tr>\n",
       "      <th>1</th>\n",
       "      <td>الإمارات تعزي في ضحايا انهيار منجم ذهب في السودان</td>\n",
       "      <td>عبّرت دولة الإمارات عن تعازيها الصادقة وتضامنه...</td>\n",
       "    </tr>\n",
       "    <tr>\n",
       "      <th>2</th>\n",
       "      <td>مصادر: محادثات مباشرة بين سوريا وإسرائيل بشأن ...</td>\n",
       "      <td>تجري إسرائيل وسوريا محادثات مباشرة تركز على \"ت...</td>\n",
       "    </tr>\n",
       "    <tr>\n",
       "      <th>3</th>\n",
       "      <td>قصف إسرائيلي مباغت يقتل 24 شخصا في \"استراحة\" ع...</td>\n",
       "      <td>أكدت وسائل إعلام فلسطينية، قيام الجيش الإسرائي...</td>\n",
       "    </tr>\n",
       "    <tr>\n",
       "      <th>4</th>\n",
       "      <td>\"حملة ممنهجة\".. بيان من محامي شيرين بعد جدل \"م...</td>\n",
       "      <td>قال محامي الفنانة شيرين عبد الوهاب ياسر قنطوش،...</td>\n",
       "    </tr>\n",
       "    <tr>\n",
       "      <th>...</th>\n",
       "      <td>...</td>\n",
       "      <td>...</td>\n",
       "    </tr>\n",
       "    <tr>\n",
       "      <th>217</th>\n",
       "      <td>الخارجية الإيرانية: لم يتم اتخاذ قرار نهائي بش...</td>\n",
       "      <td>أكدت الخارجية الإيرانية أن مطلب إيران هو الاعت...</td>\n",
       "    </tr>\n",
       "    <tr>\n",
       "      <th>218</th>\n",
       "      <td>السيسي يخاطب المصريين في ذكرى الإطاحة بالإخوان...</td>\n",
       "      <td>ألقى الرئيس المصري عبد الفتاح السيسي كلمة بمنا...</td>\n",
       "    </tr>\n",
       "    <tr>\n",
       "      <th>219</th>\n",
       "      <td>الهلال السعودي يستعيد الجوير.. ويوزع تذاكر مجا...</td>\n",
       "      <td>أعلن الهلال السعودي عن تقديم تذاكر مجانية لجما...</td>\n",
       "    </tr>\n",
       "    <tr>\n",
       "      <th>220</th>\n",
       "      <td>حادث مروع جديد على الطريق الصحراوي في مصر</td>\n",
       "      <td>لقيَت طفلة مصرعها وأصيب 17 آخرون بجروح وكسور م...</td>\n",
       "    </tr>\n",
       "    <tr>\n",
       "      <th>221</th>\n",
       "      <td>اتفاق الرسوم الجمركية بين المملكة المتحدة والو...</td>\n",
       "      <td>دخل اتفاق لخفض الرسوم الجمركية بين الولايات ال...</td>\n",
       "    </tr>\n",
       "  </tbody>\n",
       "</table>\n",
       "<p>222 rows × 2 columns</p>\n",
       "</div>"
      ],
      "text/plain": [
       "                                                 title  \\\n",
       "0    تقرير: ترامب يوقع خلال ساعات أمرا بشأن تخفيف ع...   \n",
       "1    الإمارات تعزي في ضحايا انهيار منجم ذهب في السودان   \n",
       "2    مصادر: محادثات مباشرة بين سوريا وإسرائيل بشأن ...   \n",
       "3    قصف إسرائيلي مباغت يقتل 24 شخصا في \"استراحة\" ع...   \n",
       "4    \"حملة ممنهجة\".. بيان من محامي شيرين بعد جدل \"م...   \n",
       "..                                                 ...   \n",
       "217  الخارجية الإيرانية: لم يتم اتخاذ قرار نهائي بش...   \n",
       "218  السيسي يخاطب المصريين في ذكرى الإطاحة بالإخوان...   \n",
       "219  الهلال السعودي يستعيد الجوير.. ويوزع تذاكر مجا...   \n",
       "220          حادث مروع جديد على الطريق الصحراوي في مصر   \n",
       "221  اتفاق الرسوم الجمركية بين المملكة المتحدة والو...   \n",
       "\n",
       "                                               summary  \n",
       "0    ذكر مراسل لشبكة سي.بي.إس على منصة \"إكس\" أن الر...  \n",
       "1    عبّرت دولة الإمارات عن تعازيها الصادقة وتضامنه...  \n",
       "2    تجري إسرائيل وسوريا محادثات مباشرة تركز على \"ت...  \n",
       "3    أكدت وسائل إعلام فلسطينية، قيام الجيش الإسرائي...  \n",
       "4    قال محامي الفنانة شيرين عبد الوهاب ياسر قنطوش،...  \n",
       "..                                                 ...  \n",
       "217  أكدت الخارجية الإيرانية أن مطلب إيران هو الاعت...  \n",
       "218  ألقى الرئيس المصري عبد الفتاح السيسي كلمة بمنا...  \n",
       "219  أعلن الهلال السعودي عن تقديم تذاكر مجانية لجما...  \n",
       "220  لقيَت طفلة مصرعها وأصيب 17 آخرون بجروح وكسور م...  \n",
       "221  دخل اتفاق لخفض الرسوم الجمركية بين الولايات ال...  \n",
       "\n",
       "[222 rows x 2 columns]"
      ]
     },
     "execution_count": 34,
     "metadata": {},
     "output_type": "execute_result"
    }
   ],
   "source": [
    "data[['title', 'summary']]"
   ]
  },
  {
   "cell_type": "code",
   "execution_count": null,
   "id": "97ed4191",
   "metadata": {},
   "outputs": [],
   "source": []
  }
 ],
 "metadata": {
  "kernelspec": {
   "display_name": "Python 3",
   "language": "python",
   "name": "python3"
  },
  "language_info": {
   "codemirror_mode": {
    "name": "ipython",
    "version": 3
   },
   "file_extension": ".py",
   "mimetype": "text/x-python",
   "name": "python",
   "nbconvert_exporter": "python",
   "pygments_lexer": "ipython3",
   "version": "3.10.6"
  }
 },
 "nbformat": 4,
 "nbformat_minor": 5
}
