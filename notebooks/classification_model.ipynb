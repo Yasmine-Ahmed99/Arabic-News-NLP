{
  "cells": [
    {
      "cell_type": "code",
      "execution_count": null,
      "metadata": {
        "execution": {
          "iopub.execute_input": "2025-07-03T19:43:51.918887Z",
          "iopub.status.busy": "2025-07-03T19:43:51.918181Z",
          "iopub.status.idle": "2025-07-03T19:43:51.941747Z",
          "shell.execute_reply": "2025-07-03T19:43:51.941093Z",
          "shell.execute_reply.started": "2025-07-03T19:43:51.918862Z"
        },
        "id": "gGeTgrWN5I_R",
        "outputId": "636ef9b5-7b89-4f7e-e987-eaeed363f403",
        "trusted": true
      },
      "outputs": [
        {
          "data": {
            "text/html": [
              "<div>\n",
              "<style scoped>\n",
              "    .dataframe tbody tr th:only-of-type {\n",
              "        vertical-align: middle;\n",
              "    }\n",
              "\n",
              "    .dataframe tbody tr th {\n",
              "        vertical-align: top;\n",
              "    }\n",
              "\n",
              "    .dataframe thead th {\n",
              "        text-align: right;\n",
              "    }\n",
              "</style>\n",
              "<table border=\"1\" class=\"dataframe\">\n",
              "  <thead>\n",
              "    <tr style=\"text-align: right;\">\n",
              "      <th></th>\n",
              "      <th>source</th>\n",
              "      <th>title</th>\n",
              "      <th>summary</th>\n",
              "      <th>link</th>\n",
              "      <th>published</th>\n",
              "      <th>collected_at</th>\n",
              "      <th>clean_title</th>\n",
              "      <th>clean_summary</th>\n",
              "      <th>combined_text</th>\n",
              "      <th>clean_combined_text</th>\n",
              "      <th>label_model</th>\n",
              "    </tr>\n",
              "  </thead>\n",
              "  <tbody>\n",
              "    <tr>\n",
              "      <th>0</th>\n",
              "      <td>skynewsarabia</td>\n",
              "      <td>تقرير: ترامب يوقع خلال ساعات أمرا بشأن تخفيف ع...</td>\n",
              "      <td>ذكر مراسل لشبكة سي.بي.إس على منصة \"إكس\" أن الر...</td>\n",
              "      <td>https://www.skynewsarabia.com/middle-east/1805...</td>\n",
              "      <td>Mon, 30 Jun 2025 15:04:46 GMT</td>\n",
              "      <td>2025-06-30T15:19:24.323144</td>\n",
              "      <td>تقرير ترامب يوقع خلال ساعات أمرا بشأن تخفيف عق...</td>\n",
              "      <td>ذكر مراسل لشبكة سيبيإس منصة إكس الرئيس الأميرك...</td>\n",
              "      <td>تقرير: ترامب يوقع خلال ساعات أمرا بشأن تخفيف ع...</td>\n",
              "      <td>تقرير ترامب يوقع خلال ساعات أمرا بشأن تخفيف عق...</td>\n",
              "      <td>سياسة</td>\n",
              "    </tr>\n",
              "    <tr>\n",
              "      <th>1</th>\n",
              "      <td>skynewsarabia</td>\n",
              "      <td>الإمارات تعزي في ضحايا انهيار منجم ذهب في السودان</td>\n",
              "      <td>عبّرت دولة الإمارات عن تعازيها الصادقة وتضامنه...</td>\n",
              "      <td>https://www.skynewsarabia.com/middle-east/1805...</td>\n",
              "      <td>Mon, 30 Jun 2025 15:01:39 GMT</td>\n",
              "      <td>2025-06-30T15:19:24.323144</td>\n",
              "      <td>الإمارات تعزي ضحايا انهيار منجم السودان</td>\n",
              "      <td>عبرت دولة الإمارات تعازيها الصادقة وتضامنها أس...</td>\n",
              "      <td>الإمارات تعزي في ضحايا انهيار منجم ذهب في السو...</td>\n",
              "      <td>الإمارات تعزي ضحايا انهيار منجم السودان عبرت د...</td>\n",
              "      <td>اجتماعي</td>\n",
              "    </tr>\n",
              "    <tr>\n",
              "      <th>2</th>\n",
              "      <td>skynewsarabia</td>\n",
              "      <td>مصادر: محادثات مباشرة بين سوريا وإسرائيل بشأن ...</td>\n",
              "      <td>تجري إسرائيل وسوريا محادثات مباشرة تركز على \"ت...</td>\n",
              "      <td>https://www.skynewsarabia.com/middle-east/1805...</td>\n",
              "      <td>Mon, 30 Jun 2025 15:00:45 GMT</td>\n",
              "      <td>2025-06-30T15:19:24.323144</td>\n",
              "      <td>مصادر محادثات مباشرة سوريا وإسرائيل بشأن ترتيب...</td>\n",
              "      <td>تجري إسرائيل وسوريا محادثات مباشرة تركز ترتيبا...</td>\n",
              "      <td>مصادر: محادثات مباشرة بين سوريا وإسرائيل بشأن ...</td>\n",
              "      <td>مصادر محادثات مباشرة سوريا وإسرائيل بشأن ترتيب...</td>\n",
              "      <td>سياسة</td>\n",
              "    </tr>\n",
              "    <tr>\n",
              "      <th>3</th>\n",
              "      <td>skynewsarabia</td>\n",
              "      <td>قصف إسرائيلي مباغت يقتل 24 شخصا في \"استراحة\" ع...</td>\n",
              "      <td>أكدت وسائل إعلام فلسطينية، قيام الجيش الإسرائي...</td>\n",
              "      <td>https://www.skynewsarabia.com/middle-east/1805...</td>\n",
              "      <td>Mon, 30 Jun 2025 14:18:38 GMT</td>\n",
              "      <td>2025-06-30T15:19:24.323144</td>\n",
              "      <td>قصف إسرائيلي مباغت يقتل 24 شخصا استراحة شاطئ غزة</td>\n",
              "      <td>أكدت وسائل إعلام فلسطينية قيام الجيش الإسرائيل...</td>\n",
              "      <td>قصف إسرائيلي مباغت يقتل 24 شخصا في \"استراحة\" ع...</td>\n",
              "      <td>قصف إسرائيلي مباغت يقتل 24 شخصا استراحة شاطئ غ...</td>\n",
              "      <td>سياسة</td>\n",
              "    </tr>\n",
              "    <tr>\n",
              "      <th>4</th>\n",
              "      <td>skynewsarabia</td>\n",
              "      <td>\"حملة ممنهجة\".. بيان من محامي شيرين بعد جدل \"م...</td>\n",
              "      <td>قال محامي الفنانة شيرين عبد الوهاب ياسر قنطوش،...</td>\n",
              "      <td>https://www.skynewsarabia.com/varieties/180597...</td>\n",
              "      <td>Mon, 30 Jun 2025 14:08:43 GMT</td>\n",
              "      <td>2025-06-30T15:19:24.323144</td>\n",
              "      <td>حملة ممنهجة بيان محامي شيرين جدل موازين</td>\n",
              "      <td>قال محامي الفنانة شيرين عبد الوهاب ياسر قنطوش ...</td>\n",
              "      <td>\"حملة ممنهجة\".. بيان من محامي شيرين بعد جدل \"م...</td>\n",
              "      <td>حملة ممنهجة بيان محامي شيرين جدل موازين قال مح...</td>\n",
              "      <td>ثقافة</td>\n",
              "    </tr>\n",
              "  </tbody>\n",
              "</table>\n",
              "</div>"
            ],
            "text/plain": [
              "          source                                              title  \\\n",
              "0  skynewsarabia  تقرير: ترامب يوقع خلال ساعات أمرا بشأن تخفيف ع...   \n",
              "1  skynewsarabia  الإمارات تعزي في ضحايا انهيار منجم ذهب في السودان   \n",
              "2  skynewsarabia  مصادر: محادثات مباشرة بين سوريا وإسرائيل بشأن ...   \n",
              "3  skynewsarabia  قصف إسرائيلي مباغت يقتل 24 شخصا في \"استراحة\" ع...   \n",
              "4  skynewsarabia  \"حملة ممنهجة\".. بيان من محامي شيرين بعد جدل \"م...   \n",
              "\n",
              "                                             summary  \\\n",
              "0  ذكر مراسل لشبكة سي.بي.إس على منصة \"إكس\" أن الر...   \n",
              "1  عبّرت دولة الإمارات عن تعازيها الصادقة وتضامنه...   \n",
              "2  تجري إسرائيل وسوريا محادثات مباشرة تركز على \"ت...   \n",
              "3  أكدت وسائل إعلام فلسطينية، قيام الجيش الإسرائي...   \n",
              "4  قال محامي الفنانة شيرين عبد الوهاب ياسر قنطوش،...   \n",
              "\n",
              "                                                link  \\\n",
              "0  https://www.skynewsarabia.com/middle-east/1805...   \n",
              "1  https://www.skynewsarabia.com/middle-east/1805...   \n",
              "2  https://www.skynewsarabia.com/middle-east/1805...   \n",
              "3  https://www.skynewsarabia.com/middle-east/1805...   \n",
              "4  https://www.skynewsarabia.com/varieties/180597...   \n",
              "\n",
              "                       published                collected_at  \\\n",
              "0  Mon, 30 Jun 2025 15:04:46 GMT  2025-06-30T15:19:24.323144   \n",
              "1  Mon, 30 Jun 2025 15:01:39 GMT  2025-06-30T15:19:24.323144   \n",
              "2  Mon, 30 Jun 2025 15:00:45 GMT  2025-06-30T15:19:24.323144   \n",
              "3  Mon, 30 Jun 2025 14:18:38 GMT  2025-06-30T15:19:24.323144   \n",
              "4  Mon, 30 Jun 2025 14:08:43 GMT  2025-06-30T15:19:24.323144   \n",
              "\n",
              "                                         clean_title  \\\n",
              "0  تقرير ترامب يوقع خلال ساعات أمرا بشأن تخفيف عق...   \n",
              "1            الإمارات تعزي ضحايا انهيار منجم السودان   \n",
              "2  مصادر محادثات مباشرة سوريا وإسرائيل بشأن ترتيب...   \n",
              "3   قصف إسرائيلي مباغت يقتل 24 شخصا استراحة شاطئ غزة   \n",
              "4            حملة ممنهجة بيان محامي شيرين جدل موازين   \n",
              "\n",
              "                                       clean_summary  \\\n",
              "0  ذكر مراسل لشبكة سيبيإس منصة إكس الرئيس الأميرك...   \n",
              "1  عبرت دولة الإمارات تعازيها الصادقة وتضامنها أس...   \n",
              "2  تجري إسرائيل وسوريا محادثات مباشرة تركز ترتيبا...   \n",
              "3  أكدت وسائل إعلام فلسطينية قيام الجيش الإسرائيل...   \n",
              "4  قال محامي الفنانة شيرين عبد الوهاب ياسر قنطوش ...   \n",
              "\n",
              "                                       combined_text  \\\n",
              "0  تقرير: ترامب يوقع خلال ساعات أمرا بشأن تخفيف ع...   \n",
              "1  الإمارات تعزي في ضحايا انهيار منجم ذهب في السو...   \n",
              "2  مصادر: محادثات مباشرة بين سوريا وإسرائيل بشأن ...   \n",
              "3  قصف إسرائيلي مباغت يقتل 24 شخصا في \"استراحة\" ع...   \n",
              "4  \"حملة ممنهجة\".. بيان من محامي شيرين بعد جدل \"م...   \n",
              "\n",
              "                                 clean_combined_text label_model  \n",
              "0  تقرير ترامب يوقع خلال ساعات أمرا بشأن تخفيف عق...       سياسة  \n",
              "1  الإمارات تعزي ضحايا انهيار منجم السودان عبرت د...     اجتماعي  \n",
              "2  مصادر محادثات مباشرة سوريا وإسرائيل بشأن ترتيب...       سياسة  \n",
              "3  قصف إسرائيلي مباغت يقتل 24 شخصا استراحة شاطئ غ...       سياسة  \n",
              "4  حملة ممنهجة بيان محامي شيرين جدل موازين قال مح...       ثقافة  "
            ]
          },
          "execution_count": 15,
          "metadata": {},
          "output_type": "execute_result"
        }
      ],
      "source": [
        "import pandas as pd\n",
        "data = pd.read_csv('/kaggle/input/dataset/cleaned_data_with_labels.csv')\n",
        "data.head()"
      ]
    },
    {
      "cell_type": "code",
      "execution_count": null,
      "metadata": {
        "execution": {
          "iopub.execute_input": "2025-07-03T19:43:56.458121Z",
          "iopub.status.busy": "2025-07-03T19:43:56.457849Z",
          "iopub.status.idle": "2025-07-03T19:43:56.461999Z",
          "shell.execute_reply": "2025-07-03T19:43:56.461277Z",
          "shell.execute_reply.started": "2025-07-03T19:43:56.458102Z"
        },
        "id": "0EzuGDoQ5I_T",
        "trusted": true
      },
      "outputs": [],
      "source": []
    },
    {
      "cell_type": "code",
      "execution_count": null,
      "metadata": {
        "execution": {
          "iopub.execute_input": "2025-07-03T19:43:58.152415Z",
          "iopub.status.busy": "2025-07-03T19:43:58.152083Z",
          "iopub.status.idle": "2025-07-03T19:43:58.158228Z",
          "shell.execute_reply": "2025-07-03T19:43:58.157526Z",
          "shell.execute_reply.started": "2025-07-03T19:43:58.152389Z"
        },
        "id": "eoZh0VCb5I_U",
        "trusted": true
      },
      "outputs": [],
      "source": [
        "data['label_model'] =data['label_model'].str.strip()"
      ]
    },
    {
      "cell_type": "code",
      "execution_count": null,
      "metadata": {
        "execution": {
          "iopub.execute_input": "2025-07-03T19:49:13.777723Z",
          "iopub.status.busy": "2025-07-03T19:49:13.777146Z",
          "iopub.status.idle": "2025-07-03T19:49:13.790095Z",
          "shell.execute_reply": "2025-07-03T19:49:13.789419Z",
          "shell.execute_reply.started": "2025-07-03T19:49:13.777702Z"
        },
        "id": "diqJuhiJ5I_U",
        "trusted": true
      },
      "outputs": [],
      "source": [
        "data[['clean_combined_text' , 'label_model']].to_csv(\"/kaggle/working/cleaned_data_with_labels.csv\" , index=False , encoding= \"utf-8-sig\")"
      ]
    },
    {
      "cell_type": "code",
      "execution_count": 1,
      "metadata": {
        "colab": {
          "base_uri": "https://localhost:8080/",
          "height": 206
        },
        "execution": {
          "iopub.execute_input": "2025-07-03T19:50:04.292657Z",
          "iopub.status.busy": "2025-07-03T19:50:04.292083Z",
          "iopub.status.idle": "2025-07-03T19:50:04.302472Z",
          "shell.execute_reply": "2025-07-03T19:50:04.301912Z",
          "shell.execute_reply.started": "2025-07-03T19:50:04.292636Z"
        },
        "id": "cybgSN9o5I_U",
        "outputId": "34ef598c-b18b-422e-fcb7-67b25ffcf003",
        "trusted": true
      },
      "outputs": [
        {
          "data": {
            "application/vnd.google.colaboratory.intrinsic+json": {
              "summary": "{\n  \"name\": \"data\",\n  \"rows\": 222,\n  \"fields\": [\n    {\n      \"column\": \"clean_combined_text\",\n      \"properties\": {\n        \"dtype\": \"string\",\n        \"num_unique_values\": 222,\n        \"samples\": [\n          \"\\u062a\\u0624\\u062b\\u0631 \\u0627\\u0644\\u062a\\u063a\\u064a\\u0631\\u0627\\u062a \\u0627\\u0644\\u0645\\u0648\\u0633\\u0645\\u064a\\u0629 \\u0648\\u0627\\u0644\\u0631\\u0648\\u062a\\u064a\\u0646 \\u0627\\u0644\\u0623\\u0633\\u0628\\u0648\\u0639\\u064a \\u0646\\u0648\\u0645\\u0646\\u0627 \\u062a\\u0627\\u0628\\u0639 \\u0639\\u0644\\u0645\\u0627\\u0621 \\u062c\\u0627\\u0645\\u0639\\u0629 \\u0641\\u0644\\u0646\\u062f\\u0631\\u0632 \\u0627\\u0644\\u0623\\u0633\\u062a\\u0631\\u0627\\u0644\\u064a\\u0629 \\u0646\\u0648\\u0645 116000 \\u0634\\u062e\\u0635 \\u0644\\u0645\\u062f\\u0629 35 \\u0633\\u0646\\u0648\\u0627\\u062a 73 \\u0645\\u0644\\u064a\\u0648\\u0646 \\u0644\\u064a\\u0644\\u0629 \\u0646\\u0648\\u0645 \\u0628\\u0627\\u0633\\u062a\\u062e\\u062f\\u0627\\u0645 \\u062c\\u0647\\u0627\\u0632 \\u062e\\u0627\\u0635 \\u0645\\u062b\\u0628\\u062a \\u0627\\u0644\\u0645\\u0631\\u062a\\u0628\\u0629 \\u0648\\u0633\\u062c\\u0644 \\u0627\\u0644\\u0645\\u0633\\u062a\\u0634\\u0639\\u0631 \\u0637\\u0648\\u0644 \\u0641\\u062a\\u0631\\u0629 \\u0627\\u0644\\u0646\\u0648\\u0645 \\u0648\\u0648\\u0642\\u062a\\u0647\",\n          \"\\u0627\\u0644\\u0623\\u0631\\u062f\\u0646 \\u062a\\u0648\\u0633\\u0639 \\u0627\\u0644\\u062a\\u062d\\u0642\\u064a\\u0642\\u0627\\u062a \\u0643\\u0627\\u0631\\u062b\\u0629 \\u0627\\u0644\\u0643\\u062d\\u0648\\u0644 \\u0648\\u0625\\u063a\\u0644\\u0627\\u0642 \\u0645\\u0635\\u0627\\u0646\\u0639 \\u0645\\u0634\\u0628\\u0648\\u0647\\u0629 \\u0648\\u0641\\u0627\\u0629 7 \\u0623\\u0634\\u062e\\u0627\\u0635 \\u062a\\u0648\\u0633\\u0639\\u062a \\u0627\\u0644\\u062a\\u062d\\u0642\\u064a\\u0642\\u0627\\u062a \\u0627\\u0644\\u0631\\u0633\\u0645\\u064a\\u0629 \\u0642\\u0636\\u064a\\u0629 \\u0627\\u0644\\u0643\\u062d\\u0648\\u0644 \\u0627\\u0644\\u0645\\u064a\\u062b\\u064a\\u0644\\u064a \\u0627\\u0644\\u0645\\u064a\\u062b\\u0627\\u0646\\u0648\\u0644 \\u062a\\u0633\\u0628\\u0628\\u062a \\u0628\\u0648\\u0641\\u0627\\u0629 \\u0623\\u0634\\u062e\\u0627\\u0635 \\u0645\\u062d\\u0627\\u0641\\u0638\\u0629 \\u0627\\u0644\\u0632\\u0631\\u0642\\u0627\\u0621 \\u0627\\u0644\\u0623\\u0631\\u062f\\u0646\\u064a\\u0629\",\n          \"\\u062a\\u0631\\u0627\\u0645\\u0628 \\u064a\\u0647\\u062f\\u062f \\u0645\\u0645\\u062f\\u0627\\u0646\\u064a \\u0628\\u0627\\u0644\\u062a\\u0635\\u0631\\u0641 \\u0627\\u0644\\u0635\\u062d\\u064a\\u062d \\u0648\\u0625\\u0644\\u0627 \\u062a\\u062c\\u0627\\u0647\\u0644 \\u0627\\u0644\\u0645\\u0631\\u0634\\u062d \\u0627\\u0644\\u0623\\u0648\\u0644 \\u0644\\u0631\\u0626\\u0627\\u0633\\u0629 \\u0628\\u0644\\u062f\\u064a\\u0629 \\u0646\\u064a\\u0648\\u064a\\u0648\\u0631\\u0643 \\u0632\\u0647\\u0631\\u0627\\u0646 \\u0645\\u0645\\u062f\\u0627\\u0646\\u064a \\u0647\\u062c\\u0645\\u0627\\u062a \\u0627\\u0644\\u0631\\u0626\\u064a\\u0633 \\u0627\\u0644\\u0623\\u0645\\u064a\\u0631\\u0643\\u064a \\u062f\\u0648\\u0646\\u0627\\u0644\\u062f \\u062a\\u0631\\u0627\\u0645\\u0628 \\u0648\\u0646\\u0641\\u0649 \\u0634\\u064a\\u0648\\u0639\\u064a\\u062a\\u0647 \\u062e\\u0644\\u0627\\u0644 \\u0645\\u0642\\u0627\\u0628\\u0644\\u0629 \\u0623\\u062c\\u0631\\u064a\\u062a \\u0627\\u0644\\u0623\\u062d\\u062f \\u0642\\u0627\\u0644 \\u0627\\u0644\\u0645\\u0631\\u0634\\u062d \\u0627\\u0644\\u062a\\u0642\\u062f\\u0645\\u064a \\u0644\\u0645\\u0646\\u0635\\u0628 \\u0639\\u0645\\u062f\\u0629 \\u0645\\u062f\\u064a\\u0646\\u0629 \\u0646\\u064a\\u0648\\u064a\\u0648\\u0631\\u0643 \\u064a\\u0639\\u0627\\u0631\\u0636 \\u0641\\u0643\\u0631\\u0629 \\u0627\\u0644\\u0645\\u0644\\u064a\\u0627\\u0631\\u062f\\u064a\\u0631\\u0627\\u062a\"\n        ],\n        \"semantic_type\": \"\",\n        \"description\": \"\"\n      }\n    },\n    {\n      \"column\": \"label_model\",\n      \"properties\": {\n        \"dtype\": \"category\",\n        \"num_unique_values\": 7,\n        \"samples\": [\n          \"\\u0633\\u064a\\u0627\\u0633\\u0629\",\n          \"\\u0627\\u062c\\u062a\\u0645\\u0627\\u0639\\u064a\",\n          \"\\u0631\\u064a\\u0627\\u0636\\u0629\"\n        ],\n        \"semantic_type\": \"\",\n        \"description\": \"\"\n      }\n    }\n  ]\n}",
              "type": "dataframe",
              "variable_name": "data"
            },
            "text/html": [
              "\n",
              "  <div id=\"df-cbe8ae4b-21fd-4f9e-a581-0d3d52421e0a\" class=\"colab-df-container\">\n",
              "    <div>\n",
              "<style scoped>\n",
              "    .dataframe tbody tr th:only-of-type {\n",
              "        vertical-align: middle;\n",
              "    }\n",
              "\n",
              "    .dataframe tbody tr th {\n",
              "        vertical-align: top;\n",
              "    }\n",
              "\n",
              "    .dataframe thead th {\n",
              "        text-align: right;\n",
              "    }\n",
              "</style>\n",
              "<table border=\"1\" class=\"dataframe\">\n",
              "  <thead>\n",
              "    <tr style=\"text-align: right;\">\n",
              "      <th></th>\n",
              "      <th>clean_combined_text</th>\n",
              "      <th>label_model</th>\n",
              "    </tr>\n",
              "  </thead>\n",
              "  <tbody>\n",
              "    <tr>\n",
              "      <th>0</th>\n",
              "      <td>تقرير ترامب يوقع خلال ساعات أمرا بشأن تخفيف عق...</td>\n",
              "      <td>سياسة</td>\n",
              "    </tr>\n",
              "    <tr>\n",
              "      <th>1</th>\n",
              "      <td>الإمارات تعزي ضحايا انهيار منجم السودان عبرت د...</td>\n",
              "      <td>اجتماعي</td>\n",
              "    </tr>\n",
              "    <tr>\n",
              "      <th>2</th>\n",
              "      <td>مصادر محادثات مباشرة سوريا وإسرائيل بشأن ترتيب...</td>\n",
              "      <td>سياسة</td>\n",
              "    </tr>\n",
              "    <tr>\n",
              "      <th>3</th>\n",
              "      <td>قصف إسرائيلي مباغت يقتل 24 شخصا استراحة شاطئ غ...</td>\n",
              "      <td>سياسة</td>\n",
              "    </tr>\n",
              "    <tr>\n",
              "      <th>4</th>\n",
              "      <td>حملة ممنهجة بيان محامي شيرين جدل موازين قال مح...</td>\n",
              "      <td>ثقافة</td>\n",
              "    </tr>\n",
              "  </tbody>\n",
              "</table>\n",
              "</div>\n",
              "    <div class=\"colab-df-buttons\">\n",
              "\n",
              "  <div class=\"colab-df-container\">\n",
              "    <button class=\"colab-df-convert\" onclick=\"convertToInteractive('df-cbe8ae4b-21fd-4f9e-a581-0d3d52421e0a')\"\n",
              "            title=\"Convert this dataframe to an interactive table.\"\n",
              "            style=\"display:none;\">\n",
              "\n",
              "  <svg xmlns=\"http://www.w3.org/2000/svg\" height=\"24px\" viewBox=\"0 -960 960 960\">\n",
              "    <path d=\"M120-120v-720h720v720H120Zm60-500h600v-160H180v160Zm220 220h160v-160H400v160Zm0 220h160v-160H400v160ZM180-400h160v-160H180v160Zm440 0h160v-160H620v160ZM180-180h160v-160H180v160Zm440 0h160v-160H620v160Z\"/>\n",
              "  </svg>\n",
              "    </button>\n",
              "\n",
              "  <style>\n",
              "    .colab-df-container {\n",
              "      display:flex;\n",
              "      gap: 12px;\n",
              "    }\n",
              "\n",
              "    .colab-df-convert {\n",
              "      background-color: #E8F0FE;\n",
              "      border: none;\n",
              "      border-radius: 50%;\n",
              "      cursor: pointer;\n",
              "      display: none;\n",
              "      fill: #1967D2;\n",
              "      height: 32px;\n",
              "      padding: 0 0 0 0;\n",
              "      width: 32px;\n",
              "    }\n",
              "\n",
              "    .colab-df-convert:hover {\n",
              "      background-color: #E2EBFA;\n",
              "      box-shadow: 0px 1px 2px rgba(60, 64, 67, 0.3), 0px 1px 3px 1px rgba(60, 64, 67, 0.15);\n",
              "      fill: #174EA6;\n",
              "    }\n",
              "\n",
              "    .colab-df-buttons div {\n",
              "      margin-bottom: 4px;\n",
              "    }\n",
              "\n",
              "    [theme=dark] .colab-df-convert {\n",
              "      background-color: #3B4455;\n",
              "      fill: #D2E3FC;\n",
              "    }\n",
              "\n",
              "    [theme=dark] .colab-df-convert:hover {\n",
              "      background-color: #434B5C;\n",
              "      box-shadow: 0px 1px 3px 1px rgba(0, 0, 0, 0.15);\n",
              "      filter: drop-shadow(0px 1px 2px rgba(0, 0, 0, 0.3));\n",
              "      fill: #FFFFFF;\n",
              "    }\n",
              "  </style>\n",
              "\n",
              "    <script>\n",
              "      const buttonEl =\n",
              "        document.querySelector('#df-cbe8ae4b-21fd-4f9e-a581-0d3d52421e0a button.colab-df-convert');\n",
              "      buttonEl.style.display =\n",
              "        google.colab.kernel.accessAllowed ? 'block' : 'none';\n",
              "\n",
              "      async function convertToInteractive(key) {\n",
              "        const element = document.querySelector('#df-cbe8ae4b-21fd-4f9e-a581-0d3d52421e0a');\n",
              "        const dataTable =\n",
              "          await google.colab.kernel.invokeFunction('convertToInteractive',\n",
              "                                                    [key], {});\n",
              "        if (!dataTable) return;\n",
              "\n",
              "        const docLinkHtml = 'Like what you see? Visit the ' +\n",
              "          '<a target=\"_blank\" href=https://colab.research.google.com/notebooks/data_table.ipynb>data table notebook</a>'\n",
              "          + ' to learn more about interactive tables.';\n",
              "        element.innerHTML = '';\n",
              "        dataTable['output_type'] = 'display_data';\n",
              "        await google.colab.output.renderOutput(dataTable, element);\n",
              "        const docLink = document.createElement('div');\n",
              "        docLink.innerHTML = docLinkHtml;\n",
              "        element.appendChild(docLink);\n",
              "      }\n",
              "    </script>\n",
              "  </div>\n",
              "\n",
              "\n",
              "    <div id=\"df-1d6f8eea-6b79-400f-8860-29245f88a2e0\">\n",
              "      <button class=\"colab-df-quickchart\" onclick=\"quickchart('df-1d6f8eea-6b79-400f-8860-29245f88a2e0')\"\n",
              "                title=\"Suggest charts\"\n",
              "                style=\"display:none;\">\n",
              "\n",
              "<svg xmlns=\"http://www.w3.org/2000/svg\" height=\"24px\"viewBox=\"0 0 24 24\"\n",
              "     width=\"24px\">\n",
              "    <g>\n",
              "        <path d=\"M19 3H5c-1.1 0-2 .9-2 2v14c0 1.1.9 2 2 2h14c1.1 0 2-.9 2-2V5c0-1.1-.9-2-2-2zM9 17H7v-7h2v7zm4 0h-2V7h2v10zm4 0h-2v-4h2v4z\"/>\n",
              "    </g>\n",
              "</svg>\n",
              "      </button>\n",
              "\n",
              "<style>\n",
              "  .colab-df-quickchart {\n",
              "      --bg-color: #E8F0FE;\n",
              "      --fill-color: #1967D2;\n",
              "      --hover-bg-color: #E2EBFA;\n",
              "      --hover-fill-color: #174EA6;\n",
              "      --disabled-fill-color: #AAA;\n",
              "      --disabled-bg-color: #DDD;\n",
              "  }\n",
              "\n",
              "  [theme=dark] .colab-df-quickchart {\n",
              "      --bg-color: #3B4455;\n",
              "      --fill-color: #D2E3FC;\n",
              "      --hover-bg-color: #434B5C;\n",
              "      --hover-fill-color: #FFFFFF;\n",
              "      --disabled-bg-color: #3B4455;\n",
              "      --disabled-fill-color: #666;\n",
              "  }\n",
              "\n",
              "  .colab-df-quickchart {\n",
              "    background-color: var(--bg-color);\n",
              "    border: none;\n",
              "    border-radius: 50%;\n",
              "    cursor: pointer;\n",
              "    display: none;\n",
              "    fill: var(--fill-color);\n",
              "    height: 32px;\n",
              "    padding: 0;\n",
              "    width: 32px;\n",
              "  }\n",
              "\n",
              "  .colab-df-quickchart:hover {\n",
              "    background-color: var(--hover-bg-color);\n",
              "    box-shadow: 0 1px 2px rgba(60, 64, 67, 0.3), 0 1px 3px 1px rgba(60, 64, 67, 0.15);\n",
              "    fill: var(--button-hover-fill-color);\n",
              "  }\n",
              "\n",
              "  .colab-df-quickchart-complete:disabled,\n",
              "  .colab-df-quickchart-complete:disabled:hover {\n",
              "    background-color: var(--disabled-bg-color);\n",
              "    fill: var(--disabled-fill-color);\n",
              "    box-shadow: none;\n",
              "  }\n",
              "\n",
              "  .colab-df-spinner {\n",
              "    border: 2px solid var(--fill-color);\n",
              "    border-color: transparent;\n",
              "    border-bottom-color: var(--fill-color);\n",
              "    animation:\n",
              "      spin 1s steps(1) infinite;\n",
              "  }\n",
              "\n",
              "  @keyframes spin {\n",
              "    0% {\n",
              "      border-color: transparent;\n",
              "      border-bottom-color: var(--fill-color);\n",
              "      border-left-color: var(--fill-color);\n",
              "    }\n",
              "    20% {\n",
              "      border-color: transparent;\n",
              "      border-left-color: var(--fill-color);\n",
              "      border-top-color: var(--fill-color);\n",
              "    }\n",
              "    30% {\n",
              "      border-color: transparent;\n",
              "      border-left-color: var(--fill-color);\n",
              "      border-top-color: var(--fill-color);\n",
              "      border-right-color: var(--fill-color);\n",
              "    }\n",
              "    40% {\n",
              "      border-color: transparent;\n",
              "      border-right-color: var(--fill-color);\n",
              "      border-top-color: var(--fill-color);\n",
              "    }\n",
              "    60% {\n",
              "      border-color: transparent;\n",
              "      border-right-color: var(--fill-color);\n",
              "    }\n",
              "    80% {\n",
              "      border-color: transparent;\n",
              "      border-right-color: var(--fill-color);\n",
              "      border-bottom-color: var(--fill-color);\n",
              "    }\n",
              "    90% {\n",
              "      border-color: transparent;\n",
              "      border-bottom-color: var(--fill-color);\n",
              "    }\n",
              "  }\n",
              "</style>\n",
              "\n",
              "      <script>\n",
              "        async function quickchart(key) {\n",
              "          const quickchartButtonEl =\n",
              "            document.querySelector('#' + key + ' button');\n",
              "          quickchartButtonEl.disabled = true;  // To prevent multiple clicks.\n",
              "          quickchartButtonEl.classList.add('colab-df-spinner');\n",
              "          try {\n",
              "            const charts = await google.colab.kernel.invokeFunction(\n",
              "                'suggestCharts', [key], {});\n",
              "          } catch (error) {\n",
              "            console.error('Error during call to suggestCharts:', error);\n",
              "          }\n",
              "          quickchartButtonEl.classList.remove('colab-df-spinner');\n",
              "          quickchartButtonEl.classList.add('colab-df-quickchart-complete');\n",
              "        }\n",
              "        (() => {\n",
              "          let quickchartButtonEl =\n",
              "            document.querySelector('#df-1d6f8eea-6b79-400f-8860-29245f88a2e0 button');\n",
              "          quickchartButtonEl.style.display =\n",
              "            google.colab.kernel.accessAllowed ? 'block' : 'none';\n",
              "        })();\n",
              "      </script>\n",
              "    </div>\n",
              "\n",
              "    </div>\n",
              "  </div>\n"
            ],
            "text/plain": [
              "                                 clean_combined_text label_model\n",
              "0  تقرير ترامب يوقع خلال ساعات أمرا بشأن تخفيف عق...       سياسة\n",
              "1  الإمارات تعزي ضحايا انهيار منجم السودان عبرت د...     اجتماعي\n",
              "2  مصادر محادثات مباشرة سوريا وإسرائيل بشأن ترتيب...       سياسة\n",
              "3  قصف إسرائيلي مباغت يقتل 24 شخصا استراحة شاطئ غ...       سياسة\n",
              "4  حملة ممنهجة بيان محامي شيرين جدل موازين قال مح...       ثقافة"
            ]
          },
          "execution_count": 1,
          "metadata": {},
          "output_type": "execute_result"
        }
      ],
      "source": [
        "import pandas as pd\n",
        "data = pd.read_csv(\"/content/update_cleaned_data_with_labels.csv\" )\n",
        "data.head()"
      ]
    },
    {
      "cell_type": "code",
      "execution_count": 4,
      "metadata": {
        "id": "h6YiE8-29vrz"
      },
      "outputs": [],
      "source": [
        "labels = [\"اجتماعي\", \"سياسة\", \"اقتصاد\", \"رياضة\", \"تكنولوجيا\", \"ثقافة\", \"صحة\"]"
      ]
    },
    {
      "cell_type": "code",
      "execution_count": 2,
      "metadata": {
        "execution": {
          "iopub.execute_input": "2025-07-03T19:41:56.633203Z",
          "iopub.status.busy": "2025-07-03T19:41:56.632941Z",
          "iopub.status.idle": "2025-07-03T19:42:07.638742Z",
          "shell.execute_reply": "2025-07-03T19:42:07.637937Z",
          "shell.execute_reply.started": "2025-07-03T19:41:56.633182Z"
        },
        "id": "edodCxUE5I_V",
        "trusted": true
      },
      "outputs": [],
      "source": [
        "from transformers import AutoTokenizer, AutoModelForSequenceClassification , AutoConfig"
      ]
    },
    {
      "cell_type": "code",
      "execution_count": 5,
      "metadata": {
        "colab": {
          "base_uri": "https://localhost:8080/",
          "height": 138,
          "referenced_widgets": [
            "2ac2f31083a74722bb4e0db1e8828749",
            "57acf01b7a014ca48c9113bb3cf87e7a",
            "9b5d0742b4a2463294466219e79eb28a",
            "eff5be1ab3dc41bf8eff0b93c64b6785",
            "b0550d9fcbfc439cabbe0a677b780a44",
            "bad8ab74c6d94ce3ae889234e3405fae",
            "231f9548a81f4d52a3c4632672c489db",
            "8bc5315cf6144f0cb1dd438cd99fcd98",
            "caade48ad17b4187a9cbccca2786d90b",
            "04e1fb032555470c9f25219205e9fb84",
            "233ce97508c9462686980a83aa4509d5"
          ]
        },
        "execution": {
          "iopub.execute_input": "2025-07-03T19:42:27.861103Z",
          "iopub.status.busy": "2025-07-03T19:42:27.860644Z",
          "iopub.status.idle": "2025-07-03T19:42:46.732936Z",
          "shell.execute_reply": "2025-07-03T19:42:46.732331Z",
          "shell.execute_reply.started": "2025-07-03T19:42:27.861080Z"
        },
        "id": "xPJgd3BD5I_V",
        "outputId": "e03d8fb1-5edc-4e18-f279-eacbf65625a5",
        "trusted": true
      },
      "outputs": [
        {
          "data": {
            "application/vnd.jupyter.widget-view+json": {
              "model_id": "2ac2f31083a74722bb4e0db1e8828749",
              "version_major": 2,
              "version_minor": 0
            },
            "text/plain": [
              "model.safetensors:   0%|          | 0.00/558M [00:00<?, ?B/s]"
            ]
          },
          "metadata": {},
          "output_type": "display_data"
        },
        {
          "name": "stderr",
          "output_type": "stream",
          "text": [
            "Some weights of DebertaV2ForSequenceClassification were not initialized from the model checkpoint at MoritzLaurer/mDeBERTa-v3-base-mnli-xnli and are newly initialized because the shapes did not match:\n",
            "- classifier.bias: found shape torch.Size([3]) in the checkpoint and torch.Size([7]) in the model instantiated\n",
            "- classifier.weight: found shape torch.Size([3, 768]) in the checkpoint and torch.Size([7, 768]) in the model instantiated\n",
            "You should probably TRAIN this model on a down-stream task to be able to use it for predictions and inference.\n"
          ]
        }
      ],
      "source": [
        "model_name = \"MoritzLaurer/mDeBERTa-v3-base-mnli-xnli\"\n",
        "\n",
        "tokenizer = AutoTokenizer.from_pretrained(model_name)\n",
        "\n",
        "config = AutoConfig.from_pretrained(model_name)\n",
        "config.num_labels = len(labels)\n",
        "config.id2label = {i: label for i, label in enumerate(labels)}\n",
        "config.label2id = {label: i for i, label in enumerate(labels)}\n",
        "\n",
        "model = AutoModelForSequenceClassification.from_pretrained(\n",
        "    model_name,\n",
        "    config = config , ignore_mismatched_sizes=True\n",
        ")"
      ]
    },
    {
      "cell_type": "code",
      "execution_count": 6,
      "metadata": {
        "execution": {
          "iopub.execute_input": "2025-07-03T19:42:46.734214Z",
          "iopub.status.busy": "2025-07-03T19:42:46.733762Z",
          "iopub.status.idle": "2025-07-03T19:42:47.554533Z",
          "shell.execute_reply": "2025-07-03T19:42:47.553770Z",
          "shell.execute_reply.started": "2025-07-03T19:42:46.734195Z"
        },
        "id": "6GWM9BG35I_V",
        "trusted": true
      },
      "outputs": [],
      "source": [
        "from datasets import load_dataset\n",
        "from datasets import Dataset"
      ]
    },
    {
      "cell_type": "code",
      "execution_count": 7,
      "metadata": {
        "execution": {
          "iopub.execute_input": "2025-07-03T19:50:11.474828Z",
          "iopub.status.busy": "2025-07-03T19:50:11.474539Z",
          "iopub.status.idle": "2025-07-03T19:50:12.048164Z",
          "shell.execute_reply": "2025-07-03T19:50:12.047542Z",
          "shell.execute_reply.started": "2025-07-03T19:50:11.474804Z"
        },
        "id": "9FhF6ejy5I_V",
        "trusted": true
      },
      "outputs": [],
      "source": [
        "dataset =  Dataset.from_pandas(data)\n",
        "dataset = dataset.train_test_split(test_size=0.03, seed=42)"
      ]
    },
    {
      "cell_type": "code",
      "execution_count": 8,
      "metadata": {
        "colab": {
          "base_uri": "https://localhost:8080/",
          "height": 81,
          "referenced_widgets": [
            "1560c12b09bd463dafdaac46aa410de9",
            "4ea1b9746f8e4fe997b63b8b265ac8e0",
            "ec6ae21588c34273ac439d0c9a16e021",
            "0f2cb0a8575747ce83e2e03d2d7c5838",
            "acaee736baec469e97ccbbf708d4c730",
            "1f38b8b650ea4506b95a613d625adfc7",
            "81007423f7714d208428583fc937fbd0",
            "8ecb73ac952f47048b05dd8e23608910",
            "a1a6c4a6bf3b40829667dc41d60ac284",
            "235887f380634c23bb50c3ce1e2d2056",
            "2ab667fe401048f79e39f2bee8c07f66",
            "36dedebe0b5c4b479e0cdc235bf0ad18",
            "58f9eb1339d94ad09b72b8d2ffa6cf95",
            "cb0caa236d374a15a90815f61adb56ad",
            "5707830d9d6d4ea9b2c2665c2711b5d6",
            "96abbb193a084026a66412cf15a78357",
            "4c172af0a8ad4f4dad04b515a4201b98",
            "47c22925b32442ed8b8a44919a7eae85",
            "356d97eb1d4840a882072838124725a6",
            "a21ac11976404cf1b4774cea45c340ee",
            "8828f01ea9a54d48aff08fca864cb245",
            "c580974a44e74b3cabaa83554928fb59"
          ]
        },
        "execution": {
          "iopub.execute_input": "2025-07-03T19:50:13.914503Z",
          "iopub.status.busy": "2025-07-03T19:50:13.913918Z",
          "iopub.status.idle": "2025-07-03T19:50:14.042285Z",
          "shell.execute_reply": "2025-07-03T19:50:14.041544Z",
          "shell.execute_reply.started": "2025-07-03T19:50:13.914483Z"
        },
        "id": "IySvBjpQ5I_W",
        "outputId": "74d10585-76ce-41ad-fd6e-306706ebe5af",
        "trusted": true
      },
      "outputs": [
        {
          "data": {
            "application/vnd.jupyter.widget-view+json": {
              "model_id": "1560c12b09bd463dafdaac46aa410de9",
              "version_major": 2,
              "version_minor": 0
            },
            "text/plain": [
              "Map:   0%|          | 0/215 [00:00<?, ? examples/s]"
            ]
          },
          "metadata": {},
          "output_type": "display_data"
        },
        {
          "data": {
            "application/vnd.jupyter.widget-view+json": {
              "model_id": "36dedebe0b5c4b479e0cdc235bf0ad18",
              "version_major": 2,
              "version_minor": 0
            },
            "text/plain": [
              "Map:   0%|          | 0/7 [00:00<?, ? examples/s]"
            ]
          },
          "metadata": {},
          "output_type": "display_data"
        }
      ],
      "source": [
        "# tokenization\n",
        "def tokenize(batch_data):\n",
        "    return tokenizer(batch_data['clean_combined_text'], padding=True, truncation=True, max_length=256)\n",
        "\n",
        "tokenize_data = dataset.map(tokenize , batched = True )"
      ]
    },
    {
      "cell_type": "code",
      "execution_count": 10,
      "metadata": {
        "colab": {
          "base_uri": "https://localhost:8080/",
          "height": 81,
          "referenced_widgets": [
            "01fbcf753b364ffb8cbe5210928c47e8",
            "d954cd28f7ed4e6985b51766d87377ed",
            "b64c231b141e4168a29f9e442557d3b8",
            "bb91febcaa16473ba78dde5e6deec3cf",
            "8c3e5ced418446d1bfdad625b2abc5c1",
            "5c11036a6e7a48c38f04d4f3abb6bdfb",
            "9f3a7419cc2b42ee90c884bc8e77061b",
            "422a2776cf7741b587208ff025080a21",
            "b33c227c9f344e2ebf98bf00f573e5d1",
            "992c0d8c45cd406cb0ef5c50994a7dce",
            "14e78a60bd8441259a99c390843d3229",
            "73e04d99d2a04910b8abc47d8c33e4aa",
            "af0887bb77a14caab290af13f3947e73",
            "25122d9bd47646f9b235581956833b9f",
            "42d80abeec5c48b7930fd07cb569f47e",
            "a43db143448e499199e2ae5d14e16d73",
            "3b6e1375de114bbaa730a0272fbaf939",
            "61111dbfc5644087a6de7b982e20090d",
            "89f566cb90a342a4921ca13df83d2b48",
            "fbfe48c84a71439ca9c4467a5004f021",
            "99e16a4c43624b1f9184a7791f17a095",
            "b9b8b05c55f24ebd9add7782f071a7f5"
          ]
        },
        "execution": {
          "iopub.execute_input": "2025-07-03T19:50:15.952857Z",
          "iopub.status.busy": "2025-07-03T19:50:15.952538Z",
          "iopub.status.idle": "2025-07-03T19:50:16.006014Z",
          "shell.execute_reply": "2025-07-03T19:50:16.005256Z",
          "shell.execute_reply.started": "2025-07-03T19:50:15.952834Z"
        },
        "id": "wZb59TAq5I_W",
        "outputId": "3e715ee7-7055-47d2-b95f-0b5223e8f599",
        "trusted": true
      },
      "outputs": [
        {
          "data": {
            "application/vnd.jupyter.widget-view+json": {
              "model_id": "01fbcf753b364ffb8cbe5210928c47e8",
              "version_major": 2,
              "version_minor": 0
            },
            "text/plain": [
              "Map:   0%|          | 0/215 [00:00<?, ? examples/s]"
            ]
          },
          "metadata": {},
          "output_type": "display_data"
        },
        {
          "data": {
            "application/vnd.jupyter.widget-view+json": {
              "model_id": "73e04d99d2a04910b8abc47d8c33e4aa",
              "version_major": 2,
              "version_minor": 0
            },
            "text/plain": [
              "Map:   0%|          | 0/7 [00:00<?, ? examples/s]"
            ]
          },
          "metadata": {},
          "output_type": "display_data"
        }
      ],
      "source": [
        "\n",
        "def encode_labels(batch):\n",
        "    batch['label_model'] = config.label2id[batch['label_model']]\n",
        "    return batch\n",
        "\n",
        "tokenize_data = tokenize_data.map(encode_labels)\n"
      ]
    },
    {
      "cell_type": "code",
      "execution_count": 11,
      "metadata": {
        "colab": {
          "base_uri": "https://localhost:8080/"
        },
        "execution": {
          "iopub.execute_input": "2025-07-03T19:50:50.850614Z",
          "iopub.status.busy": "2025-07-03T19:50:50.850115Z",
          "iopub.status.idle": "2025-07-03T19:50:50.855623Z",
          "shell.execute_reply": "2025-07-03T19:50:50.855007Z",
          "shell.execute_reply.started": "2025-07-03T19:50:50.850591Z"
        },
        "id": "jStTzdYO5I_W",
        "outputId": "c13d51f6-90ad-4986-df72-06898822dfa0",
        "trusted": true
      },
      "outputs": [
        {
          "data": {
            "text/plain": [
              "DatasetDict({\n",
              "    train: Dataset({\n",
              "        features: ['clean_combined_text', 'label_model', 'input_ids', 'token_type_ids', 'attention_mask'],\n",
              "        num_rows: 215\n",
              "    })\n",
              "    test: Dataset({\n",
              "        features: ['clean_combined_text', 'label_model', 'input_ids', 'token_type_ids', 'attention_mask'],\n",
              "        num_rows: 7\n",
              "    })\n",
              "})"
            ]
          },
          "execution_count": 11,
          "metadata": {},
          "output_type": "execute_result"
        }
      ],
      "source": [
        "tokenize_data"
      ]
    },
    {
      "cell_type": "code",
      "execution_count": 12,
      "metadata": {
        "id": "PAGqcZ1o91oA"
      },
      "outputs": [],
      "source": [
        "tokenize_data[\"train\"] = tokenize_data[\"train\"].rename_column(\"label_model\", \"labels\")\n",
        "tokenize_data[\"test\"] = tokenize_data[\"test\"].rename_column(\"label_model\", \"labels\")\n"
      ]
    },
    {
      "cell_type": "code",
      "execution_count": 13,
      "metadata": {
        "execution": {
          "iopub.execute_input": "2025-07-03T19:44:37.902451Z",
          "iopub.status.busy": "2025-07-03T19:44:37.901797Z",
          "iopub.status.idle": "2025-07-03T19:44:37.905414Z",
          "shell.execute_reply": "2025-07-03T19:44:37.904570Z",
          "shell.execute_reply.started": "2025-07-03T19:44:37.902430Z"
        },
        "id": "vDFTXjuT5I_W",
        "trusted": true
      },
      "outputs": [],
      "source": [
        "# retraining"
      ]
    },
    {
      "cell_type": "code",
      "execution_count": 14,
      "metadata": {
        "execution": {
          "iopub.execute_input": "2025-07-03T19:45:01.078508Z",
          "iopub.status.busy": "2025-07-03T19:45:01.077836Z",
          "iopub.status.idle": "2025-07-03T19:45:01.081995Z",
          "shell.execute_reply": "2025-07-03T19:45:01.081130Z",
          "shell.execute_reply.started": "2025-07-03T19:45:01.078484Z"
        },
        "id": "cTm8MMM35I_W",
        "trusted": true
      },
      "outputs": [],
      "source": [
        "from transformers import TrainingArguments, Trainer"
      ]
    },
    {
      "cell_type": "code",
      "execution_count": 15,
      "metadata": {
        "execution": {
          "iopub.execute_input": "2025-07-03T19:50:19.100899Z",
          "iopub.status.busy": "2025-07-03T19:50:19.100144Z",
          "iopub.status.idle": "2025-07-03T19:50:19.129158Z",
          "shell.execute_reply": "2025-07-03T19:50:19.128426Z",
          "shell.execute_reply.started": "2025-07-03T19:50:19.100871Z"
        },
        "id": "mq5ZXv_C5I_W",
        "trusted": true
      },
      "outputs": [],
      "source": [
        "training_args = TrainingArguments(\n",
        "    output_dir=\"./results\",\n",
        "    num_train_epochs=10,\n",
        "    per_device_train_batch_size=8,\n",
        "    per_device_eval_batch_size=8,\n",
        "    eval_strategy=\"epoch\",\n",
        "    logging_dir=\"./logs\",\n",
        "    report_to=[]   ,\n",
        "\n",
        ")"
      ]
    },
    {
      "cell_type": "code",
      "execution_count": 16,
      "metadata": {
        "colab": {
          "base_uri": "https://localhost:8080/"
        },
        "execution": {
          "iopub.execute_input": "2025-07-03T19:50:22.355230Z",
          "iopub.status.busy": "2025-07-03T19:50:22.354948Z",
          "iopub.status.idle": "2025-07-03T19:50:22.367802Z",
          "shell.execute_reply": "2025-07-03T19:50:22.367040Z",
          "shell.execute_reply.started": "2025-07-03T19:50:22.355211Z"
        },
        "id": "s00v8RaU5I_X",
        "outputId": "7f056351-70be-4591-db4a-3cbb6825d87e",
        "trusted": true
      },
      "outputs": [
        {
          "name": "stderr",
          "output_type": "stream",
          "text": [
            "/tmp/ipython-input-16-3604402715.py:1: FutureWarning: `tokenizer` is deprecated and will be removed in version 5.0.0 for `Trainer.__init__`. Use `processing_class` instead.\n",
            "  trainer = Trainer(\n"
          ]
        }
      ],
      "source": [
        "trainer = Trainer(\n",
        "    model=model,\n",
        "    args=training_args,\n",
        "    train_dataset=tokenize_data['train'],\n",
        "    eval_dataset=tokenize_data['test'],\n",
        "    tokenizer=tokenizer,\n",
        ")"
      ]
    },
    {
      "cell_type": "code",
      "execution_count": 17,
      "metadata": {
        "colab": {
          "base_uri": "https://localhost:8080/",
          "height": 423
        },
        "execution": {
          "iopub.execute_input": "2025-07-03T19:51:15.508115Z",
          "iopub.status.busy": "2025-07-03T19:51:15.507825Z"
        },
        "id": "HIRe2FQF5I_X",
        "outputId": "fc39be23-0a4e-4fdc-9f6f-bab006c16b69",
        "trusted": true
      },
      "outputs": [
        {
          "data": {
            "text/html": [
              "\n",
              "    <div>\n",
              "      \n",
              "      <progress value='270' max='270' style='width:300px; height:20px; vertical-align: middle;'></progress>\n",
              "      [270/270 02:16, Epoch 10/10]\n",
              "    </div>\n",
              "    <table border=\"1\" class=\"dataframe\">\n",
              "  <thead>\n",
              " <tr style=\"text-align: left;\">\n",
              "      <th>Epoch</th>\n",
              "      <th>Training Loss</th>\n",
              "      <th>Validation Loss</th>\n",
              "    </tr>\n",
              "  </thead>\n",
              "  <tbody>\n",
              "    <tr>\n",
              "      <td>1</td>\n",
              "      <td>No log</td>\n",
              "      <td>0.946320</td>\n",
              "    </tr>\n",
              "    <tr>\n",
              "      <td>2</td>\n",
              "      <td>No log</td>\n",
              "      <td>0.920667</td>\n",
              "    </tr>\n",
              "    <tr>\n",
              "      <td>3</td>\n",
              "      <td>No log</td>\n",
              "      <td>0.536131</td>\n",
              "    </tr>\n",
              "    <tr>\n",
              "      <td>4</td>\n",
              "      <td>No log</td>\n",
              "      <td>0.662725</td>\n",
              "    </tr>\n",
              "    <tr>\n",
              "      <td>5</td>\n",
              "      <td>No log</td>\n",
              "      <td>0.421545</td>\n",
              "    </tr>\n",
              "    <tr>\n",
              "      <td>6</td>\n",
              "      <td>No log</td>\n",
              "      <td>0.861572</td>\n",
              "    </tr>\n",
              "    <tr>\n",
              "      <td>7</td>\n",
              "      <td>No log</td>\n",
              "      <td>0.604991</td>\n",
              "    </tr>\n",
              "    <tr>\n",
              "      <td>8</td>\n",
              "      <td>No log</td>\n",
              "      <td>0.709507</td>\n",
              "    </tr>\n",
              "    <tr>\n",
              "      <td>9</td>\n",
              "      <td>No log</td>\n",
              "      <td>0.732209</td>\n",
              "    </tr>\n",
              "    <tr>\n",
              "      <td>10</td>\n",
              "      <td>No log</td>\n",
              "      <td>0.640227</td>\n",
              "    </tr>\n",
              "  </tbody>\n",
              "</table><p>"
            ],
            "text/plain": [
              "<IPython.core.display.HTML object>"
            ]
          },
          "metadata": {},
          "output_type": "display_data"
        },
        {
          "data": {
            "text/plain": [
              "TrainOutput(global_step=270, training_loss=0.8734460901331018, metrics={'train_runtime': 138.0883, 'train_samples_per_second': 15.57, 'train_steps_per_second': 1.955, 'total_flos': 172369125536400.0, 'train_loss': 0.8734460901331018, 'epoch': 10.0})"
            ]
          },
          "execution_count": 17,
          "metadata": {},
          "output_type": "execute_result"
        }
      ],
      "source": [
        "trainer.train()"
      ]
    },
    {
      "cell_type": "code",
      "execution_count": 18,
      "metadata": {
        "colab": {
          "base_uri": "https://localhost:8080/",
          "height": 592
        },
        "id": "wZ_J6oBhI98K",
        "outputId": "0b0bd72d-0fdd-4df0-a776-bfcf8d3a8ee7"
      },
      "outputs": [
        {
          "data": {
            "text/html": [],
            "text/plain": [
              "<IPython.core.display.HTML object>"
            ]
          },
          "metadata": {},
          "output_type": "display_data"
        },
        {
          "name": "stdout",
          "output_type": "stream",
          "text": [
            "              precision    recall  f1-score   support\n",
            "\n",
            "     اجتماعي       1.00      1.00      1.00         1\n",
            "       سياسة       1.00      0.80      0.89         5\n",
            "      اقتصاد       0.50      1.00      0.67         1\n",
            "       رياضة       0.00      0.00      0.00         0\n",
            "   تكنولوجيا       0.00      0.00      0.00         0\n",
            "       ثقافة       0.00      0.00      0.00         0\n",
            "         صحة       0.00      0.00      0.00         0\n",
            "\n",
            "    accuracy                           0.86         7\n",
            "   macro avg       0.36      0.40      0.37         7\n",
            "weighted avg       0.93      0.86      0.87         7\n",
            "\n"
          ]
        },
        {
          "name": "stderr",
          "output_type": "stream",
          "text": [
            "/usr/local/lib/python3.11/dist-packages/sklearn/metrics/_classification.py:1565: UndefinedMetricWarning: Precision is ill-defined and being set to 0.0 in labels with no predicted samples. Use `zero_division` parameter to control this behavior.\n",
            "  _warn_prf(average, modifier, f\"{metric.capitalize()} is\", len(result))\n",
            "/usr/local/lib/python3.11/dist-packages/sklearn/metrics/_classification.py:1565: UndefinedMetricWarning: Recall is ill-defined and being set to 0.0 in labels with no true samples. Use `zero_division` parameter to control this behavior.\n",
            "  _warn_prf(average, modifier, f\"{metric.capitalize()} is\", len(result))\n",
            "/usr/local/lib/python3.11/dist-packages/sklearn/metrics/_classification.py:1565: UndefinedMetricWarning: F-score is ill-defined and being set to 0.0 in labels with no true nor predicted samples. Use `zero_division` parameter to control this behavior.\n",
            "  _warn_prf(average, modifier, f\"{metric.capitalize()} is\", len(result))\n",
            "/usr/local/lib/python3.11/dist-packages/sklearn/metrics/_classification.py:1565: UndefinedMetricWarning: Precision is ill-defined and being set to 0.0 in labels with no predicted samples. Use `zero_division` parameter to control this behavior.\n",
            "  _warn_prf(average, modifier, f\"{metric.capitalize()} is\", len(result))\n",
            "/usr/local/lib/python3.11/dist-packages/sklearn/metrics/_classification.py:1565: UndefinedMetricWarning: Recall is ill-defined and being set to 0.0 in labels with no true samples. Use `zero_division` parameter to control this behavior.\n",
            "  _warn_prf(average, modifier, f\"{metric.capitalize()} is\", len(result))\n",
            "/usr/local/lib/python3.11/dist-packages/sklearn/metrics/_classification.py:1565: UndefinedMetricWarning: F-score is ill-defined and being set to 0.0 in labels with no true nor predicted samples. Use `zero_division` parameter to control this behavior.\n",
            "  _warn_prf(average, modifier, f\"{metric.capitalize()} is\", len(result))\n",
            "/usr/local/lib/python3.11/dist-packages/sklearn/metrics/_classification.py:1565: UndefinedMetricWarning: Precision is ill-defined and being set to 0.0 in labels with no predicted samples. Use `zero_division` parameter to control this behavior.\n",
            "  _warn_prf(average, modifier, f\"{metric.capitalize()} is\", len(result))\n",
            "/usr/local/lib/python3.11/dist-packages/sklearn/metrics/_classification.py:1565: UndefinedMetricWarning: Recall is ill-defined and being set to 0.0 in labels with no true samples. Use `zero_division` parameter to control this behavior.\n",
            "  _warn_prf(average, modifier, f\"{metric.capitalize()} is\", len(result))\n",
            "/usr/local/lib/python3.11/dist-packages/sklearn/metrics/_classification.py:1565: UndefinedMetricWarning: F-score is ill-defined and being set to 0.0 in labels with no true nor predicted samples. Use `zero_division` parameter to control this behavior.\n",
            "  _warn_prf(average, modifier, f\"{metric.capitalize()} is\", len(result))\n"
          ]
        }
      ],
      "source": [
        "predictions = trainer.predict(tokenize_data[\"test\"])\n",
        "from sklearn.metrics import classification_report\n",
        "labels_ids = list(config.id2label.keys())\n",
        "\n",
        "print(classification_report(\n",
        "    predictions.label_ids,\n",
        "    predictions.predictions.argmax(-1),\n",
        "    labels=labels_ids,\n",
        "    target_names=list(config.id2label.values())\n",
        "))"
      ]
    },
    {
      "cell_type": "code",
      "execution_count": 19,
      "metadata": {
        "colab": {
          "base_uri": "https://localhost:8080/",
          "height": 592
        },
        "id": "ZQAgri-G-c9-",
        "outputId": "a60f9af4-6a6a-4642-d02d-374ace4bf230"
      },
      "outputs": [
        {
          "data": {
            "text/html": [],
            "text/plain": [
              "<IPython.core.display.HTML object>"
            ]
          },
          "metadata": {},
          "output_type": "display_data"
        },
        {
          "name": "stdout",
          "output_type": "stream",
          "text": [
            "              precision    recall  f1-score   support\n",
            "\n",
            "     اجتماعي       1.00      1.00      1.00         1\n",
            "       سياسة       1.00      0.80      0.89         5\n",
            "      اقتصاد       0.50      1.00      0.67         1\n",
            "       رياضة       0.00      0.00      0.00         0\n",
            "   تكنولوجيا       0.00      0.00      0.00         0\n",
            "       ثقافة       0.00      0.00      0.00         0\n",
            "         صحة       0.00      0.00      0.00         0\n",
            "\n",
            "    accuracy                           0.86         7\n",
            "   macro avg       0.36      0.40      0.37         7\n",
            "weighted avg       0.93      0.86      0.87         7\n",
            "\n"
          ]
        },
        {
          "name": "stderr",
          "output_type": "stream",
          "text": [
            "/usr/local/lib/python3.11/dist-packages/sklearn/metrics/_classification.py:1565: UndefinedMetricWarning: Precision is ill-defined and being set to 0.0 in labels with no predicted samples. Use `zero_division` parameter to control this behavior.\n",
            "  _warn_prf(average, modifier, f\"{metric.capitalize()} is\", len(result))\n",
            "/usr/local/lib/python3.11/dist-packages/sklearn/metrics/_classification.py:1565: UndefinedMetricWarning: Recall is ill-defined and being set to 0.0 in labels with no true samples. Use `zero_division` parameter to control this behavior.\n",
            "  _warn_prf(average, modifier, f\"{metric.capitalize()} is\", len(result))\n",
            "/usr/local/lib/python3.11/dist-packages/sklearn/metrics/_classification.py:1565: UndefinedMetricWarning: F-score is ill-defined and being set to 0.0 in labels with no true nor predicted samples. Use `zero_division` parameter to control this behavior.\n",
            "  _warn_prf(average, modifier, f\"{metric.capitalize()} is\", len(result))\n",
            "/usr/local/lib/python3.11/dist-packages/sklearn/metrics/_classification.py:1565: UndefinedMetricWarning: Precision is ill-defined and being set to 0.0 in labels with no predicted samples. Use `zero_division` parameter to control this behavior.\n",
            "  _warn_prf(average, modifier, f\"{metric.capitalize()} is\", len(result))\n",
            "/usr/local/lib/python3.11/dist-packages/sklearn/metrics/_classification.py:1565: UndefinedMetricWarning: Recall is ill-defined and being set to 0.0 in labels with no true samples. Use `zero_division` parameter to control this behavior.\n",
            "  _warn_prf(average, modifier, f\"{metric.capitalize()} is\", len(result))\n",
            "/usr/local/lib/python3.11/dist-packages/sklearn/metrics/_classification.py:1565: UndefinedMetricWarning: F-score is ill-defined and being set to 0.0 in labels with no true nor predicted samples. Use `zero_division` parameter to control this behavior.\n",
            "  _warn_prf(average, modifier, f\"{metric.capitalize()} is\", len(result))\n",
            "/usr/local/lib/python3.11/dist-packages/sklearn/metrics/_classification.py:1565: UndefinedMetricWarning: Precision is ill-defined and being set to 0.0 in labels with no predicted samples. Use `zero_division` parameter to control this behavior.\n",
            "  _warn_prf(average, modifier, f\"{metric.capitalize()} is\", len(result))\n",
            "/usr/local/lib/python3.11/dist-packages/sklearn/metrics/_classification.py:1565: UndefinedMetricWarning: Recall is ill-defined and being set to 0.0 in labels with no true samples. Use `zero_division` parameter to control this behavior.\n",
            "  _warn_prf(average, modifier, f\"{metric.capitalize()} is\", len(result))\n",
            "/usr/local/lib/python3.11/dist-packages/sklearn/metrics/_classification.py:1565: UndefinedMetricWarning: F-score is ill-defined and being set to 0.0 in labels with no true nor predicted samples. Use `zero_division` parameter to control this behavior.\n",
            "  _warn_prf(average, modifier, f\"{metric.capitalize()} is\", len(result))\n"
          ]
        }
      ],
      "source": [
        "predictions = trainer.predict(tokenize_data[\"test\"])\n",
        "from sklearn.metrics import classification_report\n",
        "labels_ids = list(config.id2label.keys())\n",
        "\n",
        "print(classification_report(\n",
        "    predictions.label_ids,\n",
        "    predictions.predictions.argmax(-1),\n",
        "    labels=labels_ids,\n",
        "    target_names=list(config.id2label.values())\n",
        "))"
      ]
    },
    {
      "cell_type": "code",
      "execution_count": 20,
      "metadata": {
        "id": "ytFGE7R15I_X",
        "trusted": true
      },
      "outputs": [],
      "source": [
        "trainer.save_model(\"/content/my_finetuned_model\")\n"
      ]
    },
    {
      "cell_type": "markdown",
      "metadata": {
        "id": "46pvUEqLJme3"
      },
      "source": [
        "## solving unbalance"
      ]
    },
    {
      "cell_type": "code",
      "execution_count": null,
      "metadata": {
        "id": "kXX8ryceKNEY"
      },
      "outputs": [],
      "source": [
        "tokenize_data[\"train\"] = tokenize_data[\"train\"].rename_column(\"label_model\", \"labels\")\n",
        "tokenize_data[\"test\"] = tokenize_data[\"test\"].rename_column(\"label_model\", \"labels\")\n"
      ]
    },
    {
      "cell_type": "code",
      "execution_count": 22,
      "metadata": {
        "id": "noA4AzAXKVgX"
      },
      "outputs": [],
      "source": [
        "from sklearn.utils.class_weight import compute_class_weight\n",
        "import numpy as np\n",
        "\n",
        "class_weights = compute_class_weight(\n",
        "    class_weight='balanced',\n",
        "    classes=np.unique(tokenize_data[\"train\"][\"labels\"]),\n",
        "    y=tokenize_data[\"train\"][\"labels\"]\n",
        ")"
      ]
    },
    {
      "cell_type": "code",
      "execution_count": 23,
      "metadata": {
        "colab": {
          "base_uri": "https://localhost:8080/"
        },
        "id": "003UMmvoKYZg",
        "outputId": "498e56ff-0b50-462e-b6ed-e3a2c2d29101"
      },
      "outputs": [
        {
          "data": {
            "text/plain": [
              "array([1.2797619 , 0.28439153, 1.33540373, 2.19387755, 1.46258503,\n",
              "       2.36263736, 2.55952381])"
            ]
          },
          "execution_count": 23,
          "metadata": {},
          "output_type": "execute_result"
        }
      ],
      "source": [
        "class_weights"
      ]
    },
    {
      "cell_type": "code",
      "execution_count": 26,
      "metadata": {
        "id": "-vqMKSu8KlrO"
      },
      "outputs": [],
      "source": [
        "import torch\n",
        "class_weights_tensor = torch.tensor(class_weights, dtype=torch.float)"
      ]
    },
    {
      "cell_type": "code",
      "execution_count": 27,
      "metadata": {
        "colab": {
          "base_uri": "https://localhost:8080/"
        },
        "id": "Gz368EZdKvEs",
        "outputId": "3c66523f-199a-4f56-d2df-15285be19c31"
      },
      "outputs": [
        {
          "data": {
            "text/plain": [
              "tensor([1.2798, 0.2844, 1.3354, 2.1939, 1.4626, 2.3626, 2.5595])"
            ]
          },
          "execution_count": 27,
          "metadata": {},
          "output_type": "execute_result"
        }
      ],
      "source": [
        "class_weights_tensor"
      ]
    },
    {
      "cell_type": "code",
      "execution_count": 31,
      "metadata": {
        "id": "rE-ErPnrKwSW"
      },
      "outputs": [],
      "source": [
        "from transformers import Trainer\n",
        "import torch.nn as nn\n",
        "\n",
        "class WeightedTrainer(Trainer):\n",
        "    def __init__(self, *args, class_weights=None, **kwargs):\n",
        "        super().__init__(*args, **kwargs)\n",
        "        self.class_weights = class_weights\n",
        "\n",
        "    def compute_loss(self, model, inputs, return_outputs=False, num_items_in_batch=None):\n",
        "        labels = inputs.get(\"labels\")\n",
        "        outputs = model(**inputs)\n",
        "        logits = outputs.get(\"logits\")\n",
        "        loss_fct = torch.nn.CrossEntropyLoss(weight=self.class_weights.to(logits.device))\n",
        "        loss = loss_fct(logits.view(-1, self.model.config.num_labels), labels.view(-1))\n",
        "        return (loss, outputs) if return_outputs else loss\n"
      ]
    },
    {
      "cell_type": "code",
      "execution_count": 34,
      "metadata": {
        "colab": {
          "base_uri": "https://localhost:8080/"
        },
        "id": "4X037kpnLe7F",
        "outputId": "cd060318-5210-4304-dfaf-67de436d8a94"
      },
      "outputs": [
        {
          "name": "stderr",
          "output_type": "stream",
          "text": [
            "/tmp/ipython-input-31-4164355982.py:6: FutureWarning: `tokenizer` is deprecated and will be removed in version 5.0.0 for `WeightedTrainer.__init__`. Use `processing_class` instead.\n",
            "  super().__init__(*args, **kwargs)\n"
          ]
        }
      ],
      "source": [
        "trainer = WeightedTrainer(\n",
        "    model=model,\n",
        "    args=training_args,\n",
        "    train_dataset=tokenize_data['train'],\n",
        "    eval_dataset=tokenize_data['test'],\n",
        "    tokenizer=tokenizer,\n",
        "    class_weights=class_weights_tensor\n",
        ")"
      ]
    },
    {
      "cell_type": "code",
      "execution_count": 36,
      "metadata": {
        "colab": {
          "base_uri": "https://localhost:8080/",
          "height": 441
        },
        "id": "BH3C5xRDLgng",
        "outputId": "2f03ba09-8e65-48df-ee87-f1b1b6407f40"
      },
      "outputs": [
        {
          "data": {
            "text/html": [
              "\n",
              "    <div>\n",
              "      \n",
              "      <progress value='270' max='270' style='width:300px; height:20px; vertical-align: middle;'></progress>\n",
              "      [270/270 04:20, Epoch 10/10]\n",
              "    </div>\n",
              "    <table border=\"1\" class=\"dataframe\">\n",
              "  <thead>\n",
              " <tr style=\"text-align: left;\">\n",
              "      <th>Epoch</th>\n",
              "      <th>Training Loss</th>\n",
              "      <th>Validation Loss</th>\n",
              "    </tr>\n",
              "  </thead>\n",
              "  <tbody>\n",
              "    <tr>\n",
              "      <td>1</td>\n",
              "      <td>No log</td>\n",
              "      <td>0.009806</td>\n",
              "    </tr>\n",
              "    <tr>\n",
              "      <td>2</td>\n",
              "      <td>No log</td>\n",
              "      <td>0.003038</td>\n",
              "    </tr>\n",
              "    <tr>\n",
              "      <td>3</td>\n",
              "      <td>No log</td>\n",
              "      <td>0.005253</td>\n",
              "    </tr>\n",
              "    <tr>\n",
              "      <td>4</td>\n",
              "      <td>No log</td>\n",
              "      <td>0.004136</td>\n",
              "    </tr>\n",
              "    <tr>\n",
              "      <td>5</td>\n",
              "      <td>No log</td>\n",
              "      <td>0.003052</td>\n",
              "    </tr>\n",
              "    <tr>\n",
              "      <td>6</td>\n",
              "      <td>No log</td>\n",
              "      <td>0.005526</td>\n",
              "    </tr>\n",
              "    <tr>\n",
              "      <td>7</td>\n",
              "      <td>No log</td>\n",
              "      <td>0.005401</td>\n",
              "    </tr>\n",
              "    <tr>\n",
              "      <td>8</td>\n",
              "      <td>No log</td>\n",
              "      <td>0.004703</td>\n",
              "    </tr>\n",
              "    <tr>\n",
              "      <td>9</td>\n",
              "      <td>No log</td>\n",
              "      <td>0.004786</td>\n",
              "    </tr>\n",
              "    <tr>\n",
              "      <td>10</td>\n",
              "      <td>No log</td>\n",
              "      <td>0.004500</td>\n",
              "    </tr>\n",
              "  </tbody>\n",
              "</table><p>"
            ],
            "text/plain": [
              "<IPython.core.display.HTML object>"
            ]
          },
          "metadata": {},
          "output_type": "display_data"
        },
        {
          "data": {
            "text/plain": [
              "TrainOutput(global_step=270, training_loss=0.0020139307887465864, metrics={'train_runtime': 260.9359, 'train_samples_per_second': 8.24, 'train_steps_per_second': 1.035, 'total_flos': 172369125536400.0, 'train_loss': 0.0020139307887465864, 'epoch': 10.0})"
            ]
          },
          "execution_count": 36,
          "metadata": {},
          "output_type": "execute_result"
        }
      ],
      "source": [
        "trainer.train()"
      ]
    },
    {
      "cell_type": "code",
      "execution_count": 37,
      "metadata": {
        "colab": {
          "base_uri": "https://localhost:8080/",
          "height": 592
        },
        "id": "lizvbw4xLjlV",
        "outputId": "149988fc-7072-4bcb-89d7-5cfac01e150f"
      },
      "outputs": [
        {
          "data": {
            "text/html": [],
            "text/plain": [
              "<IPython.core.display.HTML object>"
            ]
          },
          "metadata": {},
          "output_type": "display_data"
        },
        {
          "name": "stdout",
          "output_type": "stream",
          "text": [
            "              precision    recall  f1-score   support\n",
            "\n",
            "     اجتماعي       1.00      1.00      1.00         1\n",
            "       سياسة       1.00      1.00      1.00         5\n",
            "      اقتصاد       1.00      1.00      1.00         1\n",
            "       رياضة       0.00      0.00      0.00         0\n",
            "   تكنولوجيا       0.00      0.00      0.00         0\n",
            "       ثقافة       0.00      0.00      0.00         0\n",
            "         صحة       0.00      0.00      0.00         0\n",
            "\n",
            "    accuracy                           1.00         7\n",
            "   macro avg       0.43      0.43      0.43         7\n",
            "weighted avg       1.00      1.00      1.00         7\n",
            "\n"
          ]
        },
        {
          "name": "stderr",
          "output_type": "stream",
          "text": [
            "/usr/local/lib/python3.11/dist-packages/sklearn/metrics/_classification.py:1565: UndefinedMetricWarning: Precision is ill-defined and being set to 0.0 in labels with no predicted samples. Use `zero_division` parameter to control this behavior.\n",
            "  _warn_prf(average, modifier, f\"{metric.capitalize()} is\", len(result))\n",
            "/usr/local/lib/python3.11/dist-packages/sklearn/metrics/_classification.py:1565: UndefinedMetricWarning: Recall is ill-defined and being set to 0.0 in labels with no true samples. Use `zero_division` parameter to control this behavior.\n",
            "  _warn_prf(average, modifier, f\"{metric.capitalize()} is\", len(result))\n",
            "/usr/local/lib/python3.11/dist-packages/sklearn/metrics/_classification.py:1565: UndefinedMetricWarning: F-score is ill-defined and being set to 0.0 in labels with no true nor predicted samples. Use `zero_division` parameter to control this behavior.\n",
            "  _warn_prf(average, modifier, f\"{metric.capitalize()} is\", len(result))\n",
            "/usr/local/lib/python3.11/dist-packages/sklearn/metrics/_classification.py:1565: UndefinedMetricWarning: Precision is ill-defined and being set to 0.0 in labels with no predicted samples. Use `zero_division` parameter to control this behavior.\n",
            "  _warn_prf(average, modifier, f\"{metric.capitalize()} is\", len(result))\n",
            "/usr/local/lib/python3.11/dist-packages/sklearn/metrics/_classification.py:1565: UndefinedMetricWarning: Recall is ill-defined and being set to 0.0 in labels with no true samples. Use `zero_division` parameter to control this behavior.\n",
            "  _warn_prf(average, modifier, f\"{metric.capitalize()} is\", len(result))\n",
            "/usr/local/lib/python3.11/dist-packages/sklearn/metrics/_classification.py:1565: UndefinedMetricWarning: F-score is ill-defined and being set to 0.0 in labels with no true nor predicted samples. Use `zero_division` parameter to control this behavior.\n",
            "  _warn_prf(average, modifier, f\"{metric.capitalize()} is\", len(result))\n",
            "/usr/local/lib/python3.11/dist-packages/sklearn/metrics/_classification.py:1565: UndefinedMetricWarning: Precision is ill-defined and being set to 0.0 in labels with no predicted samples. Use `zero_division` parameter to control this behavior.\n",
            "  _warn_prf(average, modifier, f\"{metric.capitalize()} is\", len(result))\n",
            "/usr/local/lib/python3.11/dist-packages/sklearn/metrics/_classification.py:1565: UndefinedMetricWarning: Recall is ill-defined and being set to 0.0 in labels with no true samples. Use `zero_division` parameter to control this behavior.\n",
            "  _warn_prf(average, modifier, f\"{metric.capitalize()} is\", len(result))\n",
            "/usr/local/lib/python3.11/dist-packages/sklearn/metrics/_classification.py:1565: UndefinedMetricWarning: F-score is ill-defined and being set to 0.0 in labels with no true nor predicted samples. Use `zero_division` parameter to control this behavior.\n",
            "  _warn_prf(average, modifier, f\"{metric.capitalize()} is\", len(result))\n"
          ]
        }
      ],
      "source": [
        "predictions = trainer.predict(tokenize_data[\"test\"])\n",
        "from sklearn.metrics import classification_report\n",
        "labels_ids = list(config.id2label.keys())\n",
        "\n",
        "print(classification_report(\n",
        "    predictions.label_ids,\n",
        "    predictions.predictions.argmax(-1),\n",
        "    labels=labels_ids,\n",
        "    target_names=list(config.id2label.values())\n",
        "))"
      ]
    },
    {
      "cell_type": "code",
      "execution_count": 38,
      "metadata": {
        "colab": {
          "base_uri": "https://localhost:8080/",
          "height": 260
        },
        "id": "-VNw4n0XMnJb",
        "outputId": "83696ce7-7159-4af9-ccc9-8df26fae5c7a"
      },
      "outputs": [
        {
          "data": {
            "text/html": [],
            "text/plain": [
              "<IPython.core.display.HTML object>"
            ]
          },
          "metadata": {},
          "output_type": "display_data"
        },
        {
          "name": "stdout",
          "output_type": "stream",
          "text": [
            "              precision    recall  f1-score   support\n",
            "\n",
            "     اجتماعي       1.00      1.00      1.00        24\n",
            "       سياسة       1.00      1.00      1.00       108\n",
            "      اقتصاد       1.00      1.00      1.00        23\n",
            "       رياضة       1.00      1.00      1.00        14\n",
            "   تكنولوجيا       1.00      1.00      1.00        21\n",
            "       ثقافة       1.00      1.00      1.00        13\n",
            "         صحة       1.00      1.00      1.00        12\n",
            "\n",
            "    accuracy                           1.00       215\n",
            "   macro avg       1.00      1.00      1.00       215\n",
            "weighted avg       1.00      1.00      1.00       215\n",
            "\n"
          ]
        }
      ],
      "source": [
        "predictions = trainer.predict(tokenize_data[\"train\"])\n",
        "from sklearn.metrics import classification_report\n",
        "labels_ids = list(config.id2label.keys())\n",
        "\n",
        "print(classification_report(\n",
        "    predictions.label_ids,\n",
        "    predictions.predictions.argmax(-1),\n",
        "    labels=labels_ids,\n",
        "    target_names=list(config.id2label.values())\n",
        "))"
      ]
    },
    {
      "cell_type": "code",
      "execution_count": 52,
      "metadata": {
        "id": "IFjWgwLnTybZ"
      },
      "outputs": [],
      "source": [
        "trainer.save_model(\"/content/my_finetuned_model\")"
      ]
    },
    {
      "cell_type": "code",
      "execution_count": null,
      "metadata": {
        "id": "4p2sN0JUUKen"
      },
      "outputs": [],
      "source": []
    }
  ],
  "metadata": {
    "accelerator": "GPU",
    "colab": {
      "gpuType": "T4",
      "provenance": []
    },
    "kaggle": {
      "accelerator": "gpu",
      "dataSources": [
        {
          "datasetId": 7796305,
          "sourceId": 12365280,
          "sourceType": "datasetVersion"
        }
      ],
      "dockerImageVersionId": 31041,
      "isGpuEnabled": true,
      "isInternetEnabled": true,
      "language": "python",
      "sourceType": "notebook"
    },
    "kernelspec": {
      "display_name": "Python 3",
      "name": "python3"
    },
    "language_info": {
      "codemirror_mode": {
        "name": "ipython",
        "version": 3
      },
      "file_extension": ".py",
      "mimetype": "text/x-python",
      "name": "python",
      "nbconvert_exporter": "python",
      "pygments_lexer": "ipython3",
      "version": "3.11.11"
    },
    "widgets": {
      "application/vnd.jupyter.widget-state+json": {
        "01fbcf753b364ffb8cbe5210928c47e8": {
          "model_module": "@jupyter-widgets/controls",
          "model_module_version": "1.5.0",
          "model_name": "HBoxModel",
          "state": {
            "_dom_classes": [],
            "_model_module": "@jupyter-widgets/controls",
            "_model_module_version": "1.5.0",
            "_model_name": "HBoxModel",
            "_view_count": null,
            "_view_module": "@jupyter-widgets/controls",
            "_view_module_version": "1.5.0",
            "_view_name": "HBoxView",
            "box_style": "",
            "children": [
              "IPY_MODEL_d954cd28f7ed4e6985b51766d87377ed",
              "IPY_MODEL_b64c231b141e4168a29f9e442557d3b8",
              "IPY_MODEL_bb91febcaa16473ba78dde5e6deec3cf"
            ],
            "layout": "IPY_MODEL_8c3e5ced418446d1bfdad625b2abc5c1"
          }
        },
        "04e1fb032555470c9f25219205e9fb84": {
          "model_module": "@jupyter-widgets/base",
          "model_module_version": "1.2.0",
          "model_name": "LayoutModel",
          "state": {
            "_model_module": "@jupyter-widgets/base",
            "_model_module_version": "1.2.0",
            "_model_name": "LayoutModel",
            "_view_count": null,
            "_view_module": "@jupyter-widgets/base",
            "_view_module_version": "1.2.0",
            "_view_name": "LayoutView",
            "align_content": null,
            "align_items": null,
            "align_self": null,
            "border": null,
            "bottom": null,
            "display": null,
            "flex": null,
            "flex_flow": null,
            "grid_area": null,
            "grid_auto_columns": null,
            "grid_auto_flow": null,
            "grid_auto_rows": null,
            "grid_column": null,
            "grid_gap": null,
            "grid_row": null,
            "grid_template_areas": null,
            "grid_template_columns": null,
            "grid_template_rows": null,
            "height": null,
            "justify_content": null,
            "justify_items": null,
            "left": null,
            "margin": null,
            "max_height": null,
            "max_width": null,
            "min_height": null,
            "min_width": null,
            "object_fit": null,
            "object_position": null,
            "order": null,
            "overflow": null,
            "overflow_x": null,
            "overflow_y": null,
            "padding": null,
            "right": null,
            "top": null,
            "visibility": null,
            "width": null
          }
        },
        "0f2cb0a8575747ce83e2e03d2d7c5838": {
          "model_module": "@jupyter-widgets/controls",
          "model_module_version": "1.5.0",
          "model_name": "HTMLModel",
          "state": {
            "_dom_classes": [],
            "_model_module": "@jupyter-widgets/controls",
            "_model_module_version": "1.5.0",
            "_model_name": "HTMLModel",
            "_view_count": null,
            "_view_module": "@jupyter-widgets/controls",
            "_view_module_version": "1.5.0",
            "_view_name": "HTMLView",
            "description": "",
            "description_tooltip": null,
            "layout": "IPY_MODEL_235887f380634c23bb50c3ce1e2d2056",
            "placeholder": "​",
            "style": "IPY_MODEL_2ab667fe401048f79e39f2bee8c07f66",
            "value": " 215/215 [00:00&lt;00:00, 835.86 examples/s]"
          }
        },
        "14e78a60bd8441259a99c390843d3229": {
          "model_module": "@jupyter-widgets/controls",
          "model_module_version": "1.5.0",
          "model_name": "DescriptionStyleModel",
          "state": {
            "_model_module": "@jupyter-widgets/controls",
            "_model_module_version": "1.5.0",
            "_model_name": "DescriptionStyleModel",
            "_view_count": null,
            "_view_module": "@jupyter-widgets/base",
            "_view_module_version": "1.2.0",
            "_view_name": "StyleView",
            "description_width": ""
          }
        },
        "1560c12b09bd463dafdaac46aa410de9": {
          "model_module": "@jupyter-widgets/controls",
          "model_module_version": "1.5.0",
          "model_name": "HBoxModel",
          "state": {
            "_dom_classes": [],
            "_model_module": "@jupyter-widgets/controls",
            "_model_module_version": "1.5.0",
            "_model_name": "HBoxModel",
            "_view_count": null,
            "_view_module": "@jupyter-widgets/controls",
            "_view_module_version": "1.5.0",
            "_view_name": "HBoxView",
            "box_style": "",
            "children": [
              "IPY_MODEL_4ea1b9746f8e4fe997b63b8b265ac8e0",
              "IPY_MODEL_ec6ae21588c34273ac439d0c9a16e021",
              "IPY_MODEL_0f2cb0a8575747ce83e2e03d2d7c5838"
            ],
            "layout": "IPY_MODEL_acaee736baec469e97ccbbf708d4c730"
          }
        },
        "1f38b8b650ea4506b95a613d625adfc7": {
          "model_module": "@jupyter-widgets/base",
          "model_module_version": "1.2.0",
          "model_name": "LayoutModel",
          "state": {
            "_model_module": "@jupyter-widgets/base",
            "_model_module_version": "1.2.0",
            "_model_name": "LayoutModel",
            "_view_count": null,
            "_view_module": "@jupyter-widgets/base",
            "_view_module_version": "1.2.0",
            "_view_name": "LayoutView",
            "align_content": null,
            "align_items": null,
            "align_self": null,
            "border": null,
            "bottom": null,
            "display": null,
            "flex": null,
            "flex_flow": null,
            "grid_area": null,
            "grid_auto_columns": null,
            "grid_auto_flow": null,
            "grid_auto_rows": null,
            "grid_column": null,
            "grid_gap": null,
            "grid_row": null,
            "grid_template_areas": null,
            "grid_template_columns": null,
            "grid_template_rows": null,
            "height": null,
            "justify_content": null,
            "justify_items": null,
            "left": null,
            "margin": null,
            "max_height": null,
            "max_width": null,
            "min_height": null,
            "min_width": null,
            "object_fit": null,
            "object_position": null,
            "order": null,
            "overflow": null,
            "overflow_x": null,
            "overflow_y": null,
            "padding": null,
            "right": null,
            "top": null,
            "visibility": null,
            "width": null
          }
        },
        "231f9548a81f4d52a3c4632672c489db": {
          "model_module": "@jupyter-widgets/controls",
          "model_module_version": "1.5.0",
          "model_name": "DescriptionStyleModel",
          "state": {
            "_model_module": "@jupyter-widgets/controls",
            "_model_module_version": "1.5.0",
            "_model_name": "DescriptionStyleModel",
            "_view_count": null,
            "_view_module": "@jupyter-widgets/base",
            "_view_module_version": "1.2.0",
            "_view_name": "StyleView",
            "description_width": ""
          }
        },
        "233ce97508c9462686980a83aa4509d5": {
          "model_module": "@jupyter-widgets/controls",
          "model_module_version": "1.5.0",
          "model_name": "DescriptionStyleModel",
          "state": {
            "_model_module": "@jupyter-widgets/controls",
            "_model_module_version": "1.5.0",
            "_model_name": "DescriptionStyleModel",
            "_view_count": null,
            "_view_module": "@jupyter-widgets/base",
            "_view_module_version": "1.2.0",
            "_view_name": "StyleView",
            "description_width": ""
          }
        },
        "235887f380634c23bb50c3ce1e2d2056": {
          "model_module": "@jupyter-widgets/base",
          "model_module_version": "1.2.0",
          "model_name": "LayoutModel",
          "state": {
            "_model_module": "@jupyter-widgets/base",
            "_model_module_version": "1.2.0",
            "_model_name": "LayoutModel",
            "_view_count": null,
            "_view_module": "@jupyter-widgets/base",
            "_view_module_version": "1.2.0",
            "_view_name": "LayoutView",
            "align_content": null,
            "align_items": null,
            "align_self": null,
            "border": null,
            "bottom": null,
            "display": null,
            "flex": null,
            "flex_flow": null,
            "grid_area": null,
            "grid_auto_columns": null,
            "grid_auto_flow": null,
            "grid_auto_rows": null,
            "grid_column": null,
            "grid_gap": null,
            "grid_row": null,
            "grid_template_areas": null,
            "grid_template_columns": null,
            "grid_template_rows": null,
            "height": null,
            "justify_content": null,
            "justify_items": null,
            "left": null,
            "margin": null,
            "max_height": null,
            "max_width": null,
            "min_height": null,
            "min_width": null,
            "object_fit": null,
            "object_position": null,
            "order": null,
            "overflow": null,
            "overflow_x": null,
            "overflow_y": null,
            "padding": null,
            "right": null,
            "top": null,
            "visibility": null,
            "width": null
          }
        },
        "25122d9bd47646f9b235581956833b9f": {
          "model_module": "@jupyter-widgets/controls",
          "model_module_version": "1.5.0",
          "model_name": "FloatProgressModel",
          "state": {
            "_dom_classes": [],
            "_model_module": "@jupyter-widgets/controls",
            "_model_module_version": "1.5.0",
            "_model_name": "FloatProgressModel",
            "_view_count": null,
            "_view_module": "@jupyter-widgets/controls",
            "_view_module_version": "1.5.0",
            "_view_name": "ProgressView",
            "bar_style": "success",
            "description": "",
            "description_tooltip": null,
            "layout": "IPY_MODEL_89f566cb90a342a4921ca13df83d2b48",
            "max": 7,
            "min": 0,
            "orientation": "horizontal",
            "style": "IPY_MODEL_fbfe48c84a71439ca9c4467a5004f021",
            "value": 7
          }
        },
        "2ab667fe401048f79e39f2bee8c07f66": {
          "model_module": "@jupyter-widgets/controls",
          "model_module_version": "1.5.0",
          "model_name": "DescriptionStyleModel",
          "state": {
            "_model_module": "@jupyter-widgets/controls",
            "_model_module_version": "1.5.0",
            "_model_name": "DescriptionStyleModel",
            "_view_count": null,
            "_view_module": "@jupyter-widgets/base",
            "_view_module_version": "1.2.0",
            "_view_name": "StyleView",
            "description_width": ""
          }
        },
        "2ac2f31083a74722bb4e0db1e8828749": {
          "model_module": "@jupyter-widgets/controls",
          "model_module_version": "1.5.0",
          "model_name": "HBoxModel",
          "state": {
            "_dom_classes": [],
            "_model_module": "@jupyter-widgets/controls",
            "_model_module_version": "1.5.0",
            "_model_name": "HBoxModel",
            "_view_count": null,
            "_view_module": "@jupyter-widgets/controls",
            "_view_module_version": "1.5.0",
            "_view_name": "HBoxView",
            "box_style": "",
            "children": [
              "IPY_MODEL_57acf01b7a014ca48c9113bb3cf87e7a",
              "IPY_MODEL_9b5d0742b4a2463294466219e79eb28a",
              "IPY_MODEL_eff5be1ab3dc41bf8eff0b93c64b6785"
            ],
            "layout": "IPY_MODEL_b0550d9fcbfc439cabbe0a677b780a44"
          }
        },
        "356d97eb1d4840a882072838124725a6": {
          "model_module": "@jupyter-widgets/base",
          "model_module_version": "1.2.0",
          "model_name": "LayoutModel",
          "state": {
            "_model_module": "@jupyter-widgets/base",
            "_model_module_version": "1.2.0",
            "_model_name": "LayoutModel",
            "_view_count": null,
            "_view_module": "@jupyter-widgets/base",
            "_view_module_version": "1.2.0",
            "_view_name": "LayoutView",
            "align_content": null,
            "align_items": null,
            "align_self": null,
            "border": null,
            "bottom": null,
            "display": null,
            "flex": null,
            "flex_flow": null,
            "grid_area": null,
            "grid_auto_columns": null,
            "grid_auto_flow": null,
            "grid_auto_rows": null,
            "grid_column": null,
            "grid_gap": null,
            "grid_row": null,
            "grid_template_areas": null,
            "grid_template_columns": null,
            "grid_template_rows": null,
            "height": null,
            "justify_content": null,
            "justify_items": null,
            "left": null,
            "margin": null,
            "max_height": null,
            "max_width": null,
            "min_height": null,
            "min_width": null,
            "object_fit": null,
            "object_position": null,
            "order": null,
            "overflow": null,
            "overflow_x": null,
            "overflow_y": null,
            "padding": null,
            "right": null,
            "top": null,
            "visibility": null,
            "width": null
          }
        },
        "36dedebe0b5c4b479e0cdc235bf0ad18": {
          "model_module": "@jupyter-widgets/controls",
          "model_module_version": "1.5.0",
          "model_name": "HBoxModel",
          "state": {
            "_dom_classes": [],
            "_model_module": "@jupyter-widgets/controls",
            "_model_module_version": "1.5.0",
            "_model_name": "HBoxModel",
            "_view_count": null,
            "_view_module": "@jupyter-widgets/controls",
            "_view_module_version": "1.5.0",
            "_view_name": "HBoxView",
            "box_style": "",
            "children": [
              "IPY_MODEL_58f9eb1339d94ad09b72b8d2ffa6cf95",
              "IPY_MODEL_cb0caa236d374a15a90815f61adb56ad",
              "IPY_MODEL_5707830d9d6d4ea9b2c2665c2711b5d6"
            ],
            "layout": "IPY_MODEL_96abbb193a084026a66412cf15a78357"
          }
        },
        "3b6e1375de114bbaa730a0272fbaf939": {
          "model_module": "@jupyter-widgets/base",
          "model_module_version": "1.2.0",
          "model_name": "LayoutModel",
          "state": {
            "_model_module": "@jupyter-widgets/base",
            "_model_module_version": "1.2.0",
            "_model_name": "LayoutModel",
            "_view_count": null,
            "_view_module": "@jupyter-widgets/base",
            "_view_module_version": "1.2.0",
            "_view_name": "LayoutView",
            "align_content": null,
            "align_items": null,
            "align_self": null,
            "border": null,
            "bottom": null,
            "display": null,
            "flex": null,
            "flex_flow": null,
            "grid_area": null,
            "grid_auto_columns": null,
            "grid_auto_flow": null,
            "grid_auto_rows": null,
            "grid_column": null,
            "grid_gap": null,
            "grid_row": null,
            "grid_template_areas": null,
            "grid_template_columns": null,
            "grid_template_rows": null,
            "height": null,
            "justify_content": null,
            "justify_items": null,
            "left": null,
            "margin": null,
            "max_height": null,
            "max_width": null,
            "min_height": null,
            "min_width": null,
            "object_fit": null,
            "object_position": null,
            "order": null,
            "overflow": null,
            "overflow_x": null,
            "overflow_y": null,
            "padding": null,
            "right": null,
            "top": null,
            "visibility": null,
            "width": null
          }
        },
        "422a2776cf7741b587208ff025080a21": {
          "model_module": "@jupyter-widgets/base",
          "model_module_version": "1.2.0",
          "model_name": "LayoutModel",
          "state": {
            "_model_module": "@jupyter-widgets/base",
            "_model_module_version": "1.2.0",
            "_model_name": "LayoutModel",
            "_view_count": null,
            "_view_module": "@jupyter-widgets/base",
            "_view_module_version": "1.2.0",
            "_view_name": "LayoutView",
            "align_content": null,
            "align_items": null,
            "align_self": null,
            "border": null,
            "bottom": null,
            "display": null,
            "flex": null,
            "flex_flow": null,
            "grid_area": null,
            "grid_auto_columns": null,
            "grid_auto_flow": null,
            "grid_auto_rows": null,
            "grid_column": null,
            "grid_gap": null,
            "grid_row": null,
            "grid_template_areas": null,
            "grid_template_columns": null,
            "grid_template_rows": null,
            "height": null,
            "justify_content": null,
            "justify_items": null,
            "left": null,
            "margin": null,
            "max_height": null,
            "max_width": null,
            "min_height": null,
            "min_width": null,
            "object_fit": null,
            "object_position": null,
            "order": null,
            "overflow": null,
            "overflow_x": null,
            "overflow_y": null,
            "padding": null,
            "right": null,
            "top": null,
            "visibility": null,
            "width": null
          }
        },
        "42d80abeec5c48b7930fd07cb569f47e": {
          "model_module": "@jupyter-widgets/controls",
          "model_module_version": "1.5.0",
          "model_name": "HTMLModel",
          "state": {
            "_dom_classes": [],
            "_model_module": "@jupyter-widgets/controls",
            "_model_module_version": "1.5.0",
            "_model_name": "HTMLModel",
            "_view_count": null,
            "_view_module": "@jupyter-widgets/controls",
            "_view_module_version": "1.5.0",
            "_view_name": "HTMLView",
            "description": "",
            "description_tooltip": null,
            "layout": "IPY_MODEL_99e16a4c43624b1f9184a7791f17a095",
            "placeholder": "​",
            "style": "IPY_MODEL_b9b8b05c55f24ebd9add7782f071a7f5",
            "value": " 7/7 [00:00&lt;00:00, 222.08 examples/s]"
          }
        },
        "47c22925b32442ed8b8a44919a7eae85": {
          "model_module": "@jupyter-widgets/controls",
          "model_module_version": "1.5.0",
          "model_name": "DescriptionStyleModel",
          "state": {
            "_model_module": "@jupyter-widgets/controls",
            "_model_module_version": "1.5.0",
            "_model_name": "DescriptionStyleModel",
            "_view_count": null,
            "_view_module": "@jupyter-widgets/base",
            "_view_module_version": "1.2.0",
            "_view_name": "StyleView",
            "description_width": ""
          }
        },
        "4c172af0a8ad4f4dad04b515a4201b98": {
          "model_module": "@jupyter-widgets/base",
          "model_module_version": "1.2.0",
          "model_name": "LayoutModel",
          "state": {
            "_model_module": "@jupyter-widgets/base",
            "_model_module_version": "1.2.0",
            "_model_name": "LayoutModel",
            "_view_count": null,
            "_view_module": "@jupyter-widgets/base",
            "_view_module_version": "1.2.0",
            "_view_name": "LayoutView",
            "align_content": null,
            "align_items": null,
            "align_self": null,
            "border": null,
            "bottom": null,
            "display": null,
            "flex": null,
            "flex_flow": null,
            "grid_area": null,
            "grid_auto_columns": null,
            "grid_auto_flow": null,
            "grid_auto_rows": null,
            "grid_column": null,
            "grid_gap": null,
            "grid_row": null,
            "grid_template_areas": null,
            "grid_template_columns": null,
            "grid_template_rows": null,
            "height": null,
            "justify_content": null,
            "justify_items": null,
            "left": null,
            "margin": null,
            "max_height": null,
            "max_width": null,
            "min_height": null,
            "min_width": null,
            "object_fit": null,
            "object_position": null,
            "order": null,
            "overflow": null,
            "overflow_x": null,
            "overflow_y": null,
            "padding": null,
            "right": null,
            "top": null,
            "visibility": null,
            "width": null
          }
        },
        "4ea1b9746f8e4fe997b63b8b265ac8e0": {
          "model_module": "@jupyter-widgets/controls",
          "model_module_version": "1.5.0",
          "model_name": "HTMLModel",
          "state": {
            "_dom_classes": [],
            "_model_module": "@jupyter-widgets/controls",
            "_model_module_version": "1.5.0",
            "_model_name": "HTMLModel",
            "_view_count": null,
            "_view_module": "@jupyter-widgets/controls",
            "_view_module_version": "1.5.0",
            "_view_name": "HTMLView",
            "description": "",
            "description_tooltip": null,
            "layout": "IPY_MODEL_1f38b8b650ea4506b95a613d625adfc7",
            "placeholder": "​",
            "style": "IPY_MODEL_81007423f7714d208428583fc937fbd0",
            "value": "Map: 100%"
          }
        },
        "5707830d9d6d4ea9b2c2665c2711b5d6": {
          "model_module": "@jupyter-widgets/controls",
          "model_module_version": "1.5.0",
          "model_name": "HTMLModel",
          "state": {
            "_dom_classes": [],
            "_model_module": "@jupyter-widgets/controls",
            "_model_module_version": "1.5.0",
            "_model_name": "HTMLModel",
            "_view_count": null,
            "_view_module": "@jupyter-widgets/controls",
            "_view_module_version": "1.5.0",
            "_view_name": "HTMLView",
            "description": "",
            "description_tooltip": null,
            "layout": "IPY_MODEL_8828f01ea9a54d48aff08fca864cb245",
            "placeholder": "​",
            "style": "IPY_MODEL_c580974a44e74b3cabaa83554928fb59",
            "value": " 7/7 [00:00&lt;00:00, 133.60 examples/s]"
          }
        },
        "57acf01b7a014ca48c9113bb3cf87e7a": {
          "model_module": "@jupyter-widgets/controls",
          "model_module_version": "1.5.0",
          "model_name": "HTMLModel",
          "state": {
            "_dom_classes": [],
            "_model_module": "@jupyter-widgets/controls",
            "_model_module_version": "1.5.0",
            "_model_name": "HTMLModel",
            "_view_count": null,
            "_view_module": "@jupyter-widgets/controls",
            "_view_module_version": "1.5.0",
            "_view_name": "HTMLView",
            "description": "",
            "description_tooltip": null,
            "layout": "IPY_MODEL_bad8ab74c6d94ce3ae889234e3405fae",
            "placeholder": "​",
            "style": "IPY_MODEL_231f9548a81f4d52a3c4632672c489db",
            "value": "model.safetensors: 100%"
          }
        },
        "58f9eb1339d94ad09b72b8d2ffa6cf95": {
          "model_module": "@jupyter-widgets/controls",
          "model_module_version": "1.5.0",
          "model_name": "HTMLModel",
          "state": {
            "_dom_classes": [],
            "_model_module": "@jupyter-widgets/controls",
            "_model_module_version": "1.5.0",
            "_model_name": "HTMLModel",
            "_view_count": null,
            "_view_module": "@jupyter-widgets/controls",
            "_view_module_version": "1.5.0",
            "_view_name": "HTMLView",
            "description": "",
            "description_tooltip": null,
            "layout": "IPY_MODEL_4c172af0a8ad4f4dad04b515a4201b98",
            "placeholder": "​",
            "style": "IPY_MODEL_47c22925b32442ed8b8a44919a7eae85",
            "value": "Map: 100%"
          }
        },
        "5c11036a6e7a48c38f04d4f3abb6bdfb": {
          "model_module": "@jupyter-widgets/base",
          "model_module_version": "1.2.0",
          "model_name": "LayoutModel",
          "state": {
            "_model_module": "@jupyter-widgets/base",
            "_model_module_version": "1.2.0",
            "_model_name": "LayoutModel",
            "_view_count": null,
            "_view_module": "@jupyter-widgets/base",
            "_view_module_version": "1.2.0",
            "_view_name": "LayoutView",
            "align_content": null,
            "align_items": null,
            "align_self": null,
            "border": null,
            "bottom": null,
            "display": null,
            "flex": null,
            "flex_flow": null,
            "grid_area": null,
            "grid_auto_columns": null,
            "grid_auto_flow": null,
            "grid_auto_rows": null,
            "grid_column": null,
            "grid_gap": null,
            "grid_row": null,
            "grid_template_areas": null,
            "grid_template_columns": null,
            "grid_template_rows": null,
            "height": null,
            "justify_content": null,
            "justify_items": null,
            "left": null,
            "margin": null,
            "max_height": null,
            "max_width": null,
            "min_height": null,
            "min_width": null,
            "object_fit": null,
            "object_position": null,
            "order": null,
            "overflow": null,
            "overflow_x": null,
            "overflow_y": null,
            "padding": null,
            "right": null,
            "top": null,
            "visibility": null,
            "width": null
          }
        },
        "61111dbfc5644087a6de7b982e20090d": {
          "model_module": "@jupyter-widgets/controls",
          "model_module_version": "1.5.0",
          "model_name": "DescriptionStyleModel",
          "state": {
            "_model_module": "@jupyter-widgets/controls",
            "_model_module_version": "1.5.0",
            "_model_name": "DescriptionStyleModel",
            "_view_count": null,
            "_view_module": "@jupyter-widgets/base",
            "_view_module_version": "1.2.0",
            "_view_name": "StyleView",
            "description_width": ""
          }
        },
        "73e04d99d2a04910b8abc47d8c33e4aa": {
          "model_module": "@jupyter-widgets/controls",
          "model_module_version": "1.5.0",
          "model_name": "HBoxModel",
          "state": {
            "_dom_classes": [],
            "_model_module": "@jupyter-widgets/controls",
            "_model_module_version": "1.5.0",
            "_model_name": "HBoxModel",
            "_view_count": null,
            "_view_module": "@jupyter-widgets/controls",
            "_view_module_version": "1.5.0",
            "_view_name": "HBoxView",
            "box_style": "",
            "children": [
              "IPY_MODEL_af0887bb77a14caab290af13f3947e73",
              "IPY_MODEL_25122d9bd47646f9b235581956833b9f",
              "IPY_MODEL_42d80abeec5c48b7930fd07cb569f47e"
            ],
            "layout": "IPY_MODEL_a43db143448e499199e2ae5d14e16d73"
          }
        },
        "81007423f7714d208428583fc937fbd0": {
          "model_module": "@jupyter-widgets/controls",
          "model_module_version": "1.5.0",
          "model_name": "DescriptionStyleModel",
          "state": {
            "_model_module": "@jupyter-widgets/controls",
            "_model_module_version": "1.5.0",
            "_model_name": "DescriptionStyleModel",
            "_view_count": null,
            "_view_module": "@jupyter-widgets/base",
            "_view_module_version": "1.2.0",
            "_view_name": "StyleView",
            "description_width": ""
          }
        },
        "8828f01ea9a54d48aff08fca864cb245": {
          "model_module": "@jupyter-widgets/base",
          "model_module_version": "1.2.0",
          "model_name": "LayoutModel",
          "state": {
            "_model_module": "@jupyter-widgets/base",
            "_model_module_version": "1.2.0",
            "_model_name": "LayoutModel",
            "_view_count": null,
            "_view_module": "@jupyter-widgets/base",
            "_view_module_version": "1.2.0",
            "_view_name": "LayoutView",
            "align_content": null,
            "align_items": null,
            "align_self": null,
            "border": null,
            "bottom": null,
            "display": null,
            "flex": null,
            "flex_flow": null,
            "grid_area": null,
            "grid_auto_columns": null,
            "grid_auto_flow": null,
            "grid_auto_rows": null,
            "grid_column": null,
            "grid_gap": null,
            "grid_row": null,
            "grid_template_areas": null,
            "grid_template_columns": null,
            "grid_template_rows": null,
            "height": null,
            "justify_content": null,
            "justify_items": null,
            "left": null,
            "margin": null,
            "max_height": null,
            "max_width": null,
            "min_height": null,
            "min_width": null,
            "object_fit": null,
            "object_position": null,
            "order": null,
            "overflow": null,
            "overflow_x": null,
            "overflow_y": null,
            "padding": null,
            "right": null,
            "top": null,
            "visibility": null,
            "width": null
          }
        },
        "89f566cb90a342a4921ca13df83d2b48": {
          "model_module": "@jupyter-widgets/base",
          "model_module_version": "1.2.0",
          "model_name": "LayoutModel",
          "state": {
            "_model_module": "@jupyter-widgets/base",
            "_model_module_version": "1.2.0",
            "_model_name": "LayoutModel",
            "_view_count": null,
            "_view_module": "@jupyter-widgets/base",
            "_view_module_version": "1.2.0",
            "_view_name": "LayoutView",
            "align_content": null,
            "align_items": null,
            "align_self": null,
            "border": null,
            "bottom": null,
            "display": null,
            "flex": null,
            "flex_flow": null,
            "grid_area": null,
            "grid_auto_columns": null,
            "grid_auto_flow": null,
            "grid_auto_rows": null,
            "grid_column": null,
            "grid_gap": null,
            "grid_row": null,
            "grid_template_areas": null,
            "grid_template_columns": null,
            "grid_template_rows": null,
            "height": null,
            "justify_content": null,
            "justify_items": null,
            "left": null,
            "margin": null,
            "max_height": null,
            "max_width": null,
            "min_height": null,
            "min_width": null,
            "object_fit": null,
            "object_position": null,
            "order": null,
            "overflow": null,
            "overflow_x": null,
            "overflow_y": null,
            "padding": null,
            "right": null,
            "top": null,
            "visibility": null,
            "width": null
          }
        },
        "8bc5315cf6144f0cb1dd438cd99fcd98": {
          "model_module": "@jupyter-widgets/base",
          "model_module_version": "1.2.0",
          "model_name": "LayoutModel",
          "state": {
            "_model_module": "@jupyter-widgets/base",
            "_model_module_version": "1.2.0",
            "_model_name": "LayoutModel",
            "_view_count": null,
            "_view_module": "@jupyter-widgets/base",
            "_view_module_version": "1.2.0",
            "_view_name": "LayoutView",
            "align_content": null,
            "align_items": null,
            "align_self": null,
            "border": null,
            "bottom": null,
            "display": null,
            "flex": null,
            "flex_flow": null,
            "grid_area": null,
            "grid_auto_columns": null,
            "grid_auto_flow": null,
            "grid_auto_rows": null,
            "grid_column": null,
            "grid_gap": null,
            "grid_row": null,
            "grid_template_areas": null,
            "grid_template_columns": null,
            "grid_template_rows": null,
            "height": null,
            "justify_content": null,
            "justify_items": null,
            "left": null,
            "margin": null,
            "max_height": null,
            "max_width": null,
            "min_height": null,
            "min_width": null,
            "object_fit": null,
            "object_position": null,
            "order": null,
            "overflow": null,
            "overflow_x": null,
            "overflow_y": null,
            "padding": null,
            "right": null,
            "top": null,
            "visibility": null,
            "width": null
          }
        },
        "8c3e5ced418446d1bfdad625b2abc5c1": {
          "model_module": "@jupyter-widgets/base",
          "model_module_version": "1.2.0",
          "model_name": "LayoutModel",
          "state": {
            "_model_module": "@jupyter-widgets/base",
            "_model_module_version": "1.2.0",
            "_model_name": "LayoutModel",
            "_view_count": null,
            "_view_module": "@jupyter-widgets/base",
            "_view_module_version": "1.2.0",
            "_view_name": "LayoutView",
            "align_content": null,
            "align_items": null,
            "align_self": null,
            "border": null,
            "bottom": null,
            "display": null,
            "flex": null,
            "flex_flow": null,
            "grid_area": null,
            "grid_auto_columns": null,
            "grid_auto_flow": null,
            "grid_auto_rows": null,
            "grid_column": null,
            "grid_gap": null,
            "grid_row": null,
            "grid_template_areas": null,
            "grid_template_columns": null,
            "grid_template_rows": null,
            "height": null,
            "justify_content": null,
            "justify_items": null,
            "left": null,
            "margin": null,
            "max_height": null,
            "max_width": null,
            "min_height": null,
            "min_width": null,
            "object_fit": null,
            "object_position": null,
            "order": null,
            "overflow": null,
            "overflow_x": null,
            "overflow_y": null,
            "padding": null,
            "right": null,
            "top": null,
            "visibility": null,
            "width": null
          }
        },
        "8ecb73ac952f47048b05dd8e23608910": {
          "model_module": "@jupyter-widgets/base",
          "model_module_version": "1.2.0",
          "model_name": "LayoutModel",
          "state": {
            "_model_module": "@jupyter-widgets/base",
            "_model_module_version": "1.2.0",
            "_model_name": "LayoutModel",
            "_view_count": null,
            "_view_module": "@jupyter-widgets/base",
            "_view_module_version": "1.2.0",
            "_view_name": "LayoutView",
            "align_content": null,
            "align_items": null,
            "align_self": null,
            "border": null,
            "bottom": null,
            "display": null,
            "flex": null,
            "flex_flow": null,
            "grid_area": null,
            "grid_auto_columns": null,
            "grid_auto_flow": null,
            "grid_auto_rows": null,
            "grid_column": null,
            "grid_gap": null,
            "grid_row": null,
            "grid_template_areas": null,
            "grid_template_columns": null,
            "grid_template_rows": null,
            "height": null,
            "justify_content": null,
            "justify_items": null,
            "left": null,
            "margin": null,
            "max_height": null,
            "max_width": null,
            "min_height": null,
            "min_width": null,
            "object_fit": null,
            "object_position": null,
            "order": null,
            "overflow": null,
            "overflow_x": null,
            "overflow_y": null,
            "padding": null,
            "right": null,
            "top": null,
            "visibility": null,
            "width": null
          }
        },
        "96abbb193a084026a66412cf15a78357": {
          "model_module": "@jupyter-widgets/base",
          "model_module_version": "1.2.0",
          "model_name": "LayoutModel",
          "state": {
            "_model_module": "@jupyter-widgets/base",
            "_model_module_version": "1.2.0",
            "_model_name": "LayoutModel",
            "_view_count": null,
            "_view_module": "@jupyter-widgets/base",
            "_view_module_version": "1.2.0",
            "_view_name": "LayoutView",
            "align_content": null,
            "align_items": null,
            "align_self": null,
            "border": null,
            "bottom": null,
            "display": null,
            "flex": null,
            "flex_flow": null,
            "grid_area": null,
            "grid_auto_columns": null,
            "grid_auto_flow": null,
            "grid_auto_rows": null,
            "grid_column": null,
            "grid_gap": null,
            "grid_row": null,
            "grid_template_areas": null,
            "grid_template_columns": null,
            "grid_template_rows": null,
            "height": null,
            "justify_content": null,
            "justify_items": null,
            "left": null,
            "margin": null,
            "max_height": null,
            "max_width": null,
            "min_height": null,
            "min_width": null,
            "object_fit": null,
            "object_position": null,
            "order": null,
            "overflow": null,
            "overflow_x": null,
            "overflow_y": null,
            "padding": null,
            "right": null,
            "top": null,
            "visibility": null,
            "width": null
          }
        },
        "992c0d8c45cd406cb0ef5c50994a7dce": {
          "model_module": "@jupyter-widgets/base",
          "model_module_version": "1.2.0",
          "model_name": "LayoutModel",
          "state": {
            "_model_module": "@jupyter-widgets/base",
            "_model_module_version": "1.2.0",
            "_model_name": "LayoutModel",
            "_view_count": null,
            "_view_module": "@jupyter-widgets/base",
            "_view_module_version": "1.2.0",
            "_view_name": "LayoutView",
            "align_content": null,
            "align_items": null,
            "align_self": null,
            "border": null,
            "bottom": null,
            "display": null,
            "flex": null,
            "flex_flow": null,
            "grid_area": null,
            "grid_auto_columns": null,
            "grid_auto_flow": null,
            "grid_auto_rows": null,
            "grid_column": null,
            "grid_gap": null,
            "grid_row": null,
            "grid_template_areas": null,
            "grid_template_columns": null,
            "grid_template_rows": null,
            "height": null,
            "justify_content": null,
            "justify_items": null,
            "left": null,
            "margin": null,
            "max_height": null,
            "max_width": null,
            "min_height": null,
            "min_width": null,
            "object_fit": null,
            "object_position": null,
            "order": null,
            "overflow": null,
            "overflow_x": null,
            "overflow_y": null,
            "padding": null,
            "right": null,
            "top": null,
            "visibility": null,
            "width": null
          }
        },
        "99e16a4c43624b1f9184a7791f17a095": {
          "model_module": "@jupyter-widgets/base",
          "model_module_version": "1.2.0",
          "model_name": "LayoutModel",
          "state": {
            "_model_module": "@jupyter-widgets/base",
            "_model_module_version": "1.2.0",
            "_model_name": "LayoutModel",
            "_view_count": null,
            "_view_module": "@jupyter-widgets/base",
            "_view_module_version": "1.2.0",
            "_view_name": "LayoutView",
            "align_content": null,
            "align_items": null,
            "align_self": null,
            "border": null,
            "bottom": null,
            "display": null,
            "flex": null,
            "flex_flow": null,
            "grid_area": null,
            "grid_auto_columns": null,
            "grid_auto_flow": null,
            "grid_auto_rows": null,
            "grid_column": null,
            "grid_gap": null,
            "grid_row": null,
            "grid_template_areas": null,
            "grid_template_columns": null,
            "grid_template_rows": null,
            "height": null,
            "justify_content": null,
            "justify_items": null,
            "left": null,
            "margin": null,
            "max_height": null,
            "max_width": null,
            "min_height": null,
            "min_width": null,
            "object_fit": null,
            "object_position": null,
            "order": null,
            "overflow": null,
            "overflow_x": null,
            "overflow_y": null,
            "padding": null,
            "right": null,
            "top": null,
            "visibility": null,
            "width": null
          }
        },
        "9b5d0742b4a2463294466219e79eb28a": {
          "model_module": "@jupyter-widgets/controls",
          "model_module_version": "1.5.0",
          "model_name": "FloatProgressModel",
          "state": {
            "_dom_classes": [],
            "_model_module": "@jupyter-widgets/controls",
            "_model_module_version": "1.5.0",
            "_model_name": "FloatProgressModel",
            "_view_count": null,
            "_view_module": "@jupyter-widgets/controls",
            "_view_module_version": "1.5.0",
            "_view_name": "ProgressView",
            "bar_style": "success",
            "description": "",
            "description_tooltip": null,
            "layout": "IPY_MODEL_8bc5315cf6144f0cb1dd438cd99fcd98",
            "max": 557652046,
            "min": 0,
            "orientation": "horizontal",
            "style": "IPY_MODEL_caade48ad17b4187a9cbccca2786d90b",
            "value": 557652046
          }
        },
        "9f3a7419cc2b42ee90c884bc8e77061b": {
          "model_module": "@jupyter-widgets/controls",
          "model_module_version": "1.5.0",
          "model_name": "DescriptionStyleModel",
          "state": {
            "_model_module": "@jupyter-widgets/controls",
            "_model_module_version": "1.5.0",
            "_model_name": "DescriptionStyleModel",
            "_view_count": null,
            "_view_module": "@jupyter-widgets/base",
            "_view_module_version": "1.2.0",
            "_view_name": "StyleView",
            "description_width": ""
          }
        },
        "a1a6c4a6bf3b40829667dc41d60ac284": {
          "model_module": "@jupyter-widgets/controls",
          "model_module_version": "1.5.0",
          "model_name": "ProgressStyleModel",
          "state": {
            "_model_module": "@jupyter-widgets/controls",
            "_model_module_version": "1.5.0",
            "_model_name": "ProgressStyleModel",
            "_view_count": null,
            "_view_module": "@jupyter-widgets/base",
            "_view_module_version": "1.2.0",
            "_view_name": "StyleView",
            "bar_color": null,
            "description_width": ""
          }
        },
        "a21ac11976404cf1b4774cea45c340ee": {
          "model_module": "@jupyter-widgets/controls",
          "model_module_version": "1.5.0",
          "model_name": "ProgressStyleModel",
          "state": {
            "_model_module": "@jupyter-widgets/controls",
            "_model_module_version": "1.5.0",
            "_model_name": "ProgressStyleModel",
            "_view_count": null,
            "_view_module": "@jupyter-widgets/base",
            "_view_module_version": "1.2.0",
            "_view_name": "StyleView",
            "bar_color": null,
            "description_width": ""
          }
        },
        "a43db143448e499199e2ae5d14e16d73": {
          "model_module": "@jupyter-widgets/base",
          "model_module_version": "1.2.0",
          "model_name": "LayoutModel",
          "state": {
            "_model_module": "@jupyter-widgets/base",
            "_model_module_version": "1.2.0",
            "_model_name": "LayoutModel",
            "_view_count": null,
            "_view_module": "@jupyter-widgets/base",
            "_view_module_version": "1.2.0",
            "_view_name": "LayoutView",
            "align_content": null,
            "align_items": null,
            "align_self": null,
            "border": null,
            "bottom": null,
            "display": null,
            "flex": null,
            "flex_flow": null,
            "grid_area": null,
            "grid_auto_columns": null,
            "grid_auto_flow": null,
            "grid_auto_rows": null,
            "grid_column": null,
            "grid_gap": null,
            "grid_row": null,
            "grid_template_areas": null,
            "grid_template_columns": null,
            "grid_template_rows": null,
            "height": null,
            "justify_content": null,
            "justify_items": null,
            "left": null,
            "margin": null,
            "max_height": null,
            "max_width": null,
            "min_height": null,
            "min_width": null,
            "object_fit": null,
            "object_position": null,
            "order": null,
            "overflow": null,
            "overflow_x": null,
            "overflow_y": null,
            "padding": null,
            "right": null,
            "top": null,
            "visibility": null,
            "width": null
          }
        },
        "acaee736baec469e97ccbbf708d4c730": {
          "model_module": "@jupyter-widgets/base",
          "model_module_version": "1.2.0",
          "model_name": "LayoutModel",
          "state": {
            "_model_module": "@jupyter-widgets/base",
            "_model_module_version": "1.2.0",
            "_model_name": "LayoutModel",
            "_view_count": null,
            "_view_module": "@jupyter-widgets/base",
            "_view_module_version": "1.2.0",
            "_view_name": "LayoutView",
            "align_content": null,
            "align_items": null,
            "align_self": null,
            "border": null,
            "bottom": null,
            "display": null,
            "flex": null,
            "flex_flow": null,
            "grid_area": null,
            "grid_auto_columns": null,
            "grid_auto_flow": null,
            "grid_auto_rows": null,
            "grid_column": null,
            "grid_gap": null,
            "grid_row": null,
            "grid_template_areas": null,
            "grid_template_columns": null,
            "grid_template_rows": null,
            "height": null,
            "justify_content": null,
            "justify_items": null,
            "left": null,
            "margin": null,
            "max_height": null,
            "max_width": null,
            "min_height": null,
            "min_width": null,
            "object_fit": null,
            "object_position": null,
            "order": null,
            "overflow": null,
            "overflow_x": null,
            "overflow_y": null,
            "padding": null,
            "right": null,
            "top": null,
            "visibility": null,
            "width": null
          }
        },
        "af0887bb77a14caab290af13f3947e73": {
          "model_module": "@jupyter-widgets/controls",
          "model_module_version": "1.5.0",
          "model_name": "HTMLModel",
          "state": {
            "_dom_classes": [],
            "_model_module": "@jupyter-widgets/controls",
            "_model_module_version": "1.5.0",
            "_model_name": "HTMLModel",
            "_view_count": null,
            "_view_module": "@jupyter-widgets/controls",
            "_view_module_version": "1.5.0",
            "_view_name": "HTMLView",
            "description": "",
            "description_tooltip": null,
            "layout": "IPY_MODEL_3b6e1375de114bbaa730a0272fbaf939",
            "placeholder": "​",
            "style": "IPY_MODEL_61111dbfc5644087a6de7b982e20090d",
            "value": "Map: 100%"
          }
        },
        "b0550d9fcbfc439cabbe0a677b780a44": {
          "model_module": "@jupyter-widgets/base",
          "model_module_version": "1.2.0",
          "model_name": "LayoutModel",
          "state": {
            "_model_module": "@jupyter-widgets/base",
            "_model_module_version": "1.2.0",
            "_model_name": "LayoutModel",
            "_view_count": null,
            "_view_module": "@jupyter-widgets/base",
            "_view_module_version": "1.2.0",
            "_view_name": "LayoutView",
            "align_content": null,
            "align_items": null,
            "align_self": null,
            "border": null,
            "bottom": null,
            "display": null,
            "flex": null,
            "flex_flow": null,
            "grid_area": null,
            "grid_auto_columns": null,
            "grid_auto_flow": null,
            "grid_auto_rows": null,
            "grid_column": null,
            "grid_gap": null,
            "grid_row": null,
            "grid_template_areas": null,
            "grid_template_columns": null,
            "grid_template_rows": null,
            "height": null,
            "justify_content": null,
            "justify_items": null,
            "left": null,
            "margin": null,
            "max_height": null,
            "max_width": null,
            "min_height": null,
            "min_width": null,
            "object_fit": null,
            "object_position": null,
            "order": null,
            "overflow": null,
            "overflow_x": null,
            "overflow_y": null,
            "padding": null,
            "right": null,
            "top": null,
            "visibility": null,
            "width": null
          }
        },
        "b33c227c9f344e2ebf98bf00f573e5d1": {
          "model_module": "@jupyter-widgets/controls",
          "model_module_version": "1.5.0",
          "model_name": "ProgressStyleModel",
          "state": {
            "_model_module": "@jupyter-widgets/controls",
            "_model_module_version": "1.5.0",
            "_model_name": "ProgressStyleModel",
            "_view_count": null,
            "_view_module": "@jupyter-widgets/base",
            "_view_module_version": "1.2.0",
            "_view_name": "StyleView",
            "bar_color": null,
            "description_width": ""
          }
        },
        "b64c231b141e4168a29f9e442557d3b8": {
          "model_module": "@jupyter-widgets/controls",
          "model_module_version": "1.5.0",
          "model_name": "FloatProgressModel",
          "state": {
            "_dom_classes": [],
            "_model_module": "@jupyter-widgets/controls",
            "_model_module_version": "1.5.0",
            "_model_name": "FloatProgressModel",
            "_view_count": null,
            "_view_module": "@jupyter-widgets/controls",
            "_view_module_version": "1.5.0",
            "_view_name": "ProgressView",
            "bar_style": "success",
            "description": "",
            "description_tooltip": null,
            "layout": "IPY_MODEL_422a2776cf7741b587208ff025080a21",
            "max": 215,
            "min": 0,
            "orientation": "horizontal",
            "style": "IPY_MODEL_b33c227c9f344e2ebf98bf00f573e5d1",
            "value": 215
          }
        },
        "b9b8b05c55f24ebd9add7782f071a7f5": {
          "model_module": "@jupyter-widgets/controls",
          "model_module_version": "1.5.0",
          "model_name": "DescriptionStyleModel",
          "state": {
            "_model_module": "@jupyter-widgets/controls",
            "_model_module_version": "1.5.0",
            "_model_name": "DescriptionStyleModel",
            "_view_count": null,
            "_view_module": "@jupyter-widgets/base",
            "_view_module_version": "1.2.0",
            "_view_name": "StyleView",
            "description_width": ""
          }
        },
        "bad8ab74c6d94ce3ae889234e3405fae": {
          "model_module": "@jupyter-widgets/base",
          "model_module_version": "1.2.0",
          "model_name": "LayoutModel",
          "state": {
            "_model_module": "@jupyter-widgets/base",
            "_model_module_version": "1.2.0",
            "_model_name": "LayoutModel",
            "_view_count": null,
            "_view_module": "@jupyter-widgets/base",
            "_view_module_version": "1.2.0",
            "_view_name": "LayoutView",
            "align_content": null,
            "align_items": null,
            "align_self": null,
            "border": null,
            "bottom": null,
            "display": null,
            "flex": null,
            "flex_flow": null,
            "grid_area": null,
            "grid_auto_columns": null,
            "grid_auto_flow": null,
            "grid_auto_rows": null,
            "grid_column": null,
            "grid_gap": null,
            "grid_row": null,
            "grid_template_areas": null,
            "grid_template_columns": null,
            "grid_template_rows": null,
            "height": null,
            "justify_content": null,
            "justify_items": null,
            "left": null,
            "margin": null,
            "max_height": null,
            "max_width": null,
            "min_height": null,
            "min_width": null,
            "object_fit": null,
            "object_position": null,
            "order": null,
            "overflow": null,
            "overflow_x": null,
            "overflow_y": null,
            "padding": null,
            "right": null,
            "top": null,
            "visibility": null,
            "width": null
          }
        },
        "bb91febcaa16473ba78dde5e6deec3cf": {
          "model_module": "@jupyter-widgets/controls",
          "model_module_version": "1.5.0",
          "model_name": "HTMLModel",
          "state": {
            "_dom_classes": [],
            "_model_module": "@jupyter-widgets/controls",
            "_model_module_version": "1.5.0",
            "_model_name": "HTMLModel",
            "_view_count": null,
            "_view_module": "@jupyter-widgets/controls",
            "_view_module_version": "1.5.0",
            "_view_name": "HTMLView",
            "description": "",
            "description_tooltip": null,
            "layout": "IPY_MODEL_992c0d8c45cd406cb0ef5c50994a7dce",
            "placeholder": "​",
            "style": "IPY_MODEL_14e78a60bd8441259a99c390843d3229",
            "value": " 215/215 [00:00&lt;00:00, 4241.23 examples/s]"
          }
        },
        "c580974a44e74b3cabaa83554928fb59": {
          "model_module": "@jupyter-widgets/controls",
          "model_module_version": "1.5.0",
          "model_name": "DescriptionStyleModel",
          "state": {
            "_model_module": "@jupyter-widgets/controls",
            "_model_module_version": "1.5.0",
            "_model_name": "DescriptionStyleModel",
            "_view_count": null,
            "_view_module": "@jupyter-widgets/base",
            "_view_module_version": "1.2.0",
            "_view_name": "StyleView",
            "description_width": ""
          }
        },
        "caade48ad17b4187a9cbccca2786d90b": {
          "model_module": "@jupyter-widgets/controls",
          "model_module_version": "1.5.0",
          "model_name": "ProgressStyleModel",
          "state": {
            "_model_module": "@jupyter-widgets/controls",
            "_model_module_version": "1.5.0",
            "_model_name": "ProgressStyleModel",
            "_view_count": null,
            "_view_module": "@jupyter-widgets/base",
            "_view_module_version": "1.2.0",
            "_view_name": "StyleView",
            "bar_color": null,
            "description_width": ""
          }
        },
        "cb0caa236d374a15a90815f61adb56ad": {
          "model_module": "@jupyter-widgets/controls",
          "model_module_version": "1.5.0",
          "model_name": "FloatProgressModel",
          "state": {
            "_dom_classes": [],
            "_model_module": "@jupyter-widgets/controls",
            "_model_module_version": "1.5.0",
            "_model_name": "FloatProgressModel",
            "_view_count": null,
            "_view_module": "@jupyter-widgets/controls",
            "_view_module_version": "1.5.0",
            "_view_name": "ProgressView",
            "bar_style": "success",
            "description": "",
            "description_tooltip": null,
            "layout": "IPY_MODEL_356d97eb1d4840a882072838124725a6",
            "max": 7,
            "min": 0,
            "orientation": "horizontal",
            "style": "IPY_MODEL_a21ac11976404cf1b4774cea45c340ee",
            "value": 7
          }
        },
        "d954cd28f7ed4e6985b51766d87377ed": {
          "model_module": "@jupyter-widgets/controls",
          "model_module_version": "1.5.0",
          "model_name": "HTMLModel",
          "state": {
            "_dom_classes": [],
            "_model_module": "@jupyter-widgets/controls",
            "_model_module_version": "1.5.0",
            "_model_name": "HTMLModel",
            "_view_count": null,
            "_view_module": "@jupyter-widgets/controls",
            "_view_module_version": "1.5.0",
            "_view_name": "HTMLView",
            "description": "",
            "description_tooltip": null,
            "layout": "IPY_MODEL_5c11036a6e7a48c38f04d4f3abb6bdfb",
            "placeholder": "​",
            "style": "IPY_MODEL_9f3a7419cc2b42ee90c884bc8e77061b",
            "value": "Map: 100%"
          }
        },
        "ec6ae21588c34273ac439d0c9a16e021": {
          "model_module": "@jupyter-widgets/controls",
          "model_module_version": "1.5.0",
          "model_name": "FloatProgressModel",
          "state": {
            "_dom_classes": [],
            "_model_module": "@jupyter-widgets/controls",
            "_model_module_version": "1.5.0",
            "_model_name": "FloatProgressModel",
            "_view_count": null,
            "_view_module": "@jupyter-widgets/controls",
            "_view_module_version": "1.5.0",
            "_view_name": "ProgressView",
            "bar_style": "success",
            "description": "",
            "description_tooltip": null,
            "layout": "IPY_MODEL_8ecb73ac952f47048b05dd8e23608910",
            "max": 215,
            "min": 0,
            "orientation": "horizontal",
            "style": "IPY_MODEL_a1a6c4a6bf3b40829667dc41d60ac284",
            "value": 215
          }
        },
        "eff5be1ab3dc41bf8eff0b93c64b6785": {
          "model_module": "@jupyter-widgets/controls",
          "model_module_version": "1.5.0",
          "model_name": "HTMLModel",
          "state": {
            "_dom_classes": [],
            "_model_module": "@jupyter-widgets/controls",
            "_model_module_version": "1.5.0",
            "_model_name": "HTMLModel",
            "_view_count": null,
            "_view_module": "@jupyter-widgets/controls",
            "_view_module_version": "1.5.0",
            "_view_name": "HTMLView",
            "description": "",
            "description_tooltip": null,
            "layout": "IPY_MODEL_04e1fb032555470c9f25219205e9fb84",
            "placeholder": "​",
            "style": "IPY_MODEL_233ce97508c9462686980a83aa4509d5",
            "value": " 558M/558M [00:01&lt;00:00, 287MB/s]"
          }
        },
        "fbfe48c84a71439ca9c4467a5004f021": {
          "model_module": "@jupyter-widgets/controls",
          "model_module_version": "1.5.0",
          "model_name": "ProgressStyleModel",
          "state": {
            "_model_module": "@jupyter-widgets/controls",
            "_model_module_version": "1.5.0",
            "_model_name": "ProgressStyleModel",
            "_view_count": null,
            "_view_module": "@jupyter-widgets/base",
            "_view_module_version": "1.2.0",
            "_view_name": "StyleView",
            "bar_color": null,
            "description_width": ""
          }
        }
      }
    }
  },
  "nbformat": 4,
  "nbformat_minor": 0
}
