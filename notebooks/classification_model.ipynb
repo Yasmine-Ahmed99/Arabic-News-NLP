{
  "metadata": {
    "kernelspec": {
      "display_name": "Python 3",
      "name": "python3"
    },
    "language_info": {
      "name": "python",
      "version": "3.11.11",
      "mimetype": "text/x-python",
      "codemirror_mode": {
        "name": "ipython",
        "version": 3
      },
      "pygments_lexer": "ipython3",
      "nbconvert_exporter": "python",
      "file_extension": ".py"
    },
    "kaggle": {
      "accelerator": "gpu",
      "dataSources": [
        {
          "sourceId": 12365280,
          "sourceType": "datasetVersion",
          "datasetId": 7796305
        }
      ],
      "dockerImageVersionId": 31041,
      "isInternetEnabled": true,
      "language": "python",
      "sourceType": "notebook",
      "isGpuEnabled": true
    },
    "colab": {
      "provenance": [],
      "gpuType": "T4"
    },
    "accelerator": "GPU",
    "widgets": {
      "application/vnd.jupyter.widget-state+json": {
        "a7a09cb2ee094883ab471aba81e6f94b": {
          "model_module": "@jupyter-widgets/controls",
          "model_name": "HBoxModel",
          "model_module_version": "1.5.0",
          "state": {
            "_dom_classes": [],
            "_model_module": "@jupyter-widgets/controls",
            "_model_module_version": "1.5.0",
            "_model_name": "HBoxModel",
            "_view_count": null,
            "_view_module": "@jupyter-widgets/controls",
            "_view_module_version": "1.5.0",
            "_view_name": "HBoxView",
            "box_style": "",
            "children": [
              "IPY_MODEL_9c2d93d89e0a4e159c1881121e038721",
              "IPY_MODEL_8e9fe682ac41453aa3948f23b8bfdb9c",
              "IPY_MODEL_ef4d0afd52a84e2d9c69b60a4df36007"
            ],
            "layout": "IPY_MODEL_3ac09f4f64ab4cd18e62e1d1b8c5113a"
          }
        },
        "9c2d93d89e0a4e159c1881121e038721": {
          "model_module": "@jupyter-widgets/controls",
          "model_name": "HTMLModel",
          "model_module_version": "1.5.0",
          "state": {
            "_dom_classes": [],
            "_model_module": "@jupyter-widgets/controls",
            "_model_module_version": "1.5.0",
            "_model_name": "HTMLModel",
            "_view_count": null,
            "_view_module": "@jupyter-widgets/controls",
            "_view_module_version": "1.5.0",
            "_view_name": "HTMLView",
            "description": "",
            "description_tooltip": null,
            "layout": "IPY_MODEL_70ecf6f7e85440c282c32e86da0fa2b9",
            "placeholder": "​",
            "style": "IPY_MODEL_1220bda16d2149b690e0aaf1554e66c1",
            "value": "Map: 100%"
          }
        },
        "8e9fe682ac41453aa3948f23b8bfdb9c": {
          "model_module": "@jupyter-widgets/controls",
          "model_name": "FloatProgressModel",
          "model_module_version": "1.5.0",
          "state": {
            "_dom_classes": [],
            "_model_module": "@jupyter-widgets/controls",
            "_model_module_version": "1.5.0",
            "_model_name": "FloatProgressModel",
            "_view_count": null,
            "_view_module": "@jupyter-widgets/controls",
            "_view_module_version": "1.5.0",
            "_view_name": "ProgressView",
            "bar_style": "success",
            "description": "",
            "description_tooltip": null,
            "layout": "IPY_MODEL_1631e535510d423490331e854d341d37",
            "max": 215,
            "min": 0,
            "orientation": "horizontal",
            "style": "IPY_MODEL_84d758cd800d440a9d903a70b3e2e6d1",
            "value": 215
          }
        },
        "ef4d0afd52a84e2d9c69b60a4df36007": {
          "model_module": "@jupyter-widgets/controls",
          "model_name": "HTMLModel",
          "model_module_version": "1.5.0",
          "state": {
            "_dom_classes": [],
            "_model_module": "@jupyter-widgets/controls",
            "_model_module_version": "1.5.0",
            "_model_name": "HTMLModel",
            "_view_count": null,
            "_view_module": "@jupyter-widgets/controls",
            "_view_module_version": "1.5.0",
            "_view_name": "HTMLView",
            "description": "",
            "description_tooltip": null,
            "layout": "IPY_MODEL_db5b26f2e3b441ac80b2e07b25f0eaef",
            "placeholder": "​",
            "style": "IPY_MODEL_c35fc1b84c834a82bd7b27a95f59dc0b",
            "value": " 215/215 [00:00&lt;00:00, 2634.05 examples/s]"
          }
        },
        "3ac09f4f64ab4cd18e62e1d1b8c5113a": {
          "model_module": "@jupyter-widgets/base",
          "model_name": "LayoutModel",
          "model_module_version": "1.2.0",
          "state": {
            "_model_module": "@jupyter-widgets/base",
            "_model_module_version": "1.2.0",
            "_model_name": "LayoutModel",
            "_view_count": null,
            "_view_module": "@jupyter-widgets/base",
            "_view_module_version": "1.2.0",
            "_view_name": "LayoutView",
            "align_content": null,
            "align_items": null,
            "align_self": null,
            "border": null,
            "bottom": null,
            "display": null,
            "flex": null,
            "flex_flow": null,
            "grid_area": null,
            "grid_auto_columns": null,
            "grid_auto_flow": null,
            "grid_auto_rows": null,
            "grid_column": null,
            "grid_gap": null,
            "grid_row": null,
            "grid_template_areas": null,
            "grid_template_columns": null,
            "grid_template_rows": null,
            "height": null,
            "justify_content": null,
            "justify_items": null,
            "left": null,
            "margin": null,
            "max_height": null,
            "max_width": null,
            "min_height": null,
            "min_width": null,
            "object_fit": null,
            "object_position": null,
            "order": null,
            "overflow": null,
            "overflow_x": null,
            "overflow_y": null,
            "padding": null,
            "right": null,
            "top": null,
            "visibility": null,
            "width": null
          }
        },
        "70ecf6f7e85440c282c32e86da0fa2b9": {
          "model_module": "@jupyter-widgets/base",
          "model_name": "LayoutModel",
          "model_module_version": "1.2.0",
          "state": {
            "_model_module": "@jupyter-widgets/base",
            "_model_module_version": "1.2.0",
            "_model_name": "LayoutModel",
            "_view_count": null,
            "_view_module": "@jupyter-widgets/base",
            "_view_module_version": "1.2.0",
            "_view_name": "LayoutView",
            "align_content": null,
            "align_items": null,
            "align_self": null,
            "border": null,
            "bottom": null,
            "display": null,
            "flex": null,
            "flex_flow": null,
            "grid_area": null,
            "grid_auto_columns": null,
            "grid_auto_flow": null,
            "grid_auto_rows": null,
            "grid_column": null,
            "grid_gap": null,
            "grid_row": null,
            "grid_template_areas": null,
            "grid_template_columns": null,
            "grid_template_rows": null,
            "height": null,
            "justify_content": null,
            "justify_items": null,
            "left": null,
            "margin": null,
            "max_height": null,
            "max_width": null,
            "min_height": null,
            "min_width": null,
            "object_fit": null,
            "object_position": null,
            "order": null,
            "overflow": null,
            "overflow_x": null,
            "overflow_y": null,
            "padding": null,
            "right": null,
            "top": null,
            "visibility": null,
            "width": null
          }
        },
        "1220bda16d2149b690e0aaf1554e66c1": {
          "model_module": "@jupyter-widgets/controls",
          "model_name": "DescriptionStyleModel",
          "model_module_version": "1.5.0",
          "state": {
            "_model_module": "@jupyter-widgets/controls",
            "_model_module_version": "1.5.0",
            "_model_name": "DescriptionStyleModel",
            "_view_count": null,
            "_view_module": "@jupyter-widgets/base",
            "_view_module_version": "1.2.0",
            "_view_name": "StyleView",
            "description_width": ""
          }
        },
        "1631e535510d423490331e854d341d37": {
          "model_module": "@jupyter-widgets/base",
          "model_name": "LayoutModel",
          "model_module_version": "1.2.0",
          "state": {
            "_model_module": "@jupyter-widgets/base",
            "_model_module_version": "1.2.0",
            "_model_name": "LayoutModel",
            "_view_count": null,
            "_view_module": "@jupyter-widgets/base",
            "_view_module_version": "1.2.0",
            "_view_name": "LayoutView",
            "align_content": null,
            "align_items": null,
            "align_self": null,
            "border": null,
            "bottom": null,
            "display": null,
            "flex": null,
            "flex_flow": null,
            "grid_area": null,
            "grid_auto_columns": null,
            "grid_auto_flow": null,
            "grid_auto_rows": null,
            "grid_column": null,
            "grid_gap": null,
            "grid_row": null,
            "grid_template_areas": null,
            "grid_template_columns": null,
            "grid_template_rows": null,
            "height": null,
            "justify_content": null,
            "justify_items": null,
            "left": null,
            "margin": null,
            "max_height": null,
            "max_width": null,
            "min_height": null,
            "min_width": null,
            "object_fit": null,
            "object_position": null,
            "order": null,
            "overflow": null,
            "overflow_x": null,
            "overflow_y": null,
            "padding": null,
            "right": null,
            "top": null,
            "visibility": null,
            "width": null
          }
        },
        "84d758cd800d440a9d903a70b3e2e6d1": {
          "model_module": "@jupyter-widgets/controls",
          "model_name": "ProgressStyleModel",
          "model_module_version": "1.5.0",
          "state": {
            "_model_module": "@jupyter-widgets/controls",
            "_model_module_version": "1.5.0",
            "_model_name": "ProgressStyleModel",
            "_view_count": null,
            "_view_module": "@jupyter-widgets/base",
            "_view_module_version": "1.2.0",
            "_view_name": "StyleView",
            "bar_color": null,
            "description_width": ""
          }
        },
        "db5b26f2e3b441ac80b2e07b25f0eaef": {
          "model_module": "@jupyter-widgets/base",
          "model_name": "LayoutModel",
          "model_module_version": "1.2.0",
          "state": {
            "_model_module": "@jupyter-widgets/base",
            "_model_module_version": "1.2.0",
            "_model_name": "LayoutModel",
            "_view_count": null,
            "_view_module": "@jupyter-widgets/base",
            "_view_module_version": "1.2.0",
            "_view_name": "LayoutView",
            "align_content": null,
            "align_items": null,
            "align_self": null,
            "border": null,
            "bottom": null,
            "display": null,
            "flex": null,
            "flex_flow": null,
            "grid_area": null,
            "grid_auto_columns": null,
            "grid_auto_flow": null,
            "grid_auto_rows": null,
            "grid_column": null,
            "grid_gap": null,
            "grid_row": null,
            "grid_template_areas": null,
            "grid_template_columns": null,
            "grid_template_rows": null,
            "height": null,
            "justify_content": null,
            "justify_items": null,
            "left": null,
            "margin": null,
            "max_height": null,
            "max_width": null,
            "min_height": null,
            "min_width": null,
            "object_fit": null,
            "object_position": null,
            "order": null,
            "overflow": null,
            "overflow_x": null,
            "overflow_y": null,
            "padding": null,
            "right": null,
            "top": null,
            "visibility": null,
            "width": null
          }
        },
        "c35fc1b84c834a82bd7b27a95f59dc0b": {
          "model_module": "@jupyter-widgets/controls",
          "model_name": "DescriptionStyleModel",
          "model_module_version": "1.5.0",
          "state": {
            "_model_module": "@jupyter-widgets/controls",
            "_model_module_version": "1.5.0",
            "_model_name": "DescriptionStyleModel",
            "_view_count": null,
            "_view_module": "@jupyter-widgets/base",
            "_view_module_version": "1.2.0",
            "_view_name": "StyleView",
            "description_width": ""
          }
        },
        "b31525c196ea41899690aa7f563cf96b": {
          "model_module": "@jupyter-widgets/controls",
          "model_name": "HBoxModel",
          "model_module_version": "1.5.0",
          "state": {
            "_dom_classes": [],
            "_model_module": "@jupyter-widgets/controls",
            "_model_module_version": "1.5.0",
            "_model_name": "HBoxModel",
            "_view_count": null,
            "_view_module": "@jupyter-widgets/controls",
            "_view_module_version": "1.5.0",
            "_view_name": "HBoxView",
            "box_style": "",
            "children": [
              "IPY_MODEL_244aa1b9e72e48358135298cb1b16eab",
              "IPY_MODEL_932d3ecc9ad449c09374468c2a40e1ed",
              "IPY_MODEL_346b93e933bc4c65a860f1a0eb600378"
            ],
            "layout": "IPY_MODEL_369d6206686f4a3bbf1a130b53461667"
          }
        },
        "244aa1b9e72e48358135298cb1b16eab": {
          "model_module": "@jupyter-widgets/controls",
          "model_name": "HTMLModel",
          "model_module_version": "1.5.0",
          "state": {
            "_dom_classes": [],
            "_model_module": "@jupyter-widgets/controls",
            "_model_module_version": "1.5.0",
            "_model_name": "HTMLModel",
            "_view_count": null,
            "_view_module": "@jupyter-widgets/controls",
            "_view_module_version": "1.5.0",
            "_view_name": "HTMLView",
            "description": "",
            "description_tooltip": null,
            "layout": "IPY_MODEL_b1c2153f6a5e4ae6ade3532bfeec6f37",
            "placeholder": "​",
            "style": "IPY_MODEL_529a53ed00d64542a7e428647c078daa",
            "value": "Map: 100%"
          }
        },
        "932d3ecc9ad449c09374468c2a40e1ed": {
          "model_module": "@jupyter-widgets/controls",
          "model_name": "FloatProgressModel",
          "model_module_version": "1.5.0",
          "state": {
            "_dom_classes": [],
            "_model_module": "@jupyter-widgets/controls",
            "_model_module_version": "1.5.0",
            "_model_name": "FloatProgressModel",
            "_view_count": null,
            "_view_module": "@jupyter-widgets/controls",
            "_view_module_version": "1.5.0",
            "_view_name": "ProgressView",
            "bar_style": "success",
            "description": "",
            "description_tooltip": null,
            "layout": "IPY_MODEL_9979e8f534a54a25866350c328fa1040",
            "max": 7,
            "min": 0,
            "orientation": "horizontal",
            "style": "IPY_MODEL_316a62f73a35489da14c260e99202c25",
            "value": 7
          }
        },
        "346b93e933bc4c65a860f1a0eb600378": {
          "model_module": "@jupyter-widgets/controls",
          "model_name": "HTMLModel",
          "model_module_version": "1.5.0",
          "state": {
            "_dom_classes": [],
            "_model_module": "@jupyter-widgets/controls",
            "_model_module_version": "1.5.0",
            "_model_name": "HTMLModel",
            "_view_count": null,
            "_view_module": "@jupyter-widgets/controls",
            "_view_module_version": "1.5.0",
            "_view_name": "HTMLView",
            "description": "",
            "description_tooltip": null,
            "layout": "IPY_MODEL_814a79e97b3241df983f937dd95badd6",
            "placeholder": "​",
            "style": "IPY_MODEL_eff97da32761449380d59cb46f684ad5",
            "value": " 7/7 [00:00&lt;00:00, 268.60 examples/s]"
          }
        },
        "369d6206686f4a3bbf1a130b53461667": {
          "model_module": "@jupyter-widgets/base",
          "model_name": "LayoutModel",
          "model_module_version": "1.2.0",
          "state": {
            "_model_module": "@jupyter-widgets/base",
            "_model_module_version": "1.2.0",
            "_model_name": "LayoutModel",
            "_view_count": null,
            "_view_module": "@jupyter-widgets/base",
            "_view_module_version": "1.2.0",
            "_view_name": "LayoutView",
            "align_content": null,
            "align_items": null,
            "align_self": null,
            "border": null,
            "bottom": null,
            "display": null,
            "flex": null,
            "flex_flow": null,
            "grid_area": null,
            "grid_auto_columns": null,
            "grid_auto_flow": null,
            "grid_auto_rows": null,
            "grid_column": null,
            "grid_gap": null,
            "grid_row": null,
            "grid_template_areas": null,
            "grid_template_columns": null,
            "grid_template_rows": null,
            "height": null,
            "justify_content": null,
            "justify_items": null,
            "left": null,
            "margin": null,
            "max_height": null,
            "max_width": null,
            "min_height": null,
            "min_width": null,
            "object_fit": null,
            "object_position": null,
            "order": null,
            "overflow": null,
            "overflow_x": null,
            "overflow_y": null,
            "padding": null,
            "right": null,
            "top": null,
            "visibility": null,
            "width": null
          }
        },
        "b1c2153f6a5e4ae6ade3532bfeec6f37": {
          "model_module": "@jupyter-widgets/base",
          "model_name": "LayoutModel",
          "model_module_version": "1.2.0",
          "state": {
            "_model_module": "@jupyter-widgets/base",
            "_model_module_version": "1.2.0",
            "_model_name": "LayoutModel",
            "_view_count": null,
            "_view_module": "@jupyter-widgets/base",
            "_view_module_version": "1.2.0",
            "_view_name": "LayoutView",
            "align_content": null,
            "align_items": null,
            "align_self": null,
            "border": null,
            "bottom": null,
            "display": null,
            "flex": null,
            "flex_flow": null,
            "grid_area": null,
            "grid_auto_columns": null,
            "grid_auto_flow": null,
            "grid_auto_rows": null,
            "grid_column": null,
            "grid_gap": null,
            "grid_row": null,
            "grid_template_areas": null,
            "grid_template_columns": null,
            "grid_template_rows": null,
            "height": null,
            "justify_content": null,
            "justify_items": null,
            "left": null,
            "margin": null,
            "max_height": null,
            "max_width": null,
            "min_height": null,
            "min_width": null,
            "object_fit": null,
            "object_position": null,
            "order": null,
            "overflow": null,
            "overflow_x": null,
            "overflow_y": null,
            "padding": null,
            "right": null,
            "top": null,
            "visibility": null,
            "width": null
          }
        },
        "529a53ed00d64542a7e428647c078daa": {
          "model_module": "@jupyter-widgets/controls",
          "model_name": "DescriptionStyleModel",
          "model_module_version": "1.5.0",
          "state": {
            "_model_module": "@jupyter-widgets/controls",
            "_model_module_version": "1.5.0",
            "_model_name": "DescriptionStyleModel",
            "_view_count": null,
            "_view_module": "@jupyter-widgets/base",
            "_view_module_version": "1.2.0",
            "_view_name": "StyleView",
            "description_width": ""
          }
        },
        "9979e8f534a54a25866350c328fa1040": {
          "model_module": "@jupyter-widgets/base",
          "model_name": "LayoutModel",
          "model_module_version": "1.2.0",
          "state": {
            "_model_module": "@jupyter-widgets/base",
            "_model_module_version": "1.2.0",
            "_model_name": "LayoutModel",
            "_view_count": null,
            "_view_module": "@jupyter-widgets/base",
            "_view_module_version": "1.2.0",
            "_view_name": "LayoutView",
            "align_content": null,
            "align_items": null,
            "align_self": null,
            "border": null,
            "bottom": null,
            "display": null,
            "flex": null,
            "flex_flow": null,
            "grid_area": null,
            "grid_auto_columns": null,
            "grid_auto_flow": null,
            "grid_auto_rows": null,
            "grid_column": null,
            "grid_gap": null,
            "grid_row": null,
            "grid_template_areas": null,
            "grid_template_columns": null,
            "grid_template_rows": null,
            "height": null,
            "justify_content": null,
            "justify_items": null,
            "left": null,
            "margin": null,
            "max_height": null,
            "max_width": null,
            "min_height": null,
            "min_width": null,
            "object_fit": null,
            "object_position": null,
            "order": null,
            "overflow": null,
            "overflow_x": null,
            "overflow_y": null,
            "padding": null,
            "right": null,
            "top": null,
            "visibility": null,
            "width": null
          }
        },
        "316a62f73a35489da14c260e99202c25": {
          "model_module": "@jupyter-widgets/controls",
          "model_name": "ProgressStyleModel",
          "model_module_version": "1.5.0",
          "state": {
            "_model_module": "@jupyter-widgets/controls",
            "_model_module_version": "1.5.0",
            "_model_name": "ProgressStyleModel",
            "_view_count": null,
            "_view_module": "@jupyter-widgets/base",
            "_view_module_version": "1.2.0",
            "_view_name": "StyleView",
            "bar_color": null,
            "description_width": ""
          }
        },
        "814a79e97b3241df983f937dd95badd6": {
          "model_module": "@jupyter-widgets/base",
          "model_name": "LayoutModel",
          "model_module_version": "1.2.0",
          "state": {
            "_model_module": "@jupyter-widgets/base",
            "_model_module_version": "1.2.0",
            "_model_name": "LayoutModel",
            "_view_count": null,
            "_view_module": "@jupyter-widgets/base",
            "_view_module_version": "1.2.0",
            "_view_name": "LayoutView",
            "align_content": null,
            "align_items": null,
            "align_self": null,
            "border": null,
            "bottom": null,
            "display": null,
            "flex": null,
            "flex_flow": null,
            "grid_area": null,
            "grid_auto_columns": null,
            "grid_auto_flow": null,
            "grid_auto_rows": null,
            "grid_column": null,
            "grid_gap": null,
            "grid_row": null,
            "grid_template_areas": null,
            "grid_template_columns": null,
            "grid_template_rows": null,
            "height": null,
            "justify_content": null,
            "justify_items": null,
            "left": null,
            "margin": null,
            "max_height": null,
            "max_width": null,
            "min_height": null,
            "min_width": null,
            "object_fit": null,
            "object_position": null,
            "order": null,
            "overflow": null,
            "overflow_x": null,
            "overflow_y": null,
            "padding": null,
            "right": null,
            "top": null,
            "visibility": null,
            "width": null
          }
        },
        "eff97da32761449380d59cb46f684ad5": {
          "model_module": "@jupyter-widgets/controls",
          "model_name": "DescriptionStyleModel",
          "model_module_version": "1.5.0",
          "state": {
            "_model_module": "@jupyter-widgets/controls",
            "_model_module_version": "1.5.0",
            "_model_name": "DescriptionStyleModel",
            "_view_count": null,
            "_view_module": "@jupyter-widgets/base",
            "_view_module_version": "1.2.0",
            "_view_name": "StyleView",
            "description_width": ""
          }
        },
        "6cf9ca025e684d27a7e2d4c18f3bacf4": {
          "model_module": "@jupyter-widgets/controls",
          "model_name": "HBoxModel",
          "model_module_version": "1.5.0",
          "state": {
            "_dom_classes": [],
            "_model_module": "@jupyter-widgets/controls",
            "_model_module_version": "1.5.0",
            "_model_name": "HBoxModel",
            "_view_count": null,
            "_view_module": "@jupyter-widgets/controls",
            "_view_module_version": "1.5.0",
            "_view_name": "HBoxView",
            "box_style": "",
            "children": [
              "IPY_MODEL_3983d2b7b6b1480abac4be2a08576f9a",
              "IPY_MODEL_66e39524c45c4c3eaafc682f349d133b",
              "IPY_MODEL_fa10f767efda42d194c80b50a8cfdfe3"
            ],
            "layout": "IPY_MODEL_6583d04a1c7d41b69f534e28a0568f92"
          }
        },
        "3983d2b7b6b1480abac4be2a08576f9a": {
          "model_module": "@jupyter-widgets/controls",
          "model_name": "HTMLModel",
          "model_module_version": "1.5.0",
          "state": {
            "_dom_classes": [],
            "_model_module": "@jupyter-widgets/controls",
            "_model_module_version": "1.5.0",
            "_model_name": "HTMLModel",
            "_view_count": null,
            "_view_module": "@jupyter-widgets/controls",
            "_view_module_version": "1.5.0",
            "_view_name": "HTMLView",
            "description": "",
            "description_tooltip": null,
            "layout": "IPY_MODEL_0940181546b944c68345b9a83f02259e",
            "placeholder": "​",
            "style": "IPY_MODEL_c8cacfcae1814d078b5e2dbaa2d7e72f",
            "value": "Map: 100%"
          }
        },
        "66e39524c45c4c3eaafc682f349d133b": {
          "model_module": "@jupyter-widgets/controls",
          "model_name": "FloatProgressModel",
          "model_module_version": "1.5.0",
          "state": {
            "_dom_classes": [],
            "_model_module": "@jupyter-widgets/controls",
            "_model_module_version": "1.5.0",
            "_model_name": "FloatProgressModel",
            "_view_count": null,
            "_view_module": "@jupyter-widgets/controls",
            "_view_module_version": "1.5.0",
            "_view_name": "ProgressView",
            "bar_style": "success",
            "description": "",
            "description_tooltip": null,
            "layout": "IPY_MODEL_59379e02692d4431a5f459e9683ef24c",
            "max": 215,
            "min": 0,
            "orientation": "horizontal",
            "style": "IPY_MODEL_fc5f037da5e846a59cb04041fbb9265b",
            "value": 215
          }
        },
        "fa10f767efda42d194c80b50a8cfdfe3": {
          "model_module": "@jupyter-widgets/controls",
          "model_name": "HTMLModel",
          "model_module_version": "1.5.0",
          "state": {
            "_dom_classes": [],
            "_model_module": "@jupyter-widgets/controls",
            "_model_module_version": "1.5.0",
            "_model_name": "HTMLModel",
            "_view_count": null,
            "_view_module": "@jupyter-widgets/controls",
            "_view_module_version": "1.5.0",
            "_view_name": "HTMLView",
            "description": "",
            "description_tooltip": null,
            "layout": "IPY_MODEL_3152f742784a486fa39940ec3dc4398d",
            "placeholder": "​",
            "style": "IPY_MODEL_971ad7243c2e48209f81a60dc1a019d0",
            "value": " 215/215 [00:00&lt;00:00, 6270.21 examples/s]"
          }
        },
        "6583d04a1c7d41b69f534e28a0568f92": {
          "model_module": "@jupyter-widgets/base",
          "model_name": "LayoutModel",
          "model_module_version": "1.2.0",
          "state": {
            "_model_module": "@jupyter-widgets/base",
            "_model_module_version": "1.2.0",
            "_model_name": "LayoutModel",
            "_view_count": null,
            "_view_module": "@jupyter-widgets/base",
            "_view_module_version": "1.2.0",
            "_view_name": "LayoutView",
            "align_content": null,
            "align_items": null,
            "align_self": null,
            "border": null,
            "bottom": null,
            "display": null,
            "flex": null,
            "flex_flow": null,
            "grid_area": null,
            "grid_auto_columns": null,
            "grid_auto_flow": null,
            "grid_auto_rows": null,
            "grid_column": null,
            "grid_gap": null,
            "grid_row": null,
            "grid_template_areas": null,
            "grid_template_columns": null,
            "grid_template_rows": null,
            "height": null,
            "justify_content": null,
            "justify_items": null,
            "left": null,
            "margin": null,
            "max_height": null,
            "max_width": null,
            "min_height": null,
            "min_width": null,
            "object_fit": null,
            "object_position": null,
            "order": null,
            "overflow": null,
            "overflow_x": null,
            "overflow_y": null,
            "padding": null,
            "right": null,
            "top": null,
            "visibility": null,
            "width": null
          }
        },
        "0940181546b944c68345b9a83f02259e": {
          "model_module": "@jupyter-widgets/base",
          "model_name": "LayoutModel",
          "model_module_version": "1.2.0",
          "state": {
            "_model_module": "@jupyter-widgets/base",
            "_model_module_version": "1.2.0",
            "_model_name": "LayoutModel",
            "_view_count": null,
            "_view_module": "@jupyter-widgets/base",
            "_view_module_version": "1.2.0",
            "_view_name": "LayoutView",
            "align_content": null,
            "align_items": null,
            "align_self": null,
            "border": null,
            "bottom": null,
            "display": null,
            "flex": null,
            "flex_flow": null,
            "grid_area": null,
            "grid_auto_columns": null,
            "grid_auto_flow": null,
            "grid_auto_rows": null,
            "grid_column": null,
            "grid_gap": null,
            "grid_row": null,
            "grid_template_areas": null,
            "grid_template_columns": null,
            "grid_template_rows": null,
            "height": null,
            "justify_content": null,
            "justify_items": null,
            "left": null,
            "margin": null,
            "max_height": null,
            "max_width": null,
            "min_height": null,
            "min_width": null,
            "object_fit": null,
            "object_position": null,
            "order": null,
            "overflow": null,
            "overflow_x": null,
            "overflow_y": null,
            "padding": null,
            "right": null,
            "top": null,
            "visibility": null,
            "width": null
          }
        },
        "c8cacfcae1814d078b5e2dbaa2d7e72f": {
          "model_module": "@jupyter-widgets/controls",
          "model_name": "DescriptionStyleModel",
          "model_module_version": "1.5.0",
          "state": {
            "_model_module": "@jupyter-widgets/controls",
            "_model_module_version": "1.5.0",
            "_model_name": "DescriptionStyleModel",
            "_view_count": null,
            "_view_module": "@jupyter-widgets/base",
            "_view_module_version": "1.2.0",
            "_view_name": "StyleView",
            "description_width": ""
          }
        },
        "59379e02692d4431a5f459e9683ef24c": {
          "model_module": "@jupyter-widgets/base",
          "model_name": "LayoutModel",
          "model_module_version": "1.2.0",
          "state": {
            "_model_module": "@jupyter-widgets/base",
            "_model_module_version": "1.2.0",
            "_model_name": "LayoutModel",
            "_view_count": null,
            "_view_module": "@jupyter-widgets/base",
            "_view_module_version": "1.2.0",
            "_view_name": "LayoutView",
            "align_content": null,
            "align_items": null,
            "align_self": null,
            "border": null,
            "bottom": null,
            "display": null,
            "flex": null,
            "flex_flow": null,
            "grid_area": null,
            "grid_auto_columns": null,
            "grid_auto_flow": null,
            "grid_auto_rows": null,
            "grid_column": null,
            "grid_gap": null,
            "grid_row": null,
            "grid_template_areas": null,
            "grid_template_columns": null,
            "grid_template_rows": null,
            "height": null,
            "justify_content": null,
            "justify_items": null,
            "left": null,
            "margin": null,
            "max_height": null,
            "max_width": null,
            "min_height": null,
            "min_width": null,
            "object_fit": null,
            "object_position": null,
            "order": null,
            "overflow": null,
            "overflow_x": null,
            "overflow_y": null,
            "padding": null,
            "right": null,
            "top": null,
            "visibility": null,
            "width": null
          }
        },
        "fc5f037da5e846a59cb04041fbb9265b": {
          "model_module": "@jupyter-widgets/controls",
          "model_name": "ProgressStyleModel",
          "model_module_version": "1.5.0",
          "state": {
            "_model_module": "@jupyter-widgets/controls",
            "_model_module_version": "1.5.0",
            "_model_name": "ProgressStyleModel",
            "_view_count": null,
            "_view_module": "@jupyter-widgets/base",
            "_view_module_version": "1.2.0",
            "_view_name": "StyleView",
            "bar_color": null,
            "description_width": ""
          }
        },
        "3152f742784a486fa39940ec3dc4398d": {
          "model_module": "@jupyter-widgets/base",
          "model_name": "LayoutModel",
          "model_module_version": "1.2.0",
          "state": {
            "_model_module": "@jupyter-widgets/base",
            "_model_module_version": "1.2.0",
            "_model_name": "LayoutModel",
            "_view_count": null,
            "_view_module": "@jupyter-widgets/base",
            "_view_module_version": "1.2.0",
            "_view_name": "LayoutView",
            "align_content": null,
            "align_items": null,
            "align_self": null,
            "border": null,
            "bottom": null,
            "display": null,
            "flex": null,
            "flex_flow": null,
            "grid_area": null,
            "grid_auto_columns": null,
            "grid_auto_flow": null,
            "grid_auto_rows": null,
            "grid_column": null,
            "grid_gap": null,
            "grid_row": null,
            "grid_template_areas": null,
            "grid_template_columns": null,
            "grid_template_rows": null,
            "height": null,
            "justify_content": null,
            "justify_items": null,
            "left": null,
            "margin": null,
            "max_height": null,
            "max_width": null,
            "min_height": null,
            "min_width": null,
            "object_fit": null,
            "object_position": null,
            "order": null,
            "overflow": null,
            "overflow_x": null,
            "overflow_y": null,
            "padding": null,
            "right": null,
            "top": null,
            "visibility": null,
            "width": null
          }
        },
        "971ad7243c2e48209f81a60dc1a019d0": {
          "model_module": "@jupyter-widgets/controls",
          "model_name": "DescriptionStyleModel",
          "model_module_version": "1.5.0",
          "state": {
            "_model_module": "@jupyter-widgets/controls",
            "_model_module_version": "1.5.0",
            "_model_name": "DescriptionStyleModel",
            "_view_count": null,
            "_view_module": "@jupyter-widgets/base",
            "_view_module_version": "1.2.0",
            "_view_name": "StyleView",
            "description_width": ""
          }
        },
        "7fb9f4a91dc048de8d50c4e7e572af58": {
          "model_module": "@jupyter-widgets/controls",
          "model_name": "HBoxModel",
          "model_module_version": "1.5.0",
          "state": {
            "_dom_classes": [],
            "_model_module": "@jupyter-widgets/controls",
            "_model_module_version": "1.5.0",
            "_model_name": "HBoxModel",
            "_view_count": null,
            "_view_module": "@jupyter-widgets/controls",
            "_view_module_version": "1.5.0",
            "_view_name": "HBoxView",
            "box_style": "",
            "children": [
              "IPY_MODEL_d1199e96d5ff439bb71546ddc822c2d0",
              "IPY_MODEL_54099ce91c6347f2b9570c4e59c5cbaa",
              "IPY_MODEL_d51a74b579794d428fec667ebbfd43ae"
            ],
            "layout": "IPY_MODEL_0ec7016ae7284dbf97bde647ebec99d9"
          }
        },
        "d1199e96d5ff439bb71546ddc822c2d0": {
          "model_module": "@jupyter-widgets/controls",
          "model_name": "HTMLModel",
          "model_module_version": "1.5.0",
          "state": {
            "_dom_classes": [],
            "_model_module": "@jupyter-widgets/controls",
            "_model_module_version": "1.5.0",
            "_model_name": "HTMLModel",
            "_view_count": null,
            "_view_module": "@jupyter-widgets/controls",
            "_view_module_version": "1.5.0",
            "_view_name": "HTMLView",
            "description": "",
            "description_tooltip": null,
            "layout": "IPY_MODEL_a7b73739b0524c68bf65cbd7bf3a8d04",
            "placeholder": "​",
            "style": "IPY_MODEL_7f30da6727354c84bc97a66a16fcd707",
            "value": "Map: 100%"
          }
        },
        "54099ce91c6347f2b9570c4e59c5cbaa": {
          "model_module": "@jupyter-widgets/controls",
          "model_name": "FloatProgressModel",
          "model_module_version": "1.5.0",
          "state": {
            "_dom_classes": [],
            "_model_module": "@jupyter-widgets/controls",
            "_model_module_version": "1.5.0",
            "_model_name": "FloatProgressModel",
            "_view_count": null,
            "_view_module": "@jupyter-widgets/controls",
            "_view_module_version": "1.5.0",
            "_view_name": "ProgressView",
            "bar_style": "success",
            "description": "",
            "description_tooltip": null,
            "layout": "IPY_MODEL_31e9e6c22728415c9b1fb373d3d343a1",
            "max": 7,
            "min": 0,
            "orientation": "horizontal",
            "style": "IPY_MODEL_0eac2d9961614a7682719b6e7fe3e0e9",
            "value": 7
          }
        },
        "d51a74b579794d428fec667ebbfd43ae": {
          "model_module": "@jupyter-widgets/controls",
          "model_name": "HTMLModel",
          "model_module_version": "1.5.0",
          "state": {
            "_dom_classes": [],
            "_model_module": "@jupyter-widgets/controls",
            "_model_module_version": "1.5.0",
            "_model_name": "HTMLModel",
            "_view_count": null,
            "_view_module": "@jupyter-widgets/controls",
            "_view_module_version": "1.5.0",
            "_view_name": "HTMLView",
            "description": "",
            "description_tooltip": null,
            "layout": "IPY_MODEL_983da057c8ff44168bed2d9e3392a309",
            "placeholder": "​",
            "style": "IPY_MODEL_1df6f77f46bd44c0b7e3daa8d2671d7d",
            "value": " 7/7 [00:00&lt;00:00, 419.62 examples/s]"
          }
        },
        "0ec7016ae7284dbf97bde647ebec99d9": {
          "model_module": "@jupyter-widgets/base",
          "model_name": "LayoutModel",
          "model_module_version": "1.2.0",
          "state": {
            "_model_module": "@jupyter-widgets/base",
            "_model_module_version": "1.2.0",
            "_model_name": "LayoutModel",
            "_view_count": null,
            "_view_module": "@jupyter-widgets/base",
            "_view_module_version": "1.2.0",
            "_view_name": "LayoutView",
            "align_content": null,
            "align_items": null,
            "align_self": null,
            "border": null,
            "bottom": null,
            "display": null,
            "flex": null,
            "flex_flow": null,
            "grid_area": null,
            "grid_auto_columns": null,
            "grid_auto_flow": null,
            "grid_auto_rows": null,
            "grid_column": null,
            "grid_gap": null,
            "grid_row": null,
            "grid_template_areas": null,
            "grid_template_columns": null,
            "grid_template_rows": null,
            "height": null,
            "justify_content": null,
            "justify_items": null,
            "left": null,
            "margin": null,
            "max_height": null,
            "max_width": null,
            "min_height": null,
            "min_width": null,
            "object_fit": null,
            "object_position": null,
            "order": null,
            "overflow": null,
            "overflow_x": null,
            "overflow_y": null,
            "padding": null,
            "right": null,
            "top": null,
            "visibility": null,
            "width": null
          }
        },
        "a7b73739b0524c68bf65cbd7bf3a8d04": {
          "model_module": "@jupyter-widgets/base",
          "model_name": "LayoutModel",
          "model_module_version": "1.2.0",
          "state": {
            "_model_module": "@jupyter-widgets/base",
            "_model_module_version": "1.2.0",
            "_model_name": "LayoutModel",
            "_view_count": null,
            "_view_module": "@jupyter-widgets/base",
            "_view_module_version": "1.2.0",
            "_view_name": "LayoutView",
            "align_content": null,
            "align_items": null,
            "align_self": null,
            "border": null,
            "bottom": null,
            "display": null,
            "flex": null,
            "flex_flow": null,
            "grid_area": null,
            "grid_auto_columns": null,
            "grid_auto_flow": null,
            "grid_auto_rows": null,
            "grid_column": null,
            "grid_gap": null,
            "grid_row": null,
            "grid_template_areas": null,
            "grid_template_columns": null,
            "grid_template_rows": null,
            "height": null,
            "justify_content": null,
            "justify_items": null,
            "left": null,
            "margin": null,
            "max_height": null,
            "max_width": null,
            "min_height": null,
            "min_width": null,
            "object_fit": null,
            "object_position": null,
            "order": null,
            "overflow": null,
            "overflow_x": null,
            "overflow_y": null,
            "padding": null,
            "right": null,
            "top": null,
            "visibility": null,
            "width": null
          }
        },
        "7f30da6727354c84bc97a66a16fcd707": {
          "model_module": "@jupyter-widgets/controls",
          "model_name": "DescriptionStyleModel",
          "model_module_version": "1.5.0",
          "state": {
            "_model_module": "@jupyter-widgets/controls",
            "_model_module_version": "1.5.0",
            "_model_name": "DescriptionStyleModel",
            "_view_count": null,
            "_view_module": "@jupyter-widgets/base",
            "_view_module_version": "1.2.0",
            "_view_name": "StyleView",
            "description_width": ""
          }
        },
        "31e9e6c22728415c9b1fb373d3d343a1": {
          "model_module": "@jupyter-widgets/base",
          "model_name": "LayoutModel",
          "model_module_version": "1.2.0",
          "state": {
            "_model_module": "@jupyter-widgets/base",
            "_model_module_version": "1.2.0",
            "_model_name": "LayoutModel",
            "_view_count": null,
            "_view_module": "@jupyter-widgets/base",
            "_view_module_version": "1.2.0",
            "_view_name": "LayoutView",
            "align_content": null,
            "align_items": null,
            "align_self": null,
            "border": null,
            "bottom": null,
            "display": null,
            "flex": null,
            "flex_flow": null,
            "grid_area": null,
            "grid_auto_columns": null,
            "grid_auto_flow": null,
            "grid_auto_rows": null,
            "grid_column": null,
            "grid_gap": null,
            "grid_row": null,
            "grid_template_areas": null,
            "grid_template_columns": null,
            "grid_template_rows": null,
            "height": null,
            "justify_content": null,
            "justify_items": null,
            "left": null,
            "margin": null,
            "max_height": null,
            "max_width": null,
            "min_height": null,
            "min_width": null,
            "object_fit": null,
            "object_position": null,
            "order": null,
            "overflow": null,
            "overflow_x": null,
            "overflow_y": null,
            "padding": null,
            "right": null,
            "top": null,
            "visibility": null,
            "width": null
          }
        },
        "0eac2d9961614a7682719b6e7fe3e0e9": {
          "model_module": "@jupyter-widgets/controls",
          "model_name": "ProgressStyleModel",
          "model_module_version": "1.5.0",
          "state": {
            "_model_module": "@jupyter-widgets/controls",
            "_model_module_version": "1.5.0",
            "_model_name": "ProgressStyleModel",
            "_view_count": null,
            "_view_module": "@jupyter-widgets/base",
            "_view_module_version": "1.2.0",
            "_view_name": "StyleView",
            "bar_color": null,
            "description_width": ""
          }
        },
        "983da057c8ff44168bed2d9e3392a309": {
          "model_module": "@jupyter-widgets/base",
          "model_name": "LayoutModel",
          "model_module_version": "1.2.0",
          "state": {
            "_model_module": "@jupyter-widgets/base",
            "_model_module_version": "1.2.0",
            "_model_name": "LayoutModel",
            "_view_count": null,
            "_view_module": "@jupyter-widgets/base",
            "_view_module_version": "1.2.0",
            "_view_name": "LayoutView",
            "align_content": null,
            "align_items": null,
            "align_self": null,
            "border": null,
            "bottom": null,
            "display": null,
            "flex": null,
            "flex_flow": null,
            "grid_area": null,
            "grid_auto_columns": null,
            "grid_auto_flow": null,
            "grid_auto_rows": null,
            "grid_column": null,
            "grid_gap": null,
            "grid_row": null,
            "grid_template_areas": null,
            "grid_template_columns": null,
            "grid_template_rows": null,
            "height": null,
            "justify_content": null,
            "justify_items": null,
            "left": null,
            "margin": null,
            "max_height": null,
            "max_width": null,
            "min_height": null,
            "min_width": null,
            "object_fit": null,
            "object_position": null,
            "order": null,
            "overflow": null,
            "overflow_x": null,
            "overflow_y": null,
            "padding": null,
            "right": null,
            "top": null,
            "visibility": null,
            "width": null
          }
        },
        "1df6f77f46bd44c0b7e3daa8d2671d7d": {
          "model_module": "@jupyter-widgets/controls",
          "model_name": "DescriptionStyleModel",
          "model_module_version": "1.5.0",
          "state": {
            "_model_module": "@jupyter-widgets/controls",
            "_model_module_version": "1.5.0",
            "_model_name": "DescriptionStyleModel",
            "_view_count": null,
            "_view_module": "@jupyter-widgets/base",
            "_view_module_version": "1.2.0",
            "_view_name": "StyleView",
            "description_width": ""
          }
        }
      }
    }
  },
  "nbformat_minor": 0,
  "nbformat": 4,
  "cells": [
    {
      "cell_type": "code",
      "source": [
        "import pandas as pd\n",
        "data = pd.read_csv('/kaggle/input/dataset/cleaned_data_with_labels.csv')\n",
        "data.head()"
      ],
      "metadata": {
        "trusted": true,
        "execution": {
          "iopub.status.busy": "2025-07-03T19:43:51.918181Z",
          "iopub.execute_input": "2025-07-03T19:43:51.918887Z",
          "iopub.status.idle": "2025-07-03T19:43:51.941747Z",
          "shell.execute_reply.started": "2025-07-03T19:43:51.918862Z",
          "shell.execute_reply": "2025-07-03T19:43:51.941093Z"
        },
        "id": "gGeTgrWN5I_R",
        "outputId": "636ef9b5-7b89-4f7e-e987-eaeed363f403"
      },
      "outputs": [
        {
          "execution_count": 15,
          "output_type": "execute_result",
          "data": {
            "text/plain": "          source                                              title  \\\n0  skynewsarabia  تقرير: ترامب يوقع خلال ساعات أمرا بشأن تخفيف ع...   \n1  skynewsarabia  الإمارات تعزي في ضحايا انهيار منجم ذهب في السودان   \n2  skynewsarabia  مصادر: محادثات مباشرة بين سوريا وإسرائيل بشأن ...   \n3  skynewsarabia  قصف إسرائيلي مباغت يقتل 24 شخصا في \"استراحة\" ع...   \n4  skynewsarabia  \"حملة ممنهجة\".. بيان من محامي شيرين بعد جدل \"م...   \n\n                                             summary  \\\n0  ذكر مراسل لشبكة سي.بي.إس على منصة \"إكس\" أن الر...   \n1  عبّرت دولة الإمارات عن تعازيها الصادقة وتضامنه...   \n2  تجري إسرائيل وسوريا محادثات مباشرة تركز على \"ت...   \n3  أكدت وسائل إعلام فلسطينية، قيام الجيش الإسرائي...   \n4  قال محامي الفنانة شيرين عبد الوهاب ياسر قنطوش،...   \n\n                                                link  \\\n0  https://www.skynewsarabia.com/middle-east/1805...   \n1  https://www.skynewsarabia.com/middle-east/1805...   \n2  https://www.skynewsarabia.com/middle-east/1805...   \n3  https://www.skynewsarabia.com/middle-east/1805...   \n4  https://www.skynewsarabia.com/varieties/180597...   \n\n                       published                collected_at  \\\n0  Mon, 30 Jun 2025 15:04:46 GMT  2025-06-30T15:19:24.323144   \n1  Mon, 30 Jun 2025 15:01:39 GMT  2025-06-30T15:19:24.323144   \n2  Mon, 30 Jun 2025 15:00:45 GMT  2025-06-30T15:19:24.323144   \n3  Mon, 30 Jun 2025 14:18:38 GMT  2025-06-30T15:19:24.323144   \n4  Mon, 30 Jun 2025 14:08:43 GMT  2025-06-30T15:19:24.323144   \n\n                                         clean_title  \\\n0  تقرير ترامب يوقع خلال ساعات أمرا بشأن تخفيف عق...   \n1            الإمارات تعزي ضحايا انهيار منجم السودان   \n2  مصادر محادثات مباشرة سوريا وإسرائيل بشأن ترتيب...   \n3   قصف إسرائيلي مباغت يقتل 24 شخصا استراحة شاطئ غزة   \n4            حملة ممنهجة بيان محامي شيرين جدل موازين   \n\n                                       clean_summary  \\\n0  ذكر مراسل لشبكة سيبيإس منصة إكس الرئيس الأميرك...   \n1  عبرت دولة الإمارات تعازيها الصادقة وتضامنها أس...   \n2  تجري إسرائيل وسوريا محادثات مباشرة تركز ترتيبا...   \n3  أكدت وسائل إعلام فلسطينية قيام الجيش الإسرائيل...   \n4  قال محامي الفنانة شيرين عبد الوهاب ياسر قنطوش ...   \n\n                                       combined_text  \\\n0  تقرير: ترامب يوقع خلال ساعات أمرا بشأن تخفيف ع...   \n1  الإمارات تعزي في ضحايا انهيار منجم ذهب في السو...   \n2  مصادر: محادثات مباشرة بين سوريا وإسرائيل بشأن ...   \n3  قصف إسرائيلي مباغت يقتل 24 شخصا في \"استراحة\" ع...   \n4  \"حملة ممنهجة\".. بيان من محامي شيرين بعد جدل \"م...   \n\n                                 clean_combined_text label_model  \n0  تقرير ترامب يوقع خلال ساعات أمرا بشأن تخفيف عق...       سياسة  \n1  الإمارات تعزي ضحايا انهيار منجم السودان عبرت د...     اجتماعي  \n2  مصادر محادثات مباشرة سوريا وإسرائيل بشأن ترتيب...       سياسة  \n3  قصف إسرائيلي مباغت يقتل 24 شخصا استراحة شاطئ غ...       سياسة  \n4  حملة ممنهجة بيان محامي شيرين جدل موازين قال مح...       ثقافة  ",
            "text/html": "<div>\n<style scoped>\n    .dataframe tbody tr th:only-of-type {\n        vertical-align: middle;\n    }\n\n    .dataframe tbody tr th {\n        vertical-align: top;\n    }\n\n    .dataframe thead th {\n        text-align: right;\n    }\n</style>\n<table border=\"1\" class=\"dataframe\">\n  <thead>\n    <tr style=\"text-align: right;\">\n      <th></th>\n      <th>source</th>\n      <th>title</th>\n      <th>summary</th>\n      <th>link</th>\n      <th>published</th>\n      <th>collected_at</th>\n      <th>clean_title</th>\n      <th>clean_summary</th>\n      <th>combined_text</th>\n      <th>clean_combined_text</th>\n      <th>label_model</th>\n    </tr>\n  </thead>\n  <tbody>\n    <tr>\n      <th>0</th>\n      <td>skynewsarabia</td>\n      <td>تقرير: ترامب يوقع خلال ساعات أمرا بشأن تخفيف ع...</td>\n      <td>ذكر مراسل لشبكة سي.بي.إس على منصة \"إكس\" أن الر...</td>\n      <td>https://www.skynewsarabia.com/middle-east/1805...</td>\n      <td>Mon, 30 Jun 2025 15:04:46 GMT</td>\n      <td>2025-06-30T15:19:24.323144</td>\n      <td>تقرير ترامب يوقع خلال ساعات أمرا بشأن تخفيف عق...</td>\n      <td>ذكر مراسل لشبكة سيبيإس منصة إكس الرئيس الأميرك...</td>\n      <td>تقرير: ترامب يوقع خلال ساعات أمرا بشأن تخفيف ع...</td>\n      <td>تقرير ترامب يوقع خلال ساعات أمرا بشأن تخفيف عق...</td>\n      <td>سياسة</td>\n    </tr>\n    <tr>\n      <th>1</th>\n      <td>skynewsarabia</td>\n      <td>الإمارات تعزي في ضحايا انهيار منجم ذهب في السودان</td>\n      <td>عبّرت دولة الإمارات عن تعازيها الصادقة وتضامنه...</td>\n      <td>https://www.skynewsarabia.com/middle-east/1805...</td>\n      <td>Mon, 30 Jun 2025 15:01:39 GMT</td>\n      <td>2025-06-30T15:19:24.323144</td>\n      <td>الإمارات تعزي ضحايا انهيار منجم السودان</td>\n      <td>عبرت دولة الإمارات تعازيها الصادقة وتضامنها أس...</td>\n      <td>الإمارات تعزي في ضحايا انهيار منجم ذهب في السو...</td>\n      <td>الإمارات تعزي ضحايا انهيار منجم السودان عبرت د...</td>\n      <td>اجتماعي</td>\n    </tr>\n    <tr>\n      <th>2</th>\n      <td>skynewsarabia</td>\n      <td>مصادر: محادثات مباشرة بين سوريا وإسرائيل بشأن ...</td>\n      <td>تجري إسرائيل وسوريا محادثات مباشرة تركز على \"ت...</td>\n      <td>https://www.skynewsarabia.com/middle-east/1805...</td>\n      <td>Mon, 30 Jun 2025 15:00:45 GMT</td>\n      <td>2025-06-30T15:19:24.323144</td>\n      <td>مصادر محادثات مباشرة سوريا وإسرائيل بشأن ترتيب...</td>\n      <td>تجري إسرائيل وسوريا محادثات مباشرة تركز ترتيبا...</td>\n      <td>مصادر: محادثات مباشرة بين سوريا وإسرائيل بشأن ...</td>\n      <td>مصادر محادثات مباشرة سوريا وإسرائيل بشأن ترتيب...</td>\n      <td>سياسة</td>\n    </tr>\n    <tr>\n      <th>3</th>\n      <td>skynewsarabia</td>\n      <td>قصف إسرائيلي مباغت يقتل 24 شخصا في \"استراحة\" ع...</td>\n      <td>أكدت وسائل إعلام فلسطينية، قيام الجيش الإسرائي...</td>\n      <td>https://www.skynewsarabia.com/middle-east/1805...</td>\n      <td>Mon, 30 Jun 2025 14:18:38 GMT</td>\n      <td>2025-06-30T15:19:24.323144</td>\n      <td>قصف إسرائيلي مباغت يقتل 24 شخصا استراحة شاطئ غزة</td>\n      <td>أكدت وسائل إعلام فلسطينية قيام الجيش الإسرائيل...</td>\n      <td>قصف إسرائيلي مباغت يقتل 24 شخصا في \"استراحة\" ع...</td>\n      <td>قصف إسرائيلي مباغت يقتل 24 شخصا استراحة شاطئ غ...</td>\n      <td>سياسة</td>\n    </tr>\n    <tr>\n      <th>4</th>\n      <td>skynewsarabia</td>\n      <td>\"حملة ممنهجة\".. بيان من محامي شيرين بعد جدل \"م...</td>\n      <td>قال محامي الفنانة شيرين عبد الوهاب ياسر قنطوش،...</td>\n      <td>https://www.skynewsarabia.com/varieties/180597...</td>\n      <td>Mon, 30 Jun 2025 14:08:43 GMT</td>\n      <td>2025-06-30T15:19:24.323144</td>\n      <td>حملة ممنهجة بيان محامي شيرين جدل موازين</td>\n      <td>قال محامي الفنانة شيرين عبد الوهاب ياسر قنطوش ...</td>\n      <td>\"حملة ممنهجة\".. بيان من محامي شيرين بعد جدل \"م...</td>\n      <td>حملة ممنهجة بيان محامي شيرين جدل موازين قال مح...</td>\n      <td>ثقافة</td>\n    </tr>\n  </tbody>\n</table>\n</div>"
          },
          "metadata": {}
        }
      ],
      "execution_count": null
    },
    {
      "cell_type": "code",
      "source": [
        "labels = [\"اجتماعي\", \"سياسة\", \"اقتصاد\", \"رياضة\", \"تكنولوجيا\", \"ثقافة\", \"صحة\"]"
      ],
      "metadata": {
        "trusted": true,
        "execution": {
          "iopub.status.busy": "2025-07-03T19:43:56.457849Z",
          "iopub.execute_input": "2025-07-03T19:43:56.458121Z",
          "iopub.status.idle": "2025-07-03T19:43:56.461999Z",
          "shell.execute_reply.started": "2025-07-03T19:43:56.458102Z",
          "shell.execute_reply": "2025-07-03T19:43:56.461277Z"
        },
        "id": "0EzuGDoQ5I_T"
      },
      "outputs": [],
      "execution_count": 4
    },
    {
      "cell_type": "code",
      "source": [
        "data['label_model'] =data['label_model'].str.strip()"
      ],
      "metadata": {
        "trusted": true,
        "execution": {
          "iopub.status.busy": "2025-07-03T19:43:58.152083Z",
          "iopub.execute_input": "2025-07-03T19:43:58.152415Z",
          "iopub.status.idle": "2025-07-03T19:43:58.158228Z",
          "shell.execute_reply.started": "2025-07-03T19:43:58.152389Z",
          "shell.execute_reply": "2025-07-03T19:43:58.157526Z"
        },
        "id": "eoZh0VCb5I_U"
      },
      "outputs": [],
      "execution_count": null
    },
    {
      "cell_type": "code",
      "source": [
        "data[['clean_combined_text' , 'label_model']].to_csv(\"/kaggle/working/cleaned_data_with_labels.csv\" , index=False , encoding= \"utf-8-sig\")"
      ],
      "metadata": {
        "trusted": true,
        "execution": {
          "iopub.status.busy": "2025-07-03T19:49:13.777146Z",
          "iopub.execute_input": "2025-07-03T19:49:13.777723Z",
          "iopub.status.idle": "2025-07-03T19:49:13.790095Z",
          "shell.execute_reply.started": "2025-07-03T19:49:13.777702Z",
          "shell.execute_reply": "2025-07-03T19:49:13.789419Z"
        },
        "id": "diqJuhiJ5I_U"
      },
      "outputs": [],
      "execution_count": null
    },
    {
      "cell_type": "code",
      "source": [
        "import pandas as pd\n",
        "data = pd.read_csv(\"/content/update_cleaned_data_with_labels.csv\" )\n",
        "data.head()"
      ],
      "metadata": {
        "trusted": true,
        "execution": {
          "iopub.status.busy": "2025-07-03T19:50:04.292083Z",
          "iopub.execute_input": "2025-07-03T19:50:04.292657Z",
          "iopub.status.idle": "2025-07-03T19:50:04.302472Z",
          "shell.execute_reply.started": "2025-07-03T19:50:04.292636Z",
          "shell.execute_reply": "2025-07-03T19:50:04.301912Z"
        },
        "colab": {
          "base_uri": "https://localhost:8080/",
          "height": 206
        },
        "id": "cybgSN9o5I_U",
        "outputId": "b4e0abbf-0f82-450c-fe2d-c857221de1b6"
      },
      "outputs": [
        {
          "output_type": "execute_result",
          "data": {
            "text/plain": [
              "                                 clean_combined_text label_model\n",
              "0  تقرير ترامب يوقع خلال ساعات أمرا بشأن تخفيف عق...       سياسة\n",
              "1  الإمارات تعزي ضحايا انهيار منجم السودان عبرت د...     اجتماعي\n",
              "2  مصادر محادثات مباشرة سوريا وإسرائيل بشأن ترتيب...       سياسة\n",
              "3  قصف إسرائيلي مباغت يقتل 24 شخصا استراحة شاطئ غ...       سياسة\n",
              "4  حملة ممنهجة بيان محامي شيرين جدل موازين قال مح...       ثقافة"
            ],
            "text/html": [
              "\n",
              "  <div id=\"df-a954bd62-64a8-4ced-95ba-1c659056111b\" class=\"colab-df-container\">\n",
              "    <div>\n",
              "<style scoped>\n",
              "    .dataframe tbody tr th:only-of-type {\n",
              "        vertical-align: middle;\n",
              "    }\n",
              "\n",
              "    .dataframe tbody tr th {\n",
              "        vertical-align: top;\n",
              "    }\n",
              "\n",
              "    .dataframe thead th {\n",
              "        text-align: right;\n",
              "    }\n",
              "</style>\n",
              "<table border=\"1\" class=\"dataframe\">\n",
              "  <thead>\n",
              "    <tr style=\"text-align: right;\">\n",
              "      <th></th>\n",
              "      <th>clean_combined_text</th>\n",
              "      <th>label_model</th>\n",
              "    </tr>\n",
              "  </thead>\n",
              "  <tbody>\n",
              "    <tr>\n",
              "      <th>0</th>\n",
              "      <td>تقرير ترامب يوقع خلال ساعات أمرا بشأن تخفيف عق...</td>\n",
              "      <td>سياسة</td>\n",
              "    </tr>\n",
              "    <tr>\n",
              "      <th>1</th>\n",
              "      <td>الإمارات تعزي ضحايا انهيار منجم السودان عبرت د...</td>\n",
              "      <td>اجتماعي</td>\n",
              "    </tr>\n",
              "    <tr>\n",
              "      <th>2</th>\n",
              "      <td>مصادر محادثات مباشرة سوريا وإسرائيل بشأن ترتيب...</td>\n",
              "      <td>سياسة</td>\n",
              "    </tr>\n",
              "    <tr>\n",
              "      <th>3</th>\n",
              "      <td>قصف إسرائيلي مباغت يقتل 24 شخصا استراحة شاطئ غ...</td>\n",
              "      <td>سياسة</td>\n",
              "    </tr>\n",
              "    <tr>\n",
              "      <th>4</th>\n",
              "      <td>حملة ممنهجة بيان محامي شيرين جدل موازين قال مح...</td>\n",
              "      <td>ثقافة</td>\n",
              "    </tr>\n",
              "  </tbody>\n",
              "</table>\n",
              "</div>\n",
              "    <div class=\"colab-df-buttons\">\n",
              "\n",
              "  <div class=\"colab-df-container\">\n",
              "    <button class=\"colab-df-convert\" onclick=\"convertToInteractive('df-a954bd62-64a8-4ced-95ba-1c659056111b')\"\n",
              "            title=\"Convert this dataframe to an interactive table.\"\n",
              "            style=\"display:none;\">\n",
              "\n",
              "  <svg xmlns=\"http://www.w3.org/2000/svg\" height=\"24px\" viewBox=\"0 -960 960 960\">\n",
              "    <path d=\"M120-120v-720h720v720H120Zm60-500h600v-160H180v160Zm220 220h160v-160H400v160Zm0 220h160v-160H400v160ZM180-400h160v-160H180v160Zm440 0h160v-160H620v160ZM180-180h160v-160H180v160Zm440 0h160v-160H620v160Z\"/>\n",
              "  </svg>\n",
              "    </button>\n",
              "\n",
              "  <style>\n",
              "    .colab-df-container {\n",
              "      display:flex;\n",
              "      gap: 12px;\n",
              "    }\n",
              "\n",
              "    .colab-df-convert {\n",
              "      background-color: #E8F0FE;\n",
              "      border: none;\n",
              "      border-radius: 50%;\n",
              "      cursor: pointer;\n",
              "      display: none;\n",
              "      fill: #1967D2;\n",
              "      height: 32px;\n",
              "      padding: 0 0 0 0;\n",
              "      width: 32px;\n",
              "    }\n",
              "\n",
              "    .colab-df-convert:hover {\n",
              "      background-color: #E2EBFA;\n",
              "      box-shadow: 0px 1px 2px rgba(60, 64, 67, 0.3), 0px 1px 3px 1px rgba(60, 64, 67, 0.15);\n",
              "      fill: #174EA6;\n",
              "    }\n",
              "\n",
              "    .colab-df-buttons div {\n",
              "      margin-bottom: 4px;\n",
              "    }\n",
              "\n",
              "    [theme=dark] .colab-df-convert {\n",
              "      background-color: #3B4455;\n",
              "      fill: #D2E3FC;\n",
              "    }\n",
              "\n",
              "    [theme=dark] .colab-df-convert:hover {\n",
              "      background-color: #434B5C;\n",
              "      box-shadow: 0px 1px 3px 1px rgba(0, 0, 0, 0.15);\n",
              "      filter: drop-shadow(0px 1px 2px rgba(0, 0, 0, 0.3));\n",
              "      fill: #FFFFFF;\n",
              "    }\n",
              "  </style>\n",
              "\n",
              "    <script>\n",
              "      const buttonEl =\n",
              "        document.querySelector('#df-a954bd62-64a8-4ced-95ba-1c659056111b button.colab-df-convert');\n",
              "      buttonEl.style.display =\n",
              "        google.colab.kernel.accessAllowed ? 'block' : 'none';\n",
              "\n",
              "      async function convertToInteractive(key) {\n",
              "        const element = document.querySelector('#df-a954bd62-64a8-4ced-95ba-1c659056111b');\n",
              "        const dataTable =\n",
              "          await google.colab.kernel.invokeFunction('convertToInteractive',\n",
              "                                                    [key], {});\n",
              "        if (!dataTable) return;\n",
              "\n",
              "        const docLinkHtml = 'Like what you see? Visit the ' +\n",
              "          '<a target=\"_blank\" href=https://colab.research.google.com/notebooks/data_table.ipynb>data table notebook</a>'\n",
              "          + ' to learn more about interactive tables.';\n",
              "        element.innerHTML = '';\n",
              "        dataTable['output_type'] = 'display_data';\n",
              "        await google.colab.output.renderOutput(dataTable, element);\n",
              "        const docLink = document.createElement('div');\n",
              "        docLink.innerHTML = docLinkHtml;\n",
              "        element.appendChild(docLink);\n",
              "      }\n",
              "    </script>\n",
              "  </div>\n",
              "\n",
              "\n",
              "    <div id=\"df-82550b27-2987-4a90-904b-ca455082da38\">\n",
              "      <button class=\"colab-df-quickchart\" onclick=\"quickchart('df-82550b27-2987-4a90-904b-ca455082da38')\"\n",
              "                title=\"Suggest charts\"\n",
              "                style=\"display:none;\">\n",
              "\n",
              "<svg xmlns=\"http://www.w3.org/2000/svg\" height=\"24px\"viewBox=\"0 0 24 24\"\n",
              "     width=\"24px\">\n",
              "    <g>\n",
              "        <path d=\"M19 3H5c-1.1 0-2 .9-2 2v14c0 1.1.9 2 2 2h14c1.1 0 2-.9 2-2V5c0-1.1-.9-2-2-2zM9 17H7v-7h2v7zm4 0h-2V7h2v10zm4 0h-2v-4h2v4z\"/>\n",
              "    </g>\n",
              "</svg>\n",
              "      </button>\n",
              "\n",
              "<style>\n",
              "  .colab-df-quickchart {\n",
              "      --bg-color: #E8F0FE;\n",
              "      --fill-color: #1967D2;\n",
              "      --hover-bg-color: #E2EBFA;\n",
              "      --hover-fill-color: #174EA6;\n",
              "      --disabled-fill-color: #AAA;\n",
              "      --disabled-bg-color: #DDD;\n",
              "  }\n",
              "\n",
              "  [theme=dark] .colab-df-quickchart {\n",
              "      --bg-color: #3B4455;\n",
              "      --fill-color: #D2E3FC;\n",
              "      --hover-bg-color: #434B5C;\n",
              "      --hover-fill-color: #FFFFFF;\n",
              "      --disabled-bg-color: #3B4455;\n",
              "      --disabled-fill-color: #666;\n",
              "  }\n",
              "\n",
              "  .colab-df-quickchart {\n",
              "    background-color: var(--bg-color);\n",
              "    border: none;\n",
              "    border-radius: 50%;\n",
              "    cursor: pointer;\n",
              "    display: none;\n",
              "    fill: var(--fill-color);\n",
              "    height: 32px;\n",
              "    padding: 0;\n",
              "    width: 32px;\n",
              "  }\n",
              "\n",
              "  .colab-df-quickchart:hover {\n",
              "    background-color: var(--hover-bg-color);\n",
              "    box-shadow: 0 1px 2px rgba(60, 64, 67, 0.3), 0 1px 3px 1px rgba(60, 64, 67, 0.15);\n",
              "    fill: var(--button-hover-fill-color);\n",
              "  }\n",
              "\n",
              "  .colab-df-quickchart-complete:disabled,\n",
              "  .colab-df-quickchart-complete:disabled:hover {\n",
              "    background-color: var(--disabled-bg-color);\n",
              "    fill: var(--disabled-fill-color);\n",
              "    box-shadow: none;\n",
              "  }\n",
              "\n",
              "  .colab-df-spinner {\n",
              "    border: 2px solid var(--fill-color);\n",
              "    border-color: transparent;\n",
              "    border-bottom-color: var(--fill-color);\n",
              "    animation:\n",
              "      spin 1s steps(1) infinite;\n",
              "  }\n",
              "\n",
              "  @keyframes spin {\n",
              "    0% {\n",
              "      border-color: transparent;\n",
              "      border-bottom-color: var(--fill-color);\n",
              "      border-left-color: var(--fill-color);\n",
              "    }\n",
              "    20% {\n",
              "      border-color: transparent;\n",
              "      border-left-color: var(--fill-color);\n",
              "      border-top-color: var(--fill-color);\n",
              "    }\n",
              "    30% {\n",
              "      border-color: transparent;\n",
              "      border-left-color: var(--fill-color);\n",
              "      border-top-color: var(--fill-color);\n",
              "      border-right-color: var(--fill-color);\n",
              "    }\n",
              "    40% {\n",
              "      border-color: transparent;\n",
              "      border-right-color: var(--fill-color);\n",
              "      border-top-color: var(--fill-color);\n",
              "    }\n",
              "    60% {\n",
              "      border-color: transparent;\n",
              "      border-right-color: var(--fill-color);\n",
              "    }\n",
              "    80% {\n",
              "      border-color: transparent;\n",
              "      border-right-color: var(--fill-color);\n",
              "      border-bottom-color: var(--fill-color);\n",
              "    }\n",
              "    90% {\n",
              "      border-color: transparent;\n",
              "      border-bottom-color: var(--fill-color);\n",
              "    }\n",
              "  }\n",
              "</style>\n",
              "\n",
              "      <script>\n",
              "        async function quickchart(key) {\n",
              "          const quickchartButtonEl =\n",
              "            document.querySelector('#' + key + ' button');\n",
              "          quickchartButtonEl.disabled = true;  // To prevent multiple clicks.\n",
              "          quickchartButtonEl.classList.add('colab-df-spinner');\n",
              "          try {\n",
              "            const charts = await google.colab.kernel.invokeFunction(\n",
              "                'suggestCharts', [key], {});\n",
              "          } catch (error) {\n",
              "            console.error('Error during call to suggestCharts:', error);\n",
              "          }\n",
              "          quickchartButtonEl.classList.remove('colab-df-spinner');\n",
              "          quickchartButtonEl.classList.add('colab-df-quickchart-complete');\n",
              "        }\n",
              "        (() => {\n",
              "          let quickchartButtonEl =\n",
              "            document.querySelector('#df-82550b27-2987-4a90-904b-ca455082da38 button');\n",
              "          quickchartButtonEl.style.display =\n",
              "            google.colab.kernel.accessAllowed ? 'block' : 'none';\n",
              "        })();\n",
              "      </script>\n",
              "    </div>\n",
              "\n",
              "    </div>\n",
              "  </div>\n"
            ],
            "application/vnd.google.colaboratory.intrinsic+json": {
              "type": "dataframe",
              "variable_name": "data",
              "summary": "{\n  \"name\": \"data\",\n  \"rows\": 222,\n  \"fields\": [\n    {\n      \"column\": \"clean_combined_text\",\n      \"properties\": {\n        \"dtype\": \"string\",\n        \"num_unique_values\": 222,\n        \"samples\": [\n          \"\\u062a\\u0624\\u062b\\u0631 \\u0627\\u0644\\u062a\\u063a\\u064a\\u0631\\u0627\\u062a \\u0627\\u0644\\u0645\\u0648\\u0633\\u0645\\u064a\\u0629 \\u0648\\u0627\\u0644\\u0631\\u0648\\u062a\\u064a\\u0646 \\u0627\\u0644\\u0623\\u0633\\u0628\\u0648\\u0639\\u064a \\u0646\\u0648\\u0645\\u0646\\u0627 \\u062a\\u0627\\u0628\\u0639 \\u0639\\u0644\\u0645\\u0627\\u0621 \\u062c\\u0627\\u0645\\u0639\\u0629 \\u0641\\u0644\\u0646\\u062f\\u0631\\u0632 \\u0627\\u0644\\u0623\\u0633\\u062a\\u0631\\u0627\\u0644\\u064a\\u0629 \\u0646\\u0648\\u0645 116000 \\u0634\\u062e\\u0635 \\u0644\\u0645\\u062f\\u0629 35 \\u0633\\u0646\\u0648\\u0627\\u062a 73 \\u0645\\u0644\\u064a\\u0648\\u0646 \\u0644\\u064a\\u0644\\u0629 \\u0646\\u0648\\u0645 \\u0628\\u0627\\u0633\\u062a\\u062e\\u062f\\u0627\\u0645 \\u062c\\u0647\\u0627\\u0632 \\u062e\\u0627\\u0635 \\u0645\\u062b\\u0628\\u062a \\u0627\\u0644\\u0645\\u0631\\u062a\\u0628\\u0629 \\u0648\\u0633\\u062c\\u0644 \\u0627\\u0644\\u0645\\u0633\\u062a\\u0634\\u0639\\u0631 \\u0637\\u0648\\u0644 \\u0641\\u062a\\u0631\\u0629 \\u0627\\u0644\\u0646\\u0648\\u0645 \\u0648\\u0648\\u0642\\u062a\\u0647\",\n          \"\\u0627\\u0644\\u0623\\u0631\\u062f\\u0646 \\u062a\\u0648\\u0633\\u0639 \\u0627\\u0644\\u062a\\u062d\\u0642\\u064a\\u0642\\u0627\\u062a \\u0643\\u0627\\u0631\\u062b\\u0629 \\u0627\\u0644\\u0643\\u062d\\u0648\\u0644 \\u0648\\u0625\\u063a\\u0644\\u0627\\u0642 \\u0645\\u0635\\u0627\\u0646\\u0639 \\u0645\\u0634\\u0628\\u0648\\u0647\\u0629 \\u0648\\u0641\\u0627\\u0629 7 \\u0623\\u0634\\u062e\\u0627\\u0635 \\u062a\\u0648\\u0633\\u0639\\u062a \\u0627\\u0644\\u062a\\u062d\\u0642\\u064a\\u0642\\u0627\\u062a \\u0627\\u0644\\u0631\\u0633\\u0645\\u064a\\u0629 \\u0642\\u0636\\u064a\\u0629 \\u0627\\u0644\\u0643\\u062d\\u0648\\u0644 \\u0627\\u0644\\u0645\\u064a\\u062b\\u064a\\u0644\\u064a \\u0627\\u0644\\u0645\\u064a\\u062b\\u0627\\u0646\\u0648\\u0644 \\u062a\\u0633\\u0628\\u0628\\u062a \\u0628\\u0648\\u0641\\u0627\\u0629 \\u0623\\u0634\\u062e\\u0627\\u0635 \\u0645\\u062d\\u0627\\u0641\\u0638\\u0629 \\u0627\\u0644\\u0632\\u0631\\u0642\\u0627\\u0621 \\u0627\\u0644\\u0623\\u0631\\u062f\\u0646\\u064a\\u0629\",\n          \"\\u062a\\u0631\\u0627\\u0645\\u0628 \\u064a\\u0647\\u062f\\u062f \\u0645\\u0645\\u062f\\u0627\\u0646\\u064a \\u0628\\u0627\\u0644\\u062a\\u0635\\u0631\\u0641 \\u0627\\u0644\\u0635\\u062d\\u064a\\u062d \\u0648\\u0625\\u0644\\u0627 \\u062a\\u062c\\u0627\\u0647\\u0644 \\u0627\\u0644\\u0645\\u0631\\u0634\\u062d \\u0627\\u0644\\u0623\\u0648\\u0644 \\u0644\\u0631\\u0626\\u0627\\u0633\\u0629 \\u0628\\u0644\\u062f\\u064a\\u0629 \\u0646\\u064a\\u0648\\u064a\\u0648\\u0631\\u0643 \\u0632\\u0647\\u0631\\u0627\\u0646 \\u0645\\u0645\\u062f\\u0627\\u0646\\u064a \\u0647\\u062c\\u0645\\u0627\\u062a \\u0627\\u0644\\u0631\\u0626\\u064a\\u0633 \\u0627\\u0644\\u0623\\u0645\\u064a\\u0631\\u0643\\u064a \\u062f\\u0648\\u0646\\u0627\\u0644\\u062f \\u062a\\u0631\\u0627\\u0645\\u0628 \\u0648\\u0646\\u0641\\u0649 \\u0634\\u064a\\u0648\\u0639\\u064a\\u062a\\u0647 \\u062e\\u0644\\u0627\\u0644 \\u0645\\u0642\\u0627\\u0628\\u0644\\u0629 \\u0623\\u062c\\u0631\\u064a\\u062a \\u0627\\u0644\\u0623\\u062d\\u062f \\u0642\\u0627\\u0644 \\u0627\\u0644\\u0645\\u0631\\u0634\\u062d \\u0627\\u0644\\u062a\\u0642\\u062f\\u0645\\u064a \\u0644\\u0645\\u0646\\u0635\\u0628 \\u0639\\u0645\\u062f\\u0629 \\u0645\\u062f\\u064a\\u0646\\u0629 \\u0646\\u064a\\u0648\\u064a\\u0648\\u0631\\u0643 \\u064a\\u0639\\u0627\\u0631\\u0636 \\u0641\\u0643\\u0631\\u0629 \\u0627\\u0644\\u0645\\u0644\\u064a\\u0627\\u0631\\u062f\\u064a\\u0631\\u0627\\u062a\"\n        ],\n        \"semantic_type\": \"\",\n        \"description\": \"\"\n      }\n    },\n    {\n      \"column\": \"label_model\",\n      \"properties\": {\n        \"dtype\": \"category\",\n        \"num_unique_values\": 7,\n        \"samples\": [\n          \"\\u0633\\u064a\\u0627\\u0633\\u0629\",\n          \"\\u0627\\u062c\\u062a\\u0645\\u0627\\u0639\\u064a\",\n          \"\\u0631\\u064a\\u0627\\u0636\\u0629\"\n        ],\n        \"semantic_type\": \"\",\n        \"description\": \"\"\n      }\n    }\n  ]\n}"
            }
          },
          "metadata": {},
          "execution_count": 1
        }
      ],
      "execution_count": 1
    },
    {
      "cell_type": "code",
      "source": [],
      "metadata": {
        "id": "h6YiE8-29vrz"
      },
      "execution_count": null,
      "outputs": []
    },
    {
      "cell_type": "code",
      "source": [
        "from transformers import AutoTokenizer, AutoModelForSequenceClassification , AutoConfig"
      ],
      "metadata": {
        "trusted": true,
        "execution": {
          "iopub.status.busy": "2025-07-03T19:41:56.632941Z",
          "iopub.execute_input": "2025-07-03T19:41:56.633203Z",
          "iopub.status.idle": "2025-07-03T19:42:07.638742Z",
          "shell.execute_reply.started": "2025-07-03T19:41:56.633182Z",
          "shell.execute_reply": "2025-07-03T19:42:07.637937Z"
        },
        "id": "edodCxUE5I_V"
      },
      "outputs": [],
      "execution_count": 2
    },
    {
      "cell_type": "code",
      "source": [
        "model_name = \"MoritzLaurer/mDeBERTa-v3-base-mnli-xnli\"  # ممكن نغيّره بعدين لموديل عربي\n",
        "\n",
        "tokenizer = AutoTokenizer.from_pretrained(model_name)\n",
        "\n",
        "config = AutoConfig.from_pretrained(model_name)\n",
        "config.num_labels = len(labels)\n",
        "config.id2label = {i: label for i, label in enumerate(labels)}\n",
        "config.label2id = {label: i for i, label in enumerate(labels)}\n",
        "\n",
        "model = AutoModelForSequenceClassification.from_pretrained(\n",
        "    model_name,\n",
        "    config = config , ignore_mismatched_sizes=True\n",
        ")"
      ],
      "metadata": {
        "trusted": true,
        "execution": {
          "iopub.status.busy": "2025-07-03T19:42:27.860644Z",
          "iopub.execute_input": "2025-07-03T19:42:27.861103Z",
          "iopub.status.idle": "2025-07-03T19:42:46.732936Z",
          "shell.execute_reply.started": "2025-07-03T19:42:27.861080Z",
          "shell.execute_reply": "2025-07-03T19:42:46.732331Z"
        },
        "colab": {
          "base_uri": "https://localhost:8080/"
        },
        "id": "xPJgd3BD5I_V",
        "outputId": "2b082ccd-e5ee-4ffc-89a9-9715a2b5186b"
      },
      "outputs": [
        {
          "output_type": "stream",
          "name": "stderr",
          "text": [
            "Some weights of DebertaV2ForSequenceClassification were not initialized from the model checkpoint at MoritzLaurer/mDeBERTa-v3-base-mnli-xnli and are newly initialized because the shapes did not match:\n",
            "- classifier.bias: found shape torch.Size([3]) in the checkpoint and torch.Size([7]) in the model instantiated\n",
            "- classifier.weight: found shape torch.Size([3, 768]) in the checkpoint and torch.Size([7, 768]) in the model instantiated\n",
            "You should probably TRAIN this model on a down-stream task to be able to use it for predictions and inference.\n"
          ]
        }
      ],
      "execution_count": 95
    },
    {
      "cell_type": "code",
      "source": [
        "from datasets import load_dataset\n",
        "from datasets import Dataset"
      ],
      "metadata": {
        "trusted": true,
        "execution": {
          "iopub.status.busy": "2025-07-03T19:42:46.733762Z",
          "iopub.execute_input": "2025-07-03T19:42:46.734214Z",
          "iopub.status.idle": "2025-07-03T19:42:47.554533Z",
          "shell.execute_reply.started": "2025-07-03T19:42:46.734195Z",
          "shell.execute_reply": "2025-07-03T19:42:47.553770Z"
        },
        "id": "6GWM9BG35I_V"
      },
      "outputs": [],
      "execution_count": 96
    },
    {
      "cell_type": "code",
      "source": [
        "dataset =  Dataset.from_pandas(data)\n",
        "dataset = dataset.train_test_split(test_size=0.03, seed=42)"
      ],
      "metadata": {
        "trusted": true,
        "execution": {
          "iopub.status.busy": "2025-07-03T19:50:11.474539Z",
          "iopub.execute_input": "2025-07-03T19:50:11.474828Z",
          "iopub.status.idle": "2025-07-03T19:50:12.048164Z",
          "shell.execute_reply.started": "2025-07-03T19:50:11.474804Z",
          "shell.execute_reply": "2025-07-03T19:50:12.047542Z"
        },
        "id": "9FhF6ejy5I_V"
      },
      "outputs": [],
      "execution_count": 83
    },
    {
      "cell_type": "code",
      "source": [
        "# tokenization\n",
        "def tokenize(batch_data):\n",
        "    return tokenizer(batch_data['clean_combined_text'], padding=True, truncation=True, max_length=256)\n",
        "\n",
        "tokenize_data = dataset.map(tokenize , batched = True )"
      ],
      "metadata": {
        "trusted": true,
        "execution": {
          "iopub.status.busy": "2025-07-03T19:50:13.913918Z",
          "iopub.execute_input": "2025-07-03T19:50:13.914503Z",
          "iopub.status.idle": "2025-07-03T19:50:14.042285Z",
          "shell.execute_reply.started": "2025-07-03T19:50:13.914483Z",
          "shell.execute_reply": "2025-07-03T19:50:14.041544Z"
        },
        "colab": {
          "base_uri": "https://localhost:8080/",
          "height": 81,
          "referenced_widgets": [
            "a7a09cb2ee094883ab471aba81e6f94b",
            "9c2d93d89e0a4e159c1881121e038721",
            "8e9fe682ac41453aa3948f23b8bfdb9c",
            "ef4d0afd52a84e2d9c69b60a4df36007",
            "3ac09f4f64ab4cd18e62e1d1b8c5113a",
            "70ecf6f7e85440c282c32e86da0fa2b9",
            "1220bda16d2149b690e0aaf1554e66c1",
            "1631e535510d423490331e854d341d37",
            "84d758cd800d440a9d903a70b3e2e6d1",
            "db5b26f2e3b441ac80b2e07b25f0eaef",
            "c35fc1b84c834a82bd7b27a95f59dc0b",
            "b31525c196ea41899690aa7f563cf96b",
            "244aa1b9e72e48358135298cb1b16eab",
            "932d3ecc9ad449c09374468c2a40e1ed",
            "346b93e933bc4c65a860f1a0eb600378",
            "369d6206686f4a3bbf1a130b53461667",
            "b1c2153f6a5e4ae6ade3532bfeec6f37",
            "529a53ed00d64542a7e428647c078daa",
            "9979e8f534a54a25866350c328fa1040",
            "316a62f73a35489da14c260e99202c25",
            "814a79e97b3241df983f937dd95badd6",
            "eff97da32761449380d59cb46f684ad5"
          ]
        },
        "id": "IySvBjpQ5I_W",
        "outputId": "e7207727-9890-44b5-d60c-37a98bfc0e7b"
      },
      "outputs": [
        {
          "output_type": "display_data",
          "data": {
            "text/plain": [
              "Map:   0%|          | 0/215 [00:00<?, ? examples/s]"
            ],
            "application/vnd.jupyter.widget-view+json": {
              "version_major": 2,
              "version_minor": 0,
              "model_id": "a7a09cb2ee094883ab471aba81e6f94b"
            }
          },
          "metadata": {}
        },
        {
          "output_type": "display_data",
          "data": {
            "text/plain": [
              "Map:   0%|          | 0/7 [00:00<?, ? examples/s]"
            ],
            "application/vnd.jupyter.widget-view+json": {
              "version_major": 2,
              "version_minor": 0,
              "model_id": "b31525c196ea41899690aa7f563cf96b"
            }
          },
          "metadata": {}
        }
      ],
      "execution_count": 84
    },
    {
      "cell_type": "code",
      "source": [
        "\n",
        "def encode_labels(batch):\n",
        "    batch['label_model'] = label2id[batch['label_model']]\n",
        "    return batch\n",
        "\n",
        "tokenize_data = tokenize_data.map(encode_labels)\n"
      ],
      "metadata": {
        "trusted": true,
        "execution": {
          "iopub.status.busy": "2025-07-03T19:50:15.952538Z",
          "iopub.execute_input": "2025-07-03T19:50:15.952857Z",
          "iopub.status.idle": "2025-07-03T19:50:16.006014Z",
          "shell.execute_reply.started": "2025-07-03T19:50:15.952834Z",
          "shell.execute_reply": "2025-07-03T19:50:16.005256Z"
        },
        "colab": {
          "base_uri": "https://localhost:8080/",
          "height": 81,
          "referenced_widgets": [
            "6cf9ca025e684d27a7e2d4c18f3bacf4",
            "3983d2b7b6b1480abac4be2a08576f9a",
            "66e39524c45c4c3eaafc682f349d133b",
            "fa10f767efda42d194c80b50a8cfdfe3",
            "6583d04a1c7d41b69f534e28a0568f92",
            "0940181546b944c68345b9a83f02259e",
            "c8cacfcae1814d078b5e2dbaa2d7e72f",
            "59379e02692d4431a5f459e9683ef24c",
            "fc5f037da5e846a59cb04041fbb9265b",
            "3152f742784a486fa39940ec3dc4398d",
            "971ad7243c2e48209f81a60dc1a019d0",
            "7fb9f4a91dc048de8d50c4e7e572af58",
            "d1199e96d5ff439bb71546ddc822c2d0",
            "54099ce91c6347f2b9570c4e59c5cbaa",
            "d51a74b579794d428fec667ebbfd43ae",
            "0ec7016ae7284dbf97bde647ebec99d9",
            "a7b73739b0524c68bf65cbd7bf3a8d04",
            "7f30da6727354c84bc97a66a16fcd707",
            "31e9e6c22728415c9b1fb373d3d343a1",
            "0eac2d9961614a7682719b6e7fe3e0e9",
            "983da057c8ff44168bed2d9e3392a309",
            "1df6f77f46bd44c0b7e3daa8d2671d7d"
          ]
        },
        "id": "wZb59TAq5I_W",
        "outputId": "1f827fa4-89d3-427c-d85b-40ae43e8a60c"
      },
      "outputs": [
        {
          "output_type": "display_data",
          "data": {
            "text/plain": [
              "Map:   0%|          | 0/215 [00:00<?, ? examples/s]"
            ],
            "application/vnd.jupyter.widget-view+json": {
              "version_major": 2,
              "version_minor": 0,
              "model_id": "6cf9ca025e684d27a7e2d4c18f3bacf4"
            }
          },
          "metadata": {}
        },
        {
          "output_type": "display_data",
          "data": {
            "text/plain": [
              "Map:   0%|          | 0/7 [00:00<?, ? examples/s]"
            ],
            "application/vnd.jupyter.widget-view+json": {
              "version_major": 2,
              "version_minor": 0,
              "model_id": "7fb9f4a91dc048de8d50c4e7e572af58"
            }
          },
          "metadata": {}
        }
      ],
      "execution_count": 85
    },
    {
      "cell_type": "code",
      "source": [
        "tokenize_data"
      ],
      "metadata": {
        "trusted": true,
        "execution": {
          "iopub.status.busy": "2025-07-03T19:50:50.850115Z",
          "iopub.execute_input": "2025-07-03T19:50:50.850614Z",
          "iopub.status.idle": "2025-07-03T19:50:50.855623Z",
          "shell.execute_reply.started": "2025-07-03T19:50:50.850591Z",
          "shell.execute_reply": "2025-07-03T19:50:50.855007Z"
        },
        "colab": {
          "base_uri": "https://localhost:8080/"
        },
        "id": "jStTzdYO5I_W",
        "outputId": "6a050f08-7fe9-4dcf-d152-76c6f9488b31"
      },
      "outputs": [
        {
          "output_type": "execute_result",
          "data": {
            "text/plain": [
              "DatasetDict({\n",
              "    train: Dataset({\n",
              "        features: ['clean_combined_text', 'label_model', 'input_ids', 'token_type_ids', 'attention_mask'],\n",
              "        num_rows: 215\n",
              "    })\n",
              "    test: Dataset({\n",
              "        features: ['clean_combined_text', 'label_model', 'input_ids', 'token_type_ids', 'attention_mask'],\n",
              "        num_rows: 7\n",
              "    })\n",
              "})"
            ]
          },
          "metadata": {},
          "execution_count": 86
        }
      ],
      "execution_count": 86
    },
    {
      "cell_type": "code",
      "source": [
        "tokenize_data[\"train\"] = tokenize_data[\"train\"].rename_column(\"label_model\", \"labels\")\n",
        "tokenize_data[\"test\"] = tokenize_data[\"test\"].rename_column(\"label_model\", \"labels\")\n"
      ],
      "metadata": {
        "id": "PAGqcZ1o91oA"
      },
      "execution_count": 87,
      "outputs": []
    },
    {
      "cell_type": "code",
      "source": [
        "# retraining"
      ],
      "metadata": {
        "trusted": true,
        "execution": {
          "iopub.status.busy": "2025-07-03T19:44:37.901797Z",
          "iopub.execute_input": "2025-07-03T19:44:37.902451Z",
          "iopub.status.idle": "2025-07-03T19:44:37.905414Z",
          "shell.execute_reply.started": "2025-07-03T19:44:37.902430Z",
          "shell.execute_reply": "2025-07-03T19:44:37.904570Z"
        },
        "id": "vDFTXjuT5I_W"
      },
      "outputs": [],
      "execution_count": 18
    },
    {
      "cell_type": "code",
      "source": [
        "from transformers import TrainingArguments, Trainer"
      ],
      "metadata": {
        "trusted": true,
        "execution": {
          "iopub.status.busy": "2025-07-03T19:45:01.077836Z",
          "iopub.execute_input": "2025-07-03T19:45:01.078508Z",
          "iopub.status.idle": "2025-07-03T19:45:01.081995Z",
          "shell.execute_reply.started": "2025-07-03T19:45:01.078484Z",
          "shell.execute_reply": "2025-07-03T19:45:01.081130Z"
        },
        "id": "cTm8MMM35I_W"
      },
      "outputs": [],
      "execution_count": 19
    },
    {
      "cell_type": "code",
      "source": [
        "training_args = TrainingArguments(\n",
        "    output_dir=\"./results\",\n",
        "    num_train_epochs=10,\n",
        "    per_device_train_batch_size=8,\n",
        "    per_device_eval_batch_size=8,\n",
        "    eval_strategy=\"epoch\",\n",
        "    logging_dir=\"./logs\",\n",
        "    report_to=[]   ,\n",
        "\n",
        ")"
      ],
      "metadata": {
        "trusted": true,
        "execution": {
          "iopub.status.busy": "2025-07-03T19:50:19.100144Z",
          "iopub.execute_input": "2025-07-03T19:50:19.100899Z",
          "iopub.status.idle": "2025-07-03T19:50:19.129158Z",
          "shell.execute_reply.started": "2025-07-03T19:50:19.100871Z",
          "shell.execute_reply": "2025-07-03T19:50:19.128426Z"
        },
        "id": "mq5ZXv_C5I_W"
      },
      "outputs": [],
      "execution_count": 99
    },
    {
      "cell_type": "code",
      "source": [
        "trainer = Trainer(\n",
        "    model=model,\n",
        "    args=training_args,\n",
        "    train_dataset=tokenize_data['train'],\n",
        "    eval_dataset=tokenize_data['test'],\n",
        "    tokenizer=tokenizer,\n",
        ")"
      ],
      "metadata": {
        "trusted": true,
        "execution": {
          "iopub.status.busy": "2025-07-03T19:50:22.354948Z",
          "iopub.execute_input": "2025-07-03T19:50:22.355230Z",
          "iopub.status.idle": "2025-07-03T19:50:22.367802Z",
          "shell.execute_reply.started": "2025-07-03T19:50:22.355211Z",
          "shell.execute_reply": "2025-07-03T19:50:22.367040Z"
        },
        "colab": {
          "base_uri": "https://localhost:8080/"
        },
        "id": "s00v8RaU5I_X",
        "outputId": "68601aba-60fb-48bc-cd41-32cae407f7f4"
      },
      "outputs": [
        {
          "output_type": "stream",
          "name": "stderr",
          "text": [
            "/tmp/ipython-input-100-3604402715.py:1: FutureWarning: `tokenizer` is deprecated and will be removed in version 5.0.0 for `Trainer.__init__`. Use `processing_class` instead.\n",
            "  trainer = Trainer(\n"
          ]
        }
      ],
      "execution_count": 100
    },
    {
      "cell_type": "code",
      "source": [
        "trainer.train()"
      ],
      "metadata": {
        "trusted": true,
        "execution": {
          "iopub.status.busy": "2025-07-03T19:51:15.507825Z",
          "iopub.execute_input": "2025-07-03T19:51:15.508115Z"
        },
        "colab": {
          "base_uri": "https://localhost:8080/",
          "height": 423
        },
        "id": "HIRe2FQF5I_X",
        "outputId": "753b562c-edf7-4cd6-d61a-a5d1d795e2dc"
      },
      "outputs": [
        {
          "output_type": "display_data",
          "data": {
            "text/plain": [
              "<IPython.core.display.HTML object>"
            ],
            "text/html": [
              "\n",
              "    <div>\n",
              "      \n",
              "      <progress value='270' max='270' style='width:300px; height:20px; vertical-align: middle;'></progress>\n",
              "      [270/270 02:11, Epoch 10/10]\n",
              "    </div>\n",
              "    <table border=\"1\" class=\"dataframe\">\n",
              "  <thead>\n",
              " <tr style=\"text-align: left;\">\n",
              "      <th>Epoch</th>\n",
              "      <th>Training Loss</th>\n",
              "      <th>Validation Loss</th>\n",
              "    </tr>\n",
              "  </thead>\n",
              "  <tbody>\n",
              "    <tr>\n",
              "      <td>1</td>\n",
              "      <td>No log</td>\n",
              "      <td>0.926810</td>\n",
              "    </tr>\n",
              "    <tr>\n",
              "      <td>2</td>\n",
              "      <td>No log</td>\n",
              "      <td>0.768330</td>\n",
              "    </tr>\n",
              "    <tr>\n",
              "      <td>3</td>\n",
              "      <td>No log</td>\n",
              "      <td>0.522361</td>\n",
              "    </tr>\n",
              "    <tr>\n",
              "      <td>4</td>\n",
              "      <td>No log</td>\n",
              "      <td>0.406352</td>\n",
              "    </tr>\n",
              "    <tr>\n",
              "      <td>5</td>\n",
              "      <td>No log</td>\n",
              "      <td>0.399166</td>\n",
              "    </tr>\n",
              "    <tr>\n",
              "      <td>6</td>\n",
              "      <td>No log</td>\n",
              "      <td>0.294456</td>\n",
              "    </tr>\n",
              "    <tr>\n",
              "      <td>7</td>\n",
              "      <td>No log</td>\n",
              "      <td>0.163069</td>\n",
              "    </tr>\n",
              "    <tr>\n",
              "      <td>8</td>\n",
              "      <td>No log</td>\n",
              "      <td>0.093510</td>\n",
              "    </tr>\n",
              "    <tr>\n",
              "      <td>9</td>\n",
              "      <td>No log</td>\n",
              "      <td>0.097477</td>\n",
              "    </tr>\n",
              "    <tr>\n",
              "      <td>10</td>\n",
              "      <td>No log</td>\n",
              "      <td>0.074568</td>\n",
              "    </tr>\n",
              "  </tbody>\n",
              "</table><p>"
            ]
          },
          "metadata": {}
        },
        {
          "output_type": "execute_result",
          "data": {
            "text/plain": [
              "TrainOutput(global_step=270, training_loss=0.7447123209635417, metrics={'train_runtime': 131.4286, 'train_samples_per_second': 16.359, 'train_steps_per_second': 2.054, 'total_flos': 172369125536400.0, 'train_loss': 0.7447123209635417, 'epoch': 10.0})"
            ]
          },
          "metadata": {},
          "execution_count": 101
        }
      ],
      "execution_count": 101
    },
    {
      "cell_type": "code",
      "source": [
        "predictions = trainer.predict(tokenize_data[\"test\"])\n",
        "from sklearn.metrics import classification_report\n",
        "labels_ids = list(id2label.keys())\n",
        "\n",
        "print(classification_report(\n",
        "    predictions.label_ids,\n",
        "    predictions.predictions.argmax(-1),\n",
        "    labels=labels_ids,\n",
        "    target_names=list(id2label.values())\n",
        "))"
      ],
      "metadata": {
        "colab": {
          "base_uri": "https://localhost:8080/",
          "height": 592
        },
        "id": "ZQAgri-G-c9-",
        "outputId": "04add52c-b9a9-4171-b2e0-01a29c356603"
      },
      "execution_count": 105,
      "outputs": [
        {
          "output_type": "display_data",
          "data": {
            "text/plain": [
              "<IPython.core.display.HTML object>"
            ],
            "text/html": []
          },
          "metadata": {}
        },
        {
          "output_type": "stream",
          "name": "stdout",
          "text": [
            "              precision    recall  f1-score   support\n",
            "\n",
            "     اجتماعي       1.00      1.00      1.00         1\n",
            "       سياسة       1.00      1.00      1.00         5\n",
            "      اقتصاد       1.00      1.00      1.00         1\n",
            "       رياضة       0.00      0.00      0.00         0\n",
            "   تكنولوجيا       0.00      0.00      0.00         0\n",
            "       ثقافة       0.00      0.00      0.00         0\n",
            "         صحة       0.00      0.00      0.00         0\n",
            "\n",
            "    accuracy                           1.00         7\n",
            "   macro avg       0.43      0.43      0.43         7\n",
            "weighted avg       1.00      1.00      1.00         7\n",
            "\n"
          ]
        },
        {
          "output_type": "stream",
          "name": "stderr",
          "text": [
            "/usr/local/lib/python3.11/dist-packages/sklearn/metrics/_classification.py:1565: UndefinedMetricWarning: Precision is ill-defined and being set to 0.0 in labels with no predicted samples. Use `zero_division` parameter to control this behavior.\n",
            "  _warn_prf(average, modifier, f\"{metric.capitalize()} is\", len(result))\n",
            "/usr/local/lib/python3.11/dist-packages/sklearn/metrics/_classification.py:1565: UndefinedMetricWarning: Recall is ill-defined and being set to 0.0 in labels with no true samples. Use `zero_division` parameter to control this behavior.\n",
            "  _warn_prf(average, modifier, f\"{metric.capitalize()} is\", len(result))\n",
            "/usr/local/lib/python3.11/dist-packages/sklearn/metrics/_classification.py:1565: UndefinedMetricWarning: F-score is ill-defined and being set to 0.0 in labels with no true nor predicted samples. Use `zero_division` parameter to control this behavior.\n",
            "  _warn_prf(average, modifier, f\"{metric.capitalize()} is\", len(result))\n",
            "/usr/local/lib/python3.11/dist-packages/sklearn/metrics/_classification.py:1565: UndefinedMetricWarning: Precision is ill-defined and being set to 0.0 in labels with no predicted samples. Use `zero_division` parameter to control this behavior.\n",
            "  _warn_prf(average, modifier, f\"{metric.capitalize()} is\", len(result))\n",
            "/usr/local/lib/python3.11/dist-packages/sklearn/metrics/_classification.py:1565: UndefinedMetricWarning: Recall is ill-defined and being set to 0.0 in labels with no true samples. Use `zero_division` parameter to control this behavior.\n",
            "  _warn_prf(average, modifier, f\"{metric.capitalize()} is\", len(result))\n",
            "/usr/local/lib/python3.11/dist-packages/sklearn/metrics/_classification.py:1565: UndefinedMetricWarning: F-score is ill-defined and being set to 0.0 in labels with no true nor predicted samples. Use `zero_division` parameter to control this behavior.\n",
            "  _warn_prf(average, modifier, f\"{metric.capitalize()} is\", len(result))\n",
            "/usr/local/lib/python3.11/dist-packages/sklearn/metrics/_classification.py:1565: UndefinedMetricWarning: Precision is ill-defined and being set to 0.0 in labels with no predicted samples. Use `zero_division` parameter to control this behavior.\n",
            "  _warn_prf(average, modifier, f\"{metric.capitalize()} is\", len(result))\n",
            "/usr/local/lib/python3.11/dist-packages/sklearn/metrics/_classification.py:1565: UndefinedMetricWarning: Recall is ill-defined and being set to 0.0 in labels with no true samples. Use `zero_division` parameter to control this behavior.\n",
            "  _warn_prf(average, modifier, f\"{metric.capitalize()} is\", len(result))\n",
            "/usr/local/lib/python3.11/dist-packages/sklearn/metrics/_classification.py:1565: UndefinedMetricWarning: F-score is ill-defined and being set to 0.0 in labels with no true nor predicted samples. Use `zero_division` parameter to control this behavior.\n",
            "  _warn_prf(average, modifier, f\"{metric.capitalize()} is\", len(result))\n"
          ]
        }
      ]
    },
    {
      "cell_type": "code",
      "source": [
        "trainer.save_model(\"/content/my_finetuned_model\")\n"
      ],
      "metadata": {
        "trusted": true,
        "id": "ytFGE7R15I_X"
      },
      "outputs": [],
      "execution_count": 106
    },
    {
      "cell_type": "code",
      "source": [],
      "metadata": {
        "id": "noA4AzAXKVgX"
      },
      "execution_count": null,
      "outputs": []
    }
  ]
}